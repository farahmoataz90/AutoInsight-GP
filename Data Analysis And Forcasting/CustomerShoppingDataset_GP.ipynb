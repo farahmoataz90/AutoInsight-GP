{
  "nbformat": 4,
  "nbformat_minor": 0,
  "metadata": {
    "colab": {
      "provenance": []
    },
    "kernelspec": {
      "name": "python3",
      "display_name": "Python 3"
    },
    "language_info": {
      "name": "python"
    }
  },
  "cells": [
    {
      "cell_type": "markdown",
      "source": [
        "# **Importing the libraries**"
      ],
      "metadata": {
        "id": "wEyZNUicBxke"
      }
    },
    {
      "cell_type": "code",
      "execution_count": 24,
      "metadata": {
        "id": "LyQOKQzm4HGa"
      },
      "outputs": [],
      "source": [
        "# Data Handling\n",
        "import pandas as pd                  # Data manipulation and analysis\n",
        "import numpy as np                   # Numerical operations\n",
        "\n",
        "# Data Visualization\n",
        "import matplotlib.pyplot as plt       # Basic plotting\n",
        "import seaborn as sns                 # Statistical data visualization\n",
        "import plotly.express as px           # Interactive plots\n",
        "import plotly.graph_objects as go     # Custom interactive plots\n",
        "import polars as pl                   # Fast DataFrame library, alternative to pandas for big data\n",
        "\n",
        "# Machine Learning - Models\n",
        "from sklearn.linear_model import LinearRegression, LogisticRegression  # Linear models\n",
        "from sklearn.tree import DecisionTreeClassifier                        # Decision Trees\n",
        "from sklearn.ensemble import RandomForestClassifier, GradientBoostingClassifier  # Ensembles\n",
        "from sklearn.cluster import KMeans, DBSCAN                            # Clustering\n",
        "from sklearn.svm import SVC                                            # Support Vector Classifier\n",
        "from sklearn.neighbors import KNeighborsClassifier                     # K-Nearest Neighbors\n",
        "from xgboost import XGBClassifier                                      # Gradient Boosting (XGBoost)\n",
        "from lightgbm import LGBMClassifier                                    # Gradient Boosting (LightGBM)\n",
        "\n",
        "# Machine Learning - Preprocessing and Metrics\n",
        "from sklearn.model_selection import train_test_split, GridSearchCV     # Splitting and model tuning\n",
        "from sklearn.preprocessing import StandardScaler, LabelEncoder         # Scaling and encoding\n",
        "from sklearn.metrics import accuracy_score, confusion_matrix, classification_report  # Metrics\n",
        "from sklearn.impute import SimpleImputer                               # Handling missing values\n",
        "\n",
        "# Additional EDA Libraries\n",
        "from scipy import stats              # Statistical analysis\n",
        "import missingno as msno             # Visualize missing values\n"
      ]
    },
    {
      "cell_type": "markdown",
      "source": [
        "# **Data Preprocessing**"
      ],
      "metadata": {
        "id": "7E7UZQzIDWgb"
      }
    },
    {
      "cell_type": "markdown",
      "source": [
        "# Step 1 : Reading the data"
      ],
      "metadata": {
        "id": "tPlEINXJHAYy"
      }
    },
    {
      "cell_type": "code",
      "source": [
        "df = pl.read_csv(\"/content/customer_shopping_data.csv\")\n",
        "df"
      ],
      "metadata": {
        "colab": {
          "base_uri": "https://localhost:8080/",
          "height": 443
        },
        "id": "A0VzqRkPDbZl",
        "outputId": "537dbbcf-29d7-4857-d13f-1473dba28f1d"
      },
      "execution_count": 25,
      "outputs": [
        {
          "output_type": "execute_result",
          "data": {
            "text/plain": [
              "shape: (99_457, 10)\n",
              "┌────────────┬─────────────┬────────┬─────┬───┬─────────┬──────────────┬─────────────┬─────────────┐\n",
              "│ invoice_no ┆ customer_id ┆ gender ┆ age ┆ … ┆ price   ┆ payment_meth ┆ invoice_dat ┆ shopping_ma │\n",
              "│ ---        ┆ ---         ┆ ---    ┆ --- ┆   ┆ ---     ┆ od           ┆ e           ┆ ll          │\n",
              "│ str        ┆ str         ┆ str    ┆ i64 ┆   ┆ f64     ┆ ---          ┆ ---         ┆ ---         │\n",
              "│            ┆             ┆        ┆     ┆   ┆         ┆ str          ┆ str         ┆ str         │\n",
              "╞════════════╪═════════════╪════════╪═════╪═══╪═════════╪══════════════╪═════════════╪═════════════╡\n",
              "│ I138884    ┆ C241288     ┆ Female ┆ 28  ┆ … ┆ 1500.4  ┆ Credit Card  ┆ 5/8/2022    ┆ Kanyon      │\n",
              "│ I317333    ┆ C111565     ┆ Male   ┆ 21  ┆ … ┆ 1800.51 ┆ Debit Card   ┆ 12/12/2021  ┆ Forum       │\n",
              "│            ┆             ┆        ┆     ┆   ┆         ┆              ┆             ┆ Istanbul    │\n",
              "│ I127801    ┆ C266599     ┆ Male   ┆ 20  ┆ … ┆ 300.08  ┆ Cash         ┆ 9/11/2021   ┆ Metrocity   │\n",
              "│ I173702    ┆ C988172     ┆ Female ┆ 66  ┆ … ┆ 3000.85 ┆ Credit Card  ┆ 16/05/2021  ┆ Metropol    │\n",
              "│            ┆             ┆        ┆     ┆   ┆         ┆              ┆             ┆ AVM         │\n",
              "│ I337046    ┆ C189076     ┆ Female ┆ 53  ┆ … ┆ 60.6    ┆ Cash         ┆ 24/10/2021  ┆ Kanyon      │\n",
              "│ …          ┆ …           ┆ …      ┆ …   ┆ … ┆ …       ┆ …            ┆ …           ┆ …           │\n",
              "│ I219422    ┆ C441542     ┆ Female ┆ 45  ┆ … ┆ 58.65   ┆ Credit Card  ┆ 21/09/2022  ┆ Kanyon      │\n",
              "│ I325143    ┆ C569580     ┆ Male   ┆ 27  ┆ … ┆ 10.46   ┆ Cash         ┆ 22/09/2021  ┆ Forum       │\n",
              "│            ┆             ┆        ┆     ┆   ┆         ┆              ┆             ┆ Istanbul    │\n",
              "│ I824010    ┆ C103292     ┆ Male   ┆ 63  ┆ … ┆ 10.46   ┆ Debit Card   ┆ 28/03/2021  ┆ Metrocity   │\n",
              "│ I702964    ┆ C800631     ┆ Male   ┆ 56  ┆ … ┆ 4200.0  ┆ Cash         ┆ 16/03/2021  ┆ Istinye     │\n",
              "│            ┆             ┆        ┆     ┆   ┆         ┆              ┆             ┆ Park        │\n",
              "│ I232867    ┆ C273973     ┆ Female ┆ 36  ┆ … ┆ 35.19   ┆ Credit Card  ┆ 15/10/2022  ┆ Mall of     │\n",
              "│            ┆             ┆        ┆     ┆   ┆         ┆              ┆             ┆ Istanbul    │\n",
              "└────────────┴─────────────┴────────┴─────┴───┴─────────┴──────────────┴─────────────┴─────────────┘"
            ],
            "text/html": [
              "<div><style>\n",
              ".dataframe > thead > tr,\n",
              ".dataframe > tbody > tr {\n",
              "  text-align: right;\n",
              "  white-space: pre-wrap;\n",
              "}\n",
              "</style>\n",
              "<small>shape: (99_457, 10)</small><table border=\"1\" class=\"dataframe\"><thead><tr><th>invoice_no</th><th>customer_id</th><th>gender</th><th>age</th><th>category</th><th>quantity</th><th>price</th><th>payment_method</th><th>invoice_date</th><th>shopping_mall</th></tr><tr><td>str</td><td>str</td><td>str</td><td>i64</td><td>str</td><td>i64</td><td>f64</td><td>str</td><td>str</td><td>str</td></tr></thead><tbody><tr><td>&quot;I138884&quot;</td><td>&quot;C241288&quot;</td><td>&quot;Female&quot;</td><td>28</td><td>&quot;Clothing&quot;</td><td>5</td><td>1500.4</td><td>&quot;Credit Card&quot;</td><td>&quot;5/8/2022&quot;</td><td>&quot;Kanyon&quot;</td></tr><tr><td>&quot;I317333&quot;</td><td>&quot;C111565&quot;</td><td>&quot;Male&quot;</td><td>21</td><td>&quot;Shoes&quot;</td><td>3</td><td>1800.51</td><td>&quot;Debit Card&quot;</td><td>&quot;12/12/2021&quot;</td><td>&quot;Forum Istanbul&quot;</td></tr><tr><td>&quot;I127801&quot;</td><td>&quot;C266599&quot;</td><td>&quot;Male&quot;</td><td>20</td><td>&quot;Clothing&quot;</td><td>1</td><td>300.08</td><td>&quot;Cash&quot;</td><td>&quot;9/11/2021&quot;</td><td>&quot;Metrocity&quot;</td></tr><tr><td>&quot;I173702&quot;</td><td>&quot;C988172&quot;</td><td>&quot;Female&quot;</td><td>66</td><td>&quot;Shoes&quot;</td><td>5</td><td>3000.85</td><td>&quot;Credit Card&quot;</td><td>&quot;16/05/2021&quot;</td><td>&quot;Metropol AVM&quot;</td></tr><tr><td>&quot;I337046&quot;</td><td>&quot;C189076&quot;</td><td>&quot;Female&quot;</td><td>53</td><td>&quot;Books&quot;</td><td>4</td><td>60.6</td><td>&quot;Cash&quot;</td><td>&quot;24/10/2021&quot;</td><td>&quot;Kanyon&quot;</td></tr><tr><td>&hellip;</td><td>&hellip;</td><td>&hellip;</td><td>&hellip;</td><td>&hellip;</td><td>&hellip;</td><td>&hellip;</td><td>&hellip;</td><td>&hellip;</td><td>&hellip;</td></tr><tr><td>&quot;I219422&quot;</td><td>&quot;C441542&quot;</td><td>&quot;Female&quot;</td><td>45</td><td>&quot;Souvenir&quot;</td><td>5</td><td>58.65</td><td>&quot;Credit Card&quot;</td><td>&quot;21/09/2022&quot;</td><td>&quot;Kanyon&quot;</td></tr><tr><td>&quot;I325143&quot;</td><td>&quot;C569580&quot;</td><td>&quot;Male&quot;</td><td>27</td><td>&quot;Food &amp; Beverage&quot;</td><td>2</td><td>10.46</td><td>&quot;Cash&quot;</td><td>&quot;22/09/2021&quot;</td><td>&quot;Forum Istanbul&quot;</td></tr><tr><td>&quot;I824010&quot;</td><td>&quot;C103292&quot;</td><td>&quot;Male&quot;</td><td>63</td><td>&quot;Food &amp; Beverage&quot;</td><td>2</td><td>10.46</td><td>&quot;Debit Card&quot;</td><td>&quot;28/03/2021&quot;</td><td>&quot;Metrocity&quot;</td></tr><tr><td>&quot;I702964&quot;</td><td>&quot;C800631&quot;</td><td>&quot;Male&quot;</td><td>56</td><td>&quot;Technology&quot;</td><td>4</td><td>4200.0</td><td>&quot;Cash&quot;</td><td>&quot;16/03/2021&quot;</td><td>&quot;Istinye Park&quot;</td></tr><tr><td>&quot;I232867&quot;</td><td>&quot;C273973&quot;</td><td>&quot;Female&quot;</td><td>36</td><td>&quot;Souvenir&quot;</td><td>3</td><td>35.19</td><td>&quot;Credit Card&quot;</td><td>&quot;15/10/2022&quot;</td><td>&quot;Mall of Istanbul&quot;</td></tr></tbody></table></div>"
            ]
          },
          "metadata": {},
          "execution_count": 25
        }
      ]
    },
    {
      "cell_type": "markdown",
      "source": [
        "# Step 2: Data Profiling"
      ],
      "metadata": {
        "id": "jmqq_lSPHW-H"
      }
    },
    {
      "cell_type": "code",
      "source": [
        "df.describe()"
      ],
      "metadata": {
        "colab": {
          "base_uri": "https://localhost:8080/",
          "height": 380
        },
        "id": "sH3jWrtCHZWJ",
        "outputId": "8555d602-83c4-4fb7-cc5b-9dffad69422b"
      },
      "execution_count": 26,
      "outputs": [
        {
          "output_type": "execute_result",
          "data": {
            "text/plain": [
              "shape: (9, 11)\n",
              "┌────────────┬────────────┬───────────┬────────┬───┬───────────┬───────────┬───────────┬───────────┐\n",
              "│ statistic  ┆ invoice_no ┆ customer_ ┆ gender ┆ … ┆ price     ┆ payment_m ┆ invoice_d ┆ shopping_ │\n",
              "│ ---        ┆ ---        ┆ id        ┆ ---    ┆   ┆ ---       ┆ ethod     ┆ ate       ┆ mall      │\n",
              "│ str        ┆ str        ┆ ---       ┆ str    ┆   ┆ f64       ┆ ---       ┆ ---       ┆ ---       │\n",
              "│            ┆            ┆ str       ┆        ┆   ┆           ┆ str       ┆ str       ┆ str       │\n",
              "╞════════════╪════════════╪═══════════╪════════╪═══╪═══════════╪═══════════╪═══════════╪═══════════╡\n",
              "│ count      ┆ 99457      ┆ 99457     ┆ 99457  ┆ … ┆ 99457.0   ┆ 99457     ┆ 99457     ┆ 99457     │\n",
              "│ null_count ┆ 0          ┆ 0         ┆ 0      ┆ … ┆ 0.0       ┆ 0         ┆ 0         ┆ 0         │\n",
              "│ mean       ┆ null       ┆ null      ┆ null   ┆ … ┆ 689.25632 ┆ null      ┆ null      ┆ null      │\n",
              "│            ┆            ┆           ┆        ┆   ┆ 1         ┆           ┆           ┆           │\n",
              "│ std        ┆ null       ┆ null      ┆ null   ┆ … ┆ 941.18456 ┆ null      ┆ null      ┆ null      │\n",
              "│            ┆            ┆           ┆        ┆   ┆ 7         ┆           ┆           ┆           │\n",
              "│ min        ┆ I100008    ┆ C100004   ┆ Female ┆ … ┆ 5.23      ┆ Cash      ┆ 1/1/2021  ┆ Cevahir   │\n",
              "│            ┆            ┆           ┆        ┆   ┆           ┆           ┆           ┆ AVM       │\n",
              "│ 25%        ┆ null       ┆ null      ┆ null   ┆ … ┆ 45.45     ┆ null      ┆ null      ┆ null      │\n",
              "│ 50%        ┆ null       ┆ null      ┆ null   ┆ … ┆ 203.3     ┆ null      ┆ null      ┆ null      │\n",
              "│ 75%        ┆ null       ┆ null      ┆ null   ┆ … ┆ 1200.32   ┆ null      ┆ null      ┆ null      │\n",
              "│ max        ┆ I999994    ┆ C999995   ┆ Male   ┆ … ┆ 5250.0    ┆ Debit     ┆ 9/9/2022  ┆ Zorlu     │\n",
              "│            ┆            ┆           ┆        ┆   ┆           ┆ Card      ┆           ┆ Center    │\n",
              "└────────────┴────────────┴───────────┴────────┴───┴───────────┴───────────┴───────────┴───────────┘"
            ],
            "text/html": [
              "<div><style>\n",
              ".dataframe > thead > tr,\n",
              ".dataframe > tbody > tr {\n",
              "  text-align: right;\n",
              "  white-space: pre-wrap;\n",
              "}\n",
              "</style>\n",
              "<small>shape: (9, 11)</small><table border=\"1\" class=\"dataframe\"><thead><tr><th>statistic</th><th>invoice_no</th><th>customer_id</th><th>gender</th><th>age</th><th>category</th><th>quantity</th><th>price</th><th>payment_method</th><th>invoice_date</th><th>shopping_mall</th></tr><tr><td>str</td><td>str</td><td>str</td><td>str</td><td>f64</td><td>str</td><td>f64</td><td>f64</td><td>str</td><td>str</td><td>str</td></tr></thead><tbody><tr><td>&quot;count&quot;</td><td>&quot;99457&quot;</td><td>&quot;99457&quot;</td><td>&quot;99457&quot;</td><td>99457.0</td><td>&quot;99457&quot;</td><td>99457.0</td><td>99457.0</td><td>&quot;99457&quot;</td><td>&quot;99457&quot;</td><td>&quot;99457&quot;</td></tr><tr><td>&quot;null_count&quot;</td><td>&quot;0&quot;</td><td>&quot;0&quot;</td><td>&quot;0&quot;</td><td>0.0</td><td>&quot;0&quot;</td><td>0.0</td><td>0.0</td><td>&quot;0&quot;</td><td>&quot;0&quot;</td><td>&quot;0&quot;</td></tr><tr><td>&quot;mean&quot;</td><td>null</td><td>null</td><td>null</td><td>43.427089</td><td>null</td><td>3.003429</td><td>689.256321</td><td>null</td><td>null</td><td>null</td></tr><tr><td>&quot;std&quot;</td><td>null</td><td>null</td><td>null</td><td>14.990054</td><td>null</td><td>1.413025</td><td>941.184567</td><td>null</td><td>null</td><td>null</td></tr><tr><td>&quot;min&quot;</td><td>&quot;I100008&quot;</td><td>&quot;C100004&quot;</td><td>&quot;Female&quot;</td><td>18.0</td><td>&quot;Books&quot;</td><td>1.0</td><td>5.23</td><td>&quot;Cash&quot;</td><td>&quot;1/1/2021&quot;</td><td>&quot;Cevahir AVM&quot;</td></tr><tr><td>&quot;25%&quot;</td><td>null</td><td>null</td><td>null</td><td>30.0</td><td>null</td><td>2.0</td><td>45.45</td><td>null</td><td>null</td><td>null</td></tr><tr><td>&quot;50%&quot;</td><td>null</td><td>null</td><td>null</td><td>43.0</td><td>null</td><td>3.0</td><td>203.3</td><td>null</td><td>null</td><td>null</td></tr><tr><td>&quot;75%&quot;</td><td>null</td><td>null</td><td>null</td><td>56.0</td><td>null</td><td>4.0</td><td>1200.32</td><td>null</td><td>null</td><td>null</td></tr><tr><td>&quot;max&quot;</td><td>&quot;I999994&quot;</td><td>&quot;C999995&quot;</td><td>&quot;Male&quot;</td><td>69.0</td><td>&quot;Toys&quot;</td><td>5.0</td><td>5250.0</td><td>&quot;Debit Card&quot;</td><td>&quot;9/9/2022&quot;</td><td>&quot;Zorlu Center&quot;</td></tr></tbody></table></div>"
            ]
          },
          "metadata": {},
          "execution_count": 26
        }
      ]
    },
    {
      "cell_type": "markdown",
      "source": [
        "# Step 3: Data Cleansing"
      ],
      "metadata": {
        "id": "3b2YnlFkIWu2"
      }
    },
    {
      "cell_type": "markdown",
      "source": [
        "# 1. Remove duplicates if there are any"
      ],
      "metadata": {
        "id": "_oXgAc1oIdjj"
      }
    },
    {
      "cell_type": "code",
      "source": [
        "df = df.unique(subset=['invoice_no'])"
      ],
      "metadata": {
        "id": "kpga10q6IZLt"
      },
      "execution_count": 27,
      "outputs": []
    },
    {
      "cell_type": "markdown",
      "source": [
        "# 2. Handle missing values by imputing or removing"
      ],
      "metadata": {
        "id": "fESg69luI2a5"
      }
    },
    {
      "cell_type": "code",
      "source": [
        "# Fill missing categorical columns with mode, numerical columns with median\n",
        "df = df.with_columns([\n",
        "    pl.col(\"gender\").fill_null(pl.col(\"gender\").mode()),\n",
        "    pl.col(\"age\").fill_null(pl.col(\"age\").median()),\n",
        "    pl.col(\"price\").fill_null(pl.col(\"price\").median()),\n",
        "    pl.col(\"payment_method\").fill_null(\"Unknown\"),\n",
        "    pl.col(\"category\").fill_null(\"Unknown\"),\n",
        "    pl.col(\"shopping_mall\").fill_null(\"Unknown\")\n",
        "])"
      ],
      "metadata": {
        "id": "N7FSrCceI3Nk"
      },
      "execution_count": 28,
      "outputs": []
    },
    {
      "cell_type": "code",
      "source": [
        "df.null_count()"
      ],
      "metadata": {
        "colab": {
          "base_uri": "https://localhost:8080/",
          "height": 130
        },
        "id": "QypgjWUGJMjn",
        "outputId": "74a1bf34-fa4e-4e84-d7e0-006f0fd2f59f"
      },
      "execution_count": 29,
      "outputs": [
        {
          "output_type": "execute_result",
          "data": {
            "text/plain": [
              "shape: (1, 10)\n",
              "┌────────────┬─────────────┬────────┬─────┬───┬───────┬──────────────┬──────────────┬──────────────┐\n",
              "│ invoice_no ┆ customer_id ┆ gender ┆ age ┆ … ┆ price ┆ payment_meth ┆ invoice_date ┆ shopping_mal │\n",
              "│ ---        ┆ ---         ┆ ---    ┆ --- ┆   ┆ ---   ┆ od           ┆ ---          ┆ l            │\n",
              "│ u32        ┆ u32         ┆ u32    ┆ u32 ┆   ┆ u32   ┆ ---          ┆ u32          ┆ ---          │\n",
              "│            ┆             ┆        ┆     ┆   ┆       ┆ u32          ┆              ┆ u32          │\n",
              "╞════════════╪═════════════╪════════╪═════╪═══╪═══════╪══════════════╪══════════════╪══════════════╡\n",
              "│ 0          ┆ 0           ┆ 0      ┆ 0   ┆ … ┆ 0     ┆ 0            ┆ 0            ┆ 0            │\n",
              "└────────────┴─────────────┴────────┴─────┴───┴───────┴──────────────┴──────────────┴──────────────┘"
            ],
            "text/html": [
              "<div><style>\n",
              ".dataframe > thead > tr,\n",
              ".dataframe > tbody > tr {\n",
              "  text-align: right;\n",
              "  white-space: pre-wrap;\n",
              "}\n",
              "</style>\n",
              "<small>shape: (1, 10)</small><table border=\"1\" class=\"dataframe\"><thead><tr><th>invoice_no</th><th>customer_id</th><th>gender</th><th>age</th><th>category</th><th>quantity</th><th>price</th><th>payment_method</th><th>invoice_date</th><th>shopping_mall</th></tr><tr><td>u32</td><td>u32</td><td>u32</td><td>u32</td><td>u32</td><td>u32</td><td>u32</td><td>u32</td><td>u32</td><td>u32</td></tr></thead><tbody><tr><td>0</td><td>0</td><td>0</td><td>0</td><td>0</td><td>0</td><td>0</td><td>0</td><td>0</td><td>0</td></tr></tbody></table></div>"
            ]
          },
          "metadata": {},
          "execution_count": 29
        }
      ]
    },
    {
      "cell_type": "markdown",
      "source": [
        "# Step 4: Data Transformation"
      ],
      "metadata": {
        "id": "CFP9eyYCJX3M"
      }
    },
    {
      "cell_type": "code",
      "source": [
        "df = df.with_columns(\n",
        "    pl.col(\"invoice_date\").str.strptime(pl.Date, \"%d/%m/%Y\")\n",
        ")"
      ],
      "metadata": {
        "id": "X0bKyNjVJkbl"
      },
      "execution_count": 30,
      "outputs": []
    },
    {
      "cell_type": "code",
      "source": [
        "df"
      ],
      "metadata": {
        "colab": {
          "base_uri": "https://localhost:8080/",
          "height": 443
        },
        "id": "dDfPPHYuKX6V",
        "outputId": "c2cf4391-ef5b-4e97-ceec-2e71a70702fc"
      },
      "execution_count": 31,
      "outputs": [
        {
          "output_type": "execute_result",
          "data": {
            "text/plain": [
              "shape: (99_457, 10)\n",
              "┌────────────┬─────────────┬────────┬──────┬───┬────────┬──────────────┬─────────────┬─────────────┐\n",
              "│ invoice_no ┆ customer_id ┆ gender ┆ age  ┆ … ┆ price  ┆ payment_meth ┆ invoice_dat ┆ shopping_ma │\n",
              "│ ---        ┆ ---         ┆ ---    ┆ ---  ┆   ┆ ---    ┆ od           ┆ e           ┆ ll          │\n",
              "│ str        ┆ str         ┆ str    ┆ f64  ┆   ┆ f64    ┆ ---          ┆ ---         ┆ ---         │\n",
              "│            ┆             ┆        ┆      ┆   ┆        ┆ str          ┆ date        ┆ str         │\n",
              "╞════════════╪═════════════╪════════╪══════╪═══╪════════╪══════════════╪═════════════╪═════════════╡\n",
              "│ I502055    ┆ C801479     ┆ Female ┆ 40.0 ┆ … ┆ 107.52 ┆ Cash         ┆ 2022-02-28  ┆ Cevahir AVM │\n",
              "│ I518072    ┆ C217408     ┆ Male   ┆ 19.0 ┆ … ┆ 1500.4 ┆ Debit Card   ┆ 2021-05-04  ┆ Mall of     │\n",
              "│            ┆             ┆        ┆      ┆   ┆        ┆              ┆             ┆ Istanbul    │\n",
              "│ I640144    ┆ C162081     ┆ Female ┆ 41.0 ┆ … ┆ 179.2  ┆ Credit Card  ┆ 2022-06-08  ┆ Metropol    │\n",
              "│            ┆             ┆        ┆      ┆   ┆        ┆              ┆             ┆ AVM         │\n",
              "│ I297614    ┆ C324311     ┆ Male   ┆ 56.0 ┆ … ┆ 300.08 ┆ Cash         ┆ 2023-02-07  ┆ Mall of     │\n",
              "│            ┆             ┆        ┆      ┆   ┆        ┆              ┆             ┆ Istanbul    │\n",
              "│ I549751    ┆ C137405     ┆ Male   ┆ 48.0 ┆ … ┆ 35.19  ┆ Cash         ┆ 2021-05-27  ┆ Kanyon      │\n",
              "│ …          ┆ …           ┆ …      ┆ …    ┆ … ┆ …      ┆ …            ┆ …           ┆ …           │\n",
              "│ I153981    ┆ C891871     ┆ Female ┆ 54.0 ┆ … ┆ 900.24 ┆ Debit Card   ┆ 2022-11-04  ┆ Viaport     │\n",
              "│            ┆             ┆        ┆      ┆   ┆        ┆              ┆             ┆ Outlet      │\n",
              "│ I241275    ┆ C258334     ┆ Male   ┆ 22.0 ┆ … ┆ 162.64 ┆ Cash         ┆ 2022-06-18  ┆ Istinye     │\n",
              "│            ┆             ┆        ┆      ┆   ┆        ┆              ┆             ┆ Park        │\n",
              "│ I104069    ┆ C300457     ┆ Female ┆ 33.0 ┆ … ┆ 40.66  ┆ Credit Card  ┆ 2021-12-19  ┆ Zorlu       │\n",
              "│            ┆             ┆        ┆      ┆   ┆        ┆              ┆             ┆ Center      │\n",
              "│ I259343    ┆ C416091     ┆ Female ┆ 52.0 ┆ … ┆ 162.64 ┆ Credit Card  ┆ 2021-03-02  ┆ Mall of     │\n",
              "│            ┆             ┆        ┆      ┆   ┆        ┆              ┆             ┆ Istanbul    │\n",
              "│ I316762    ┆ C937282     ┆ Female ┆ 67.0 ┆ … ┆ 35.84  ┆ Cash         ┆ 2021-09-16  ┆ Zorlu       │\n",
              "│            ┆             ┆        ┆      ┆   ┆        ┆              ┆             ┆ Center      │\n",
              "└────────────┴─────────────┴────────┴──────┴───┴────────┴──────────────┴─────────────┴─────────────┘"
            ],
            "text/html": [
              "<div><style>\n",
              ".dataframe > thead > tr,\n",
              ".dataframe > tbody > tr {\n",
              "  text-align: right;\n",
              "  white-space: pre-wrap;\n",
              "}\n",
              "</style>\n",
              "<small>shape: (99_457, 10)</small><table border=\"1\" class=\"dataframe\"><thead><tr><th>invoice_no</th><th>customer_id</th><th>gender</th><th>age</th><th>category</th><th>quantity</th><th>price</th><th>payment_method</th><th>invoice_date</th><th>shopping_mall</th></tr><tr><td>str</td><td>str</td><td>str</td><td>f64</td><td>str</td><td>i64</td><td>f64</td><td>str</td><td>date</td><td>str</td></tr></thead><tbody><tr><td>&quot;I502055&quot;</td><td>&quot;C801479&quot;</td><td>&quot;Female&quot;</td><td>40.0</td><td>&quot;Toys&quot;</td><td>3</td><td>107.52</td><td>&quot;Cash&quot;</td><td>2022-02-28</td><td>&quot;Cevahir AVM&quot;</td></tr><tr><td>&quot;I518072&quot;</td><td>&quot;C217408&quot;</td><td>&quot;Male&quot;</td><td>19.0</td><td>&quot;Clothing&quot;</td><td>5</td><td>1500.4</td><td>&quot;Debit Card&quot;</td><td>2021-05-04</td><td>&quot;Mall of Istanbul&quot;</td></tr><tr><td>&quot;I640144&quot;</td><td>&quot;C162081&quot;</td><td>&quot;Female&quot;</td><td>41.0</td><td>&quot;Toys&quot;</td><td>5</td><td>179.2</td><td>&quot;Credit Card&quot;</td><td>2022-06-08</td><td>&quot;Metropol AVM&quot;</td></tr><tr><td>&quot;I297614&quot;</td><td>&quot;C324311&quot;</td><td>&quot;Male&quot;</td><td>56.0</td><td>&quot;Clothing&quot;</td><td>1</td><td>300.08</td><td>&quot;Cash&quot;</td><td>2023-02-07</td><td>&quot;Mall of Istanbul&quot;</td></tr><tr><td>&quot;I549751&quot;</td><td>&quot;C137405&quot;</td><td>&quot;Male&quot;</td><td>48.0</td><td>&quot;Souvenir&quot;</td><td>3</td><td>35.19</td><td>&quot;Cash&quot;</td><td>2021-05-27</td><td>&quot;Kanyon&quot;</td></tr><tr><td>&hellip;</td><td>&hellip;</td><td>&hellip;</td><td>&hellip;</td><td>&hellip;</td><td>&hellip;</td><td>&hellip;</td><td>&hellip;</td><td>&hellip;</td><td>&hellip;</td></tr><tr><td>&quot;I153981&quot;</td><td>&quot;C891871&quot;</td><td>&quot;Female&quot;</td><td>54.0</td><td>&quot;Clothing&quot;</td><td>3</td><td>900.24</td><td>&quot;Debit Card&quot;</td><td>2022-11-04</td><td>&quot;Viaport Outlet&quot;</td></tr><tr><td>&quot;I241275&quot;</td><td>&quot;C258334&quot;</td><td>&quot;Male&quot;</td><td>22.0</td><td>&quot;Cosmetics&quot;</td><td>4</td><td>162.64</td><td>&quot;Cash&quot;</td><td>2022-06-18</td><td>&quot;Istinye Park&quot;</td></tr><tr><td>&quot;I104069&quot;</td><td>&quot;C300457&quot;</td><td>&quot;Female&quot;</td><td>33.0</td><td>&quot;Cosmetics&quot;</td><td>1</td><td>40.66</td><td>&quot;Credit Card&quot;</td><td>2021-12-19</td><td>&quot;Zorlu Center&quot;</td></tr><tr><td>&quot;I259343&quot;</td><td>&quot;C416091&quot;</td><td>&quot;Female&quot;</td><td>52.0</td><td>&quot;Cosmetics&quot;</td><td>4</td><td>162.64</td><td>&quot;Credit Card&quot;</td><td>2021-03-02</td><td>&quot;Mall of Istanbul&quot;</td></tr><tr><td>&quot;I316762&quot;</td><td>&quot;C937282&quot;</td><td>&quot;Female&quot;</td><td>67.0</td><td>&quot;Toys&quot;</td><td>1</td><td>35.84</td><td>&quot;Cash&quot;</td><td>2021-09-16</td><td>&quot;Zorlu Center&quot;</td></tr></tbody></table></div>"
            ]
          },
          "metadata": {},
          "execution_count": 31
        }
      ]
    },
    {
      "cell_type": "markdown",
      "source": [
        "# 2. Create new columns if needed for analysis"
      ],
      "metadata": {
        "id": "i-mA52DDKrnE"
      }
    },
    {
      "cell_type": "code",
      "source": [
        "df = df.with_columns(\n",
        "    (pl.col(\"quantity\") * pl.col(\"price\")).alias(\"total_spent\")\n",
        ")"
      ],
      "metadata": {
        "id": "tU6HVCHAKsbj"
      },
      "execution_count": 33,
      "outputs": []
    }
  ]
}