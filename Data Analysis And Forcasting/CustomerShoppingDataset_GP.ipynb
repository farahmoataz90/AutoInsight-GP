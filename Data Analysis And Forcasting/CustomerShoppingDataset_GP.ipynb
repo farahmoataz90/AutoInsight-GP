{
  "nbformat": 4,
  "nbformat_minor": 0,
  "metadata": {
    "colab": {
      "provenance": []
    },
    "kernelspec": {
      "name": "python3",
      "display_name": "Python 3"
    },
    "language_info": {
      "name": "python"
    }
  },
  "cells": [
    {
      "cell_type": "markdown",
      "source": [
        "# **Importing the libraries**"
      ],
      "metadata": {
        "id": "wEyZNUicBxke"
      }
    },
    {
      "cell_type": "code",
      "execution_count": 86,
      "metadata": {
        "id": "LyQOKQzm4HGa"
      },
      "outputs": [],
      "source": [
        "# Data Handling\n",
        "import pandas as pd                  # Data manipulation and analysis\n",
        "import numpy as np                   # Numerical operations\n",
        "\n",
        "# Data Visualization\n",
        "import matplotlib.pyplot as plt       # Basic plotting\n",
        "import seaborn as sns                 # Statistical data visualization\n",
        "import plotly.express as px           # Interactive plots\n",
        "import plotly.graph_objects as go     # Custom interactive plots\n",
        "import polars as pl                   # Fast DataFrame library, alternative to pandas for big data\n",
        "\n",
        "# Machine Learning - Models\n",
        "from sklearn.linear_model import LinearRegression, LogisticRegression  # Linear models\n",
        "from sklearn.tree import DecisionTreeClassifier                        # Decision Trees\n",
        "from sklearn.ensemble import RandomForestClassifier, GradientBoostingClassifier  # Ensembles\n",
        "from sklearn.cluster import KMeans, DBSCAN                            # Clustering\n",
        "from sklearn.svm import SVC                                            # Support Vector Classifier\n",
        "from sklearn.neighbors import KNeighborsClassifier                     # K-Nearest Neighbors\n",
        "from xgboost import XGBClassifier                                      # Gradient Boosting (XGBoost)\n",
        "from lightgbm import LGBMClassifier                                    # Gradient Boosting (LightGBM)\n",
        "\n",
        "# Machine Learning - Preprocessing and Metrics\n",
        "from sklearn.model_selection import train_test_split, GridSearchCV     # Splitting and model tuning\n",
        "from sklearn.preprocessing import StandardScaler, LabelEncoder         # Scaling and encoding\n",
        "from sklearn.metrics import accuracy_score, confusion_matrix, classification_report  # Metrics\n",
        "from sklearn.impute import SimpleImputer                               # Handling missing values\n",
        "\n",
        "# Additional EDA Libraries\n",
        "from scipy import stats              # Statistical analysis\n",
        "import missingno as msno             # Visualize missing values\n"
      ]
    },
    {
      "cell_type": "markdown",
      "source": [
        "# **Data Preprocessing**"
      ],
      "metadata": {
        "id": "7E7UZQzIDWgb"
      }
    },
    {
      "cell_type": "markdown",
      "source": [
        "# Step 1 : Reading the data"
      ],
      "metadata": {
        "id": "tPlEINXJHAYy"
      }
    },
    {
      "cell_type": "code",
      "source": [
        "df = pl.read_csv(\"/content/customer_shopping_data.csv\")\n",
        "df_original = df.clone()\n",
        "df"
      ],
      "metadata": {
        "colab": {
          "base_uri": "https://localhost:8080/",
          "height": 443
        },
        "id": "A0VzqRkPDbZl",
        "outputId": "9845d4a6-82cc-4d66-8df3-7c1490ea8ba3"
      },
      "execution_count": 87,
      "outputs": [
        {
          "output_type": "execute_result",
          "data": {
            "text/plain": [
              "shape: (99_457, 10)\n",
              "┌────────────┬─────────────┬────────┬─────┬───┬─────────┬──────────────┬─────────────┬─────────────┐\n",
              "│ invoice_no ┆ customer_id ┆ gender ┆ age ┆ … ┆ price   ┆ payment_meth ┆ invoice_dat ┆ shopping_ma │\n",
              "│ ---        ┆ ---         ┆ ---    ┆ --- ┆   ┆ ---     ┆ od           ┆ e           ┆ ll          │\n",
              "│ str        ┆ str         ┆ str    ┆ i64 ┆   ┆ f64     ┆ ---          ┆ ---         ┆ ---         │\n",
              "│            ┆             ┆        ┆     ┆   ┆         ┆ str          ┆ str         ┆ str         │\n",
              "╞════════════╪═════════════╪════════╪═════╪═══╪═════════╪══════════════╪═════════════╪═════════════╡\n",
              "│ I138884    ┆ C241288     ┆ Female ┆ 28  ┆ … ┆ 1500.4  ┆ Credit Card  ┆ 5/8/2022    ┆ Kanyon      │\n",
              "│ I317333    ┆ C111565     ┆ Male   ┆ 21  ┆ … ┆ 1800.51 ┆ Debit Card   ┆ 12/12/2021  ┆ Forum       │\n",
              "│            ┆             ┆        ┆     ┆   ┆         ┆              ┆             ┆ Istanbul    │\n",
              "│ I127801    ┆ C266599     ┆ Male   ┆ 20  ┆ … ┆ 300.08  ┆ Cash         ┆ 9/11/2021   ┆ Metrocity   │\n",
              "│ I173702    ┆ C988172     ┆ Female ┆ 66  ┆ … ┆ 3000.85 ┆ Credit Card  ┆ 16/05/2021  ┆ Metropol    │\n",
              "│            ┆             ┆        ┆     ┆   ┆         ┆              ┆             ┆ AVM         │\n",
              "│ I337046    ┆ C189076     ┆ Female ┆ 53  ┆ … ┆ 60.6    ┆ Cash         ┆ 24/10/2021  ┆ Kanyon      │\n",
              "│ …          ┆ …           ┆ …      ┆ …   ┆ … ┆ …       ┆ …            ┆ …           ┆ …           │\n",
              "│ I219422    ┆ C441542     ┆ Female ┆ 45  ┆ … ┆ 58.65   ┆ Credit Card  ┆ 21/09/2022  ┆ Kanyon      │\n",
              "│ I325143    ┆ C569580     ┆ Male   ┆ 27  ┆ … ┆ 10.46   ┆ Cash         ┆ 22/09/2021  ┆ Forum       │\n",
              "│            ┆             ┆        ┆     ┆   ┆         ┆              ┆             ┆ Istanbul    │\n",
              "│ I824010    ┆ C103292     ┆ Male   ┆ 63  ┆ … ┆ 10.46   ┆ Debit Card   ┆ 28/03/2021  ┆ Metrocity   │\n",
              "│ I702964    ┆ C800631     ┆ Male   ┆ 56  ┆ … ┆ 4200.0  ┆ Cash         ┆ 16/03/2021  ┆ Istinye     │\n",
              "│            ┆             ┆        ┆     ┆   ┆         ┆              ┆             ┆ Park        │\n",
              "│ I232867    ┆ C273973     ┆ Female ┆ 36  ┆ … ┆ 35.19   ┆ Credit Card  ┆ 15/10/2022  ┆ Mall of     │\n",
              "│            ┆             ┆        ┆     ┆   ┆         ┆              ┆             ┆ Istanbul    │\n",
              "└────────────┴─────────────┴────────┴─────┴───┴─────────┴──────────────┴─────────────┴─────────────┘"
            ],
            "text/html": [
              "<div><style>\n",
              ".dataframe > thead > tr,\n",
              ".dataframe > tbody > tr {\n",
              "  text-align: right;\n",
              "  white-space: pre-wrap;\n",
              "}\n",
              "</style>\n",
              "<small>shape: (99_457, 10)</small><table border=\"1\" class=\"dataframe\"><thead><tr><th>invoice_no</th><th>customer_id</th><th>gender</th><th>age</th><th>category</th><th>quantity</th><th>price</th><th>payment_method</th><th>invoice_date</th><th>shopping_mall</th></tr><tr><td>str</td><td>str</td><td>str</td><td>i64</td><td>str</td><td>i64</td><td>f64</td><td>str</td><td>str</td><td>str</td></tr></thead><tbody><tr><td>&quot;I138884&quot;</td><td>&quot;C241288&quot;</td><td>&quot;Female&quot;</td><td>28</td><td>&quot;Clothing&quot;</td><td>5</td><td>1500.4</td><td>&quot;Credit Card&quot;</td><td>&quot;5/8/2022&quot;</td><td>&quot;Kanyon&quot;</td></tr><tr><td>&quot;I317333&quot;</td><td>&quot;C111565&quot;</td><td>&quot;Male&quot;</td><td>21</td><td>&quot;Shoes&quot;</td><td>3</td><td>1800.51</td><td>&quot;Debit Card&quot;</td><td>&quot;12/12/2021&quot;</td><td>&quot;Forum Istanbul&quot;</td></tr><tr><td>&quot;I127801&quot;</td><td>&quot;C266599&quot;</td><td>&quot;Male&quot;</td><td>20</td><td>&quot;Clothing&quot;</td><td>1</td><td>300.08</td><td>&quot;Cash&quot;</td><td>&quot;9/11/2021&quot;</td><td>&quot;Metrocity&quot;</td></tr><tr><td>&quot;I173702&quot;</td><td>&quot;C988172&quot;</td><td>&quot;Female&quot;</td><td>66</td><td>&quot;Shoes&quot;</td><td>5</td><td>3000.85</td><td>&quot;Credit Card&quot;</td><td>&quot;16/05/2021&quot;</td><td>&quot;Metropol AVM&quot;</td></tr><tr><td>&quot;I337046&quot;</td><td>&quot;C189076&quot;</td><td>&quot;Female&quot;</td><td>53</td><td>&quot;Books&quot;</td><td>4</td><td>60.6</td><td>&quot;Cash&quot;</td><td>&quot;24/10/2021&quot;</td><td>&quot;Kanyon&quot;</td></tr><tr><td>&hellip;</td><td>&hellip;</td><td>&hellip;</td><td>&hellip;</td><td>&hellip;</td><td>&hellip;</td><td>&hellip;</td><td>&hellip;</td><td>&hellip;</td><td>&hellip;</td></tr><tr><td>&quot;I219422&quot;</td><td>&quot;C441542&quot;</td><td>&quot;Female&quot;</td><td>45</td><td>&quot;Souvenir&quot;</td><td>5</td><td>58.65</td><td>&quot;Credit Card&quot;</td><td>&quot;21/09/2022&quot;</td><td>&quot;Kanyon&quot;</td></tr><tr><td>&quot;I325143&quot;</td><td>&quot;C569580&quot;</td><td>&quot;Male&quot;</td><td>27</td><td>&quot;Food &amp; Beverage&quot;</td><td>2</td><td>10.46</td><td>&quot;Cash&quot;</td><td>&quot;22/09/2021&quot;</td><td>&quot;Forum Istanbul&quot;</td></tr><tr><td>&quot;I824010&quot;</td><td>&quot;C103292&quot;</td><td>&quot;Male&quot;</td><td>63</td><td>&quot;Food &amp; Beverage&quot;</td><td>2</td><td>10.46</td><td>&quot;Debit Card&quot;</td><td>&quot;28/03/2021&quot;</td><td>&quot;Metrocity&quot;</td></tr><tr><td>&quot;I702964&quot;</td><td>&quot;C800631&quot;</td><td>&quot;Male&quot;</td><td>56</td><td>&quot;Technology&quot;</td><td>4</td><td>4200.0</td><td>&quot;Cash&quot;</td><td>&quot;16/03/2021&quot;</td><td>&quot;Istinye Park&quot;</td></tr><tr><td>&quot;I232867&quot;</td><td>&quot;C273973&quot;</td><td>&quot;Female&quot;</td><td>36</td><td>&quot;Souvenir&quot;</td><td>3</td><td>35.19</td><td>&quot;Credit Card&quot;</td><td>&quot;15/10/2022&quot;</td><td>&quot;Mall of Istanbul&quot;</td></tr></tbody></table></div>"
            ]
          },
          "metadata": {},
          "execution_count": 87
        }
      ]
    },
    {
      "cell_type": "markdown",
      "source": [
        "# Step 2: Data Profiling"
      ],
      "metadata": {
        "id": "jmqq_lSPHW-H"
      }
    },
    {
      "cell_type": "code",
      "source": [
        "df.describe()"
      ],
      "metadata": {
        "colab": {
          "base_uri": "https://localhost:8080/",
          "height": 380
        },
        "id": "sH3jWrtCHZWJ",
        "outputId": "eae35379-fb99-4aca-e4c2-43ac8ed38b9b"
      },
      "execution_count": 88,
      "outputs": [
        {
          "output_type": "execute_result",
          "data": {
            "text/plain": [
              "shape: (9, 11)\n",
              "┌────────────┬────────────┬───────────┬────────┬───┬───────────┬───────────┬───────────┬───────────┐\n",
              "│ statistic  ┆ invoice_no ┆ customer_ ┆ gender ┆ … ┆ price     ┆ payment_m ┆ invoice_d ┆ shopping_ │\n",
              "│ ---        ┆ ---        ┆ id        ┆ ---    ┆   ┆ ---       ┆ ethod     ┆ ate       ┆ mall      │\n",
              "│ str        ┆ str        ┆ ---       ┆ str    ┆   ┆ f64       ┆ ---       ┆ ---       ┆ ---       │\n",
              "│            ┆            ┆ str       ┆        ┆   ┆           ┆ str       ┆ str       ┆ str       │\n",
              "╞════════════╪════════════╪═══════════╪════════╪═══╪═══════════╪═══════════╪═══════════╪═══════════╡\n",
              "│ count      ┆ 99457      ┆ 99457     ┆ 99457  ┆ … ┆ 99457.0   ┆ 99457     ┆ 99457     ┆ 99457     │\n",
              "│ null_count ┆ 0          ┆ 0         ┆ 0      ┆ … ┆ 0.0       ┆ 0         ┆ 0         ┆ 0         │\n",
              "│ mean       ┆ null       ┆ null      ┆ null   ┆ … ┆ 689.25632 ┆ null      ┆ null      ┆ null      │\n",
              "│            ┆            ┆           ┆        ┆   ┆ 1         ┆           ┆           ┆           │\n",
              "│ std        ┆ null       ┆ null      ┆ null   ┆ … ┆ 941.18456 ┆ null      ┆ null      ┆ null      │\n",
              "│            ┆            ┆           ┆        ┆   ┆ 7         ┆           ┆           ┆           │\n",
              "│ min        ┆ I100008    ┆ C100004   ┆ Female ┆ … ┆ 5.23      ┆ Cash      ┆ 1/1/2021  ┆ Cevahir   │\n",
              "│            ┆            ┆           ┆        ┆   ┆           ┆           ┆           ┆ AVM       │\n",
              "│ 25%        ┆ null       ┆ null      ┆ null   ┆ … ┆ 45.45     ┆ null      ┆ null      ┆ null      │\n",
              "│ 50%        ┆ null       ┆ null      ┆ null   ┆ … ┆ 203.3     ┆ null      ┆ null      ┆ null      │\n",
              "│ 75%        ┆ null       ┆ null      ┆ null   ┆ … ┆ 1200.32   ┆ null      ┆ null      ┆ null      │\n",
              "│ max        ┆ I999994    ┆ C999995   ┆ Male   ┆ … ┆ 5250.0    ┆ Debit     ┆ 9/9/2022  ┆ Zorlu     │\n",
              "│            ┆            ┆           ┆        ┆   ┆           ┆ Card      ┆           ┆ Center    │\n",
              "└────────────┴────────────┴───────────┴────────┴───┴───────────┴───────────┴───────────┴───────────┘"
            ],
            "text/html": [
              "<div><style>\n",
              ".dataframe > thead > tr,\n",
              ".dataframe > tbody > tr {\n",
              "  text-align: right;\n",
              "  white-space: pre-wrap;\n",
              "}\n",
              "</style>\n",
              "<small>shape: (9, 11)</small><table border=\"1\" class=\"dataframe\"><thead><tr><th>statistic</th><th>invoice_no</th><th>customer_id</th><th>gender</th><th>age</th><th>category</th><th>quantity</th><th>price</th><th>payment_method</th><th>invoice_date</th><th>shopping_mall</th></tr><tr><td>str</td><td>str</td><td>str</td><td>str</td><td>f64</td><td>str</td><td>f64</td><td>f64</td><td>str</td><td>str</td><td>str</td></tr></thead><tbody><tr><td>&quot;count&quot;</td><td>&quot;99457&quot;</td><td>&quot;99457&quot;</td><td>&quot;99457&quot;</td><td>99457.0</td><td>&quot;99457&quot;</td><td>99457.0</td><td>99457.0</td><td>&quot;99457&quot;</td><td>&quot;99457&quot;</td><td>&quot;99457&quot;</td></tr><tr><td>&quot;null_count&quot;</td><td>&quot;0&quot;</td><td>&quot;0&quot;</td><td>&quot;0&quot;</td><td>0.0</td><td>&quot;0&quot;</td><td>0.0</td><td>0.0</td><td>&quot;0&quot;</td><td>&quot;0&quot;</td><td>&quot;0&quot;</td></tr><tr><td>&quot;mean&quot;</td><td>null</td><td>null</td><td>null</td><td>43.427089</td><td>null</td><td>3.003429</td><td>689.256321</td><td>null</td><td>null</td><td>null</td></tr><tr><td>&quot;std&quot;</td><td>null</td><td>null</td><td>null</td><td>14.990054</td><td>null</td><td>1.413025</td><td>941.184567</td><td>null</td><td>null</td><td>null</td></tr><tr><td>&quot;min&quot;</td><td>&quot;I100008&quot;</td><td>&quot;C100004&quot;</td><td>&quot;Female&quot;</td><td>18.0</td><td>&quot;Books&quot;</td><td>1.0</td><td>5.23</td><td>&quot;Cash&quot;</td><td>&quot;1/1/2021&quot;</td><td>&quot;Cevahir AVM&quot;</td></tr><tr><td>&quot;25%&quot;</td><td>null</td><td>null</td><td>null</td><td>30.0</td><td>null</td><td>2.0</td><td>45.45</td><td>null</td><td>null</td><td>null</td></tr><tr><td>&quot;50%&quot;</td><td>null</td><td>null</td><td>null</td><td>43.0</td><td>null</td><td>3.0</td><td>203.3</td><td>null</td><td>null</td><td>null</td></tr><tr><td>&quot;75%&quot;</td><td>null</td><td>null</td><td>null</td><td>56.0</td><td>null</td><td>4.0</td><td>1200.32</td><td>null</td><td>null</td><td>null</td></tr><tr><td>&quot;max&quot;</td><td>&quot;I999994&quot;</td><td>&quot;C999995&quot;</td><td>&quot;Male&quot;</td><td>69.0</td><td>&quot;Toys&quot;</td><td>5.0</td><td>5250.0</td><td>&quot;Debit Card&quot;</td><td>&quot;9/9/2022&quot;</td><td>&quot;Zorlu Center&quot;</td></tr></tbody></table></div>"
            ]
          },
          "metadata": {},
          "execution_count": 88
        }
      ]
    },
    {
      "cell_type": "markdown",
      "source": [
        "# Step 3: Data Cleansing"
      ],
      "metadata": {
        "id": "3b2YnlFkIWu2"
      }
    },
    {
      "cell_type": "markdown",
      "source": [
        "# 1. Remove duplicates if there are any"
      ],
      "metadata": {
        "id": "_oXgAc1oIdjj"
      }
    },
    {
      "cell_type": "code",
      "source": [
        "df = df.unique(subset=['invoice_no'])"
      ],
      "metadata": {
        "id": "kpga10q6IZLt"
      },
      "execution_count": 89,
      "outputs": []
    },
    {
      "cell_type": "markdown",
      "source": [
        "# 2. Handle missing values by imputing or removing"
      ],
      "metadata": {
        "id": "fESg69luI2a5"
      }
    },
    {
      "cell_type": "code",
      "source": [
        "# Fill missing categorical columns with mode, numerical columns with median\n",
        "df = df.with_columns([\n",
        "    pl.col(\"gender\").fill_null(pl.col(\"gender\").mode()),\n",
        "    pl.col(\"age\").fill_null(pl.col(\"age\").median()),\n",
        "    pl.col(\"price\").fill_null(pl.col(\"price\").median()),\n",
        "    pl.col(\"payment_method\").fill_null(\"Unknown\"),\n",
        "    pl.col(\"category\").fill_null(\"Unknown\"),\n",
        "    pl.col(\"shopping_mall\").fill_null(\"Unknown\")\n",
        "])"
      ],
      "metadata": {
        "id": "N7FSrCceI3Nk"
      },
      "execution_count": 90,
      "outputs": []
    },
    {
      "cell_type": "code",
      "source": [
        "df.null_count()"
      ],
      "metadata": {
        "colab": {
          "base_uri": "https://localhost:8080/",
          "height": 130
        },
        "id": "QypgjWUGJMjn",
        "outputId": "c0ce5374-343f-4a72-da7d-56e64aec9fdc"
      },
      "execution_count": 91,
      "outputs": [
        {
          "output_type": "execute_result",
          "data": {
            "text/plain": [
              "shape: (1, 10)\n",
              "┌────────────┬─────────────┬────────┬─────┬───┬───────┬──────────────┬──────────────┬──────────────┐\n",
              "│ invoice_no ┆ customer_id ┆ gender ┆ age ┆ … ┆ price ┆ payment_meth ┆ invoice_date ┆ shopping_mal │\n",
              "│ ---        ┆ ---         ┆ ---    ┆ --- ┆   ┆ ---   ┆ od           ┆ ---          ┆ l            │\n",
              "│ u32        ┆ u32         ┆ u32    ┆ u32 ┆   ┆ u32   ┆ ---          ┆ u32          ┆ ---          │\n",
              "│            ┆             ┆        ┆     ┆   ┆       ┆ u32          ┆              ┆ u32          │\n",
              "╞════════════╪═════════════╪════════╪═════╪═══╪═══════╪══════════════╪══════════════╪══════════════╡\n",
              "│ 0          ┆ 0           ┆ 0      ┆ 0   ┆ … ┆ 0     ┆ 0            ┆ 0            ┆ 0            │\n",
              "└────────────┴─────────────┴────────┴─────┴───┴───────┴──────────────┴──────────────┴──────────────┘"
            ],
            "text/html": [
              "<div><style>\n",
              ".dataframe > thead > tr,\n",
              ".dataframe > tbody > tr {\n",
              "  text-align: right;\n",
              "  white-space: pre-wrap;\n",
              "}\n",
              "</style>\n",
              "<small>shape: (1, 10)</small><table border=\"1\" class=\"dataframe\"><thead><tr><th>invoice_no</th><th>customer_id</th><th>gender</th><th>age</th><th>category</th><th>quantity</th><th>price</th><th>payment_method</th><th>invoice_date</th><th>shopping_mall</th></tr><tr><td>u32</td><td>u32</td><td>u32</td><td>u32</td><td>u32</td><td>u32</td><td>u32</td><td>u32</td><td>u32</td><td>u32</td></tr></thead><tbody><tr><td>0</td><td>0</td><td>0</td><td>0</td><td>0</td><td>0</td><td>0</td><td>0</td><td>0</td><td>0</td></tr></tbody></table></div>"
            ]
          },
          "metadata": {},
          "execution_count": 91
        }
      ]
    },
    {
      "cell_type": "code",
      "source": [
        "df = df.with_columns(\n",
        "    (pl.col(\"quantity\") * pl.col(\"price\")).alias(\"total_spent\")\n",
        ")"
      ],
      "metadata": {
        "id": "Z-SpLpcQWYoN"
      },
      "execution_count": 92,
      "outputs": []
    },
    {
      "cell_type": "markdown",
      "source": [
        "# 3. Removing the Outliers"
      ],
      "metadata": {
        "id": "dbFO5TKwV466"
      }
    },
    {
      "cell_type": "code",
      "source": [
        "def remove_outliers_iqr(df, column):\n",
        "    q1 = df[column].quantile(0.25)\n",
        "    q3 = df[column].quantile(0.75)\n",
        "\n",
        "    iqr = q3 - q1\n",
        "\n",
        "    lower_bound = q1 - 1.5 * iqr\n",
        "    upper_bound = q3 + 1.5 * iqr\n",
        "\n",
        "    # Filter the dataframe to keep only values within the bounds\n",
        "    df_filtered = df.filter((pl.col(column) >= lower_bound) & (pl.col(column) <= upper_bound))\n",
        "    return df_filtered"
      ],
      "metadata": {
        "id": "G8pRDfZTV-H9"
      },
      "execution_count": 93,
      "outputs": []
    },
    {
      "cell_type": "markdown",
      "source": [
        "Apply the function to the numerical columns of interest"
      ],
      "metadata": {
        "id": "tnMTb-1xWMBK"
      }
    },
    {
      "cell_type": "code",
      "source": [
        "df = remove_outliers_iqr(df, \"age\")\n",
        "df = remove_outliers_iqr(df, \"quantity\")\n",
        "df = remove_outliers_iqr(df, \"price\")\n",
        "df = remove_outliers_iqr(df, \"total_spent\")"
      ],
      "metadata": {
        "id": "alQ6j2cWWHQb"
      },
      "execution_count": 94,
      "outputs": []
    },
    {
      "cell_type": "markdown",
      "source": [
        "# Step 4: Data Transformation"
      ],
      "metadata": {
        "id": "CFP9eyYCJX3M"
      }
    },
    {
      "cell_type": "code",
      "source": [
        "# Define possible date formats in a list\n",
        "date_formats = [\"%d/%m/%Y\", \"%Y-%m-%d\", \"%m-%d-%Y\", \"%d-%m-%Y\" , \"%d%m%Y\" , \"%m%d%Y\" , \"%Y%m%d\" , \"%Y%d%m\"]\n",
        "\n",
        "# Create a temporary column to store the original invoice_date values\n",
        "df = df.with_columns(pl.col(\"invoice_date\").alias(\"original_invoice_date\"))\n",
        "\n",
        "# Create a boolean mask indicating whether the date has been parsed successfully\n",
        "parsed_mask = pl.lit(False)\n",
        "\n",
        "for fmt in date_formats:\n",
        "\n",
        "    df = df.with_columns(\n",
        "        pl.when(~parsed_mask)\n",
        "        .then(\n",
        "            pl.col(\"original_invoice_date\")\n",
        "            .str.strptime(pl.Date, fmt, strict=False) # Apply strict=False here for error handling\n",
        "            .fill_null(pl.col(\"invoice_date\"))\n",
        "        )\n",
        "        .otherwise(pl.col(\"invoice_date\"))\n",
        "        .alias(\"invoice_date\")\n",
        "    )\n",
        "\n",
        "    parsed_mask = parsed_mask | (pl.col(\"original_invoice_date\").str.strptime(pl.Date, fmt, strict=False).is_not_null())\n",
        "\n",
        "# Drop the temporary column\n",
        "df = df.drop(\"original_invoice_date\")"
      ],
      "metadata": {
        "id": "wQbI5l2maTh1"
      },
      "execution_count": 95,
      "outputs": []
    },
    {
      "cell_type": "code",
      "source": [
        "\n",
        "df = df.with_columns(pl.col(\"invoice_date\").cast(pl.Date))"
      ],
      "metadata": {
        "id": "jylGziaCbP88"
      },
      "execution_count": 96,
      "outputs": []
    },
    {
      "cell_type": "code",
      "source": [
        "df.select(\"invoice_date\").head()"
      ],
      "metadata": {
        "colab": {
          "base_uri": "https://localhost:8080/",
          "height": 255
        },
        "id": "XnywxV6NbXld",
        "outputId": "481c7408-a868-4f57-d91d-71a4386e8fa6"
      },
      "execution_count": 97,
      "outputs": [
        {
          "output_type": "execute_result",
          "data": {
            "text/plain": [
              "shape: (5, 1)\n",
              "┌──────────────┐\n",
              "│ invoice_date │\n",
              "│ ---          │\n",
              "│ date         │\n",
              "╞══════════════╡\n",
              "│ 2022-01-25   │\n",
              "│ 2021-06-16   │\n",
              "│ 2022-09-04   │\n",
              "│ 2022-08-06   │\n",
              "│ 2023-02-26   │\n",
              "└──────────────┘"
            ],
            "text/html": [
              "<div><style>\n",
              ".dataframe > thead > tr,\n",
              ".dataframe > tbody > tr {\n",
              "  text-align: right;\n",
              "  white-space: pre-wrap;\n",
              "}\n",
              "</style>\n",
              "<small>shape: (5, 1)</small><table border=\"1\" class=\"dataframe\"><thead><tr><th>invoice_date</th></tr><tr><td>date</td></tr></thead><tbody><tr><td>2022-01-25</td></tr><tr><td>2021-06-16</td></tr><tr><td>2022-09-04</td></tr><tr><td>2022-08-06</td></tr><tr><td>2023-02-26</td></tr></tbody></table></div>"
            ]
          },
          "metadata": {},
          "execution_count": 97
        }
      ]
    },
    {
      "cell_type": "markdown",
      "source": [
        "# Standardize the 'gender' column to 'Male' and 'Female'"
      ],
      "metadata": {
        "id": "yEyOhYtFZHAa"
      }
    },
    {
      "cell_type": "code",
      "source": [
        "\n",
        "\n",
        "df = df.with_columns(\n",
        "    pl.when(pl.col(\"gender\").str.to_lowercase() == \"m\")\n",
        "    .then(pl.lit(\"Male\"))\n",
        "    .when(pl.col(\"gender\").str.to_lowercase() == \"f\")\n",
        "    .then(pl.lit(\"Female\"))\n",
        "    .when(pl.col(\"gender\").str.to_lowercase() == \"male\")\n",
        "    .then(pl.lit(\"Male\"))\n",
        "    .when(pl.col(\"gender\").str.to_lowercase() == \"female\")\n",
        "    .then(pl.lit(\"Female\"))\n",
        "    .when(pl.col(\"gender\").str.to_lowercase() == \"Female\")\n",
        "    .then(pl.lit(\"Female\"))\n",
        "     .when(pl.col(\"gender\").str.to_lowercase() == \"Male\")\n",
        "    .then(pl.lit(\"Male\"))\n",
        "    .otherwise(pl.lit(\"Unknown\"))\n",
        "    .alias(\"gender\")\n",
        ")"
      ],
      "metadata": {
        "id": "eH_Mf31RZJuC"
      },
      "execution_count": 98,
      "outputs": []
    },
    {
      "cell_type": "code",
      "source": [
        "df.select(\"gender\").unique()"
      ],
      "metadata": {
        "colab": {
          "base_uri": "https://localhost:8080/",
          "height": 161
        },
        "id": "QVyL-nvJZOyT",
        "outputId": "81fa1ff2-9935-4e50-b6ac-931b30a7a7ea"
      },
      "execution_count": 99,
      "outputs": [
        {
          "output_type": "execute_result",
          "data": {
            "text/plain": [
              "shape: (2, 1)\n",
              "┌────────┐\n",
              "│ gender │\n",
              "│ ---    │\n",
              "│ str    │\n",
              "╞════════╡\n",
              "│ Female │\n",
              "│ Male   │\n",
              "└────────┘"
            ],
            "text/html": [
              "<div><style>\n",
              ".dataframe > thead > tr,\n",
              ".dataframe > tbody > tr {\n",
              "  text-align: right;\n",
              "  white-space: pre-wrap;\n",
              "}\n",
              "</style>\n",
              "<small>shape: (2, 1)</small><table border=\"1\" class=\"dataframe\"><thead><tr><th>gender</th></tr><tr><td>str</td></tr></thead><tbody><tr><td>&quot;Female&quot;</td></tr><tr><td>&quot;Male&quot;</td></tr></tbody></table></div>"
            ]
          },
          "metadata": {},
          "execution_count": 99
        }
      ]
    },
    {
      "cell_type": "markdown",
      "source": [
        "#  how much data was impacted by the cleaning process."
      ],
      "metadata": {
        "id": "bfEHZRA-W-CT"
      }
    },
    {
      "cell_type": "code",
      "source": [
        "initial_length = len(df_original)\n",
        "initial_length"
      ],
      "metadata": {
        "colab": {
          "base_uri": "https://localhost:8080/"
        },
        "id": "cILRHIqBW_Gj",
        "outputId": "11c0fec4-ada9-4700-eef4-646bb905b401"
      },
      "execution_count": 100,
      "outputs": [
        {
          "output_type": "execute_result",
          "data": {
            "text/plain": [
              "99457"
            ]
          },
          "metadata": {},
          "execution_count": 100
        }
      ]
    },
    {
      "cell_type": "code",
      "source": [
        "cleaned_length = len(df)\n",
        "cleaned_length"
      ],
      "metadata": {
        "colab": {
          "base_uri": "https://localhost:8080/"
        },
        "id": "91nc-0Y8XGPy",
        "outputId": "affd0ad2-3318-4320-e1dc-95bd5c86e4aa"
      },
      "execution_count": 101,
      "outputs": [
        {
          "output_type": "execute_result",
          "data": {
            "text/plain": [
              "85471"
            ]
          },
          "metadata": {},
          "execution_count": 101
        }
      ]
    },
    {
      "cell_type": "code",
      "source": [
        "data_retained_ratio = cleaned_length / initial_length\n",
        "data_lost_percentage = (1 - data_retained_ratio) * 100\n",
        "print(f\"Data Lost Percentage: {data_lost_percentage:.2f}%\")"
      ],
      "metadata": {
        "colab": {
          "base_uri": "https://localhost:8080/"
        },
        "id": "6SQ5zgIMXnmY",
        "outputId": "893b11ef-db7b-4099-ac88-627768aacd8b"
      },
      "execution_count": 102,
      "outputs": [
        {
          "output_type": "stream",
          "name": "stdout",
          "text": [
            "Data Lost Percentage: 14.06%\n"
          ]
        }
      ]
    },
    {
      "cell_type": "markdown",
      "source": [
        "# **Data Analysis**"
      ],
      "metadata": {
        "id": "BRdRe4gkYGRN"
      }
    },
    {
      "cell_type": "markdown",
      "source": [
        "# 1. Descriptive analysis\n"
      ],
      "metadata": {
        "id": "bFq8GyKCbwHx"
      }
    },
    {
      "cell_type": "markdown",
      "source": [
        "\n",
        "\n",
        "*   Descriptive analysis is the very first analysis performed in the data analysis process.\n",
        "\n",
        "* It involves common, descriptive statistics like measures of central tendency, variability, frequency and position.\n",
        "\n",
        "*   It generates simple summaries of samples and measurements.\n",
        "\n"
      ],
      "metadata": {
        "id": "1YX8oxl2YLE8"
      }
    },
    {
      "cell_type": "markdown",
      "source": [
        "**1. Summary Statistics**"
      ],
      "metadata": {
        "id": "hKA02rtzZRk5"
      }
    },
    {
      "cell_type": "code",
      "source": [
        "df.describe()"
      ],
      "metadata": {
        "id": "xLhQAFpLbykz",
        "colab": {
          "base_uri": "https://localhost:8080/",
          "height": 380
        },
        "outputId": "f35ad4d9-ab2d-4502-d18a-f8d08d766e80"
      },
      "execution_count": 103,
      "outputs": [
        {
          "output_type": "execute_result",
          "data": {
            "text/plain": [
              "shape: (9, 12)\n",
              "┌────────────┬────────────┬───────────┬────────┬───┬───────────┬───────────┬───────────┬───────────┐\n",
              "│ statistic  ┆ invoice_no ┆ customer_ ┆ gender ┆ … ┆ payment_m ┆ invoice_d ┆ shopping_ ┆ total_spe │\n",
              "│ ---        ┆ ---        ┆ id        ┆ ---    ┆   ┆ ethod     ┆ ate       ┆ mall      ┆ nt        │\n",
              "│ str        ┆ str        ┆ ---       ┆ str    ┆   ┆ ---       ┆ ---       ┆ ---       ┆ ---       │\n",
              "│            ┆            ┆ str       ┆        ┆   ┆ str       ┆ str       ┆ str       ┆ f64       │\n",
              "╞════════════╪════════════╪═══════════╪════════╪═══╪═══════════╪═══════════╪═══════════╪═══════════╡\n",
              "│ count      ┆ 85471      ┆ 85471     ┆ 85471  ┆ … ┆ 85471     ┆ 85471     ┆ 85471     ┆ 85471.0   │\n",
              "│ null_count ┆ 0          ┆ 0         ┆ 0      ┆ … ┆ 0         ┆ 0         ┆ 0         ┆ 0.0       │\n",
              "│ mean       ┆ null       ┆ null      ┆ null   ┆ … ┆ null      ┆ 2022-02-0 ┆ null      ┆ 1137.1524 │\n",
              "│            ┆            ┆           ┆        ┆   ┆           ┆ 3 19:05:4 ┆           ┆ 75        │\n",
              "│            ┆            ┆           ┆        ┆   ┆           ┆ 1.126000  ┆           ┆           │\n",
              "│ std        ┆ null       ┆ null      ┆ null   ┆ … ┆ null      ┆ null      ┆ null      ┆ 1552.9129 │\n",
              "│            ┆            ┆           ┆        ┆   ┆           ┆           ┆           ┆ 65        │\n",
              "│ min        ┆ I100014    ┆ C100005   ┆ Female ┆ … ┆ Cash      ┆ 2021-01-0 ┆ Cevahir   ┆ 5.23      │\n",
              "│            ┆            ┆           ┆        ┆   ┆           ┆ 1         ┆ AVM       ┆           │\n",
              "│ 25%        ┆ null       ┆ null      ┆ null   ┆ … ┆ null      ┆ 2021-07-1 ┆ null      ┆ 105.57    │\n",
              "│            ┆            ┆           ┆        ┆   ┆           ┆ 9         ┆           ┆           │\n",
              "│ 50%        ┆ null       ┆ null      ┆ null   ┆ … ┆ null      ┆ 2022-02-0 ┆ null      ┆ 365.94    │\n",
              "│            ┆            ┆           ┆        ┆   ┆           ┆ 4         ┆           ┆           │\n",
              "│ 75%        ┆ null       ┆ null      ┆ null   ┆ … ┆ null      ┆ 2022-08-2 ┆ null      ┆ 1200.32   │\n",
              "│            ┆            ┆           ┆        ┆   ┆           ┆ 1         ┆           ┆           │\n",
              "│ max        ┆ I999973    ┆ C999995   ┆ Male   ┆ … ┆ Debit     ┆ 2023-03-0 ┆ Zorlu     ┆ 5401.53   │\n",
              "│            ┆            ┆           ┆        ┆   ┆ Card      ┆ 8         ┆ Center    ┆           │\n",
              "└────────────┴────────────┴───────────┴────────┴───┴───────────┴───────────┴───────────┴───────────┘"
            ],
            "text/html": [
              "<div><style>\n",
              ".dataframe > thead > tr,\n",
              ".dataframe > tbody > tr {\n",
              "  text-align: right;\n",
              "  white-space: pre-wrap;\n",
              "}\n",
              "</style>\n",
              "<small>shape: (9, 12)</small><table border=\"1\" class=\"dataframe\"><thead><tr><th>statistic</th><th>invoice_no</th><th>customer_id</th><th>gender</th><th>age</th><th>category</th><th>quantity</th><th>price</th><th>payment_method</th><th>invoice_date</th><th>shopping_mall</th><th>total_spent</th></tr><tr><td>str</td><td>str</td><td>str</td><td>str</td><td>f64</td><td>str</td><td>f64</td><td>f64</td><td>str</td><td>str</td><td>str</td><td>f64</td></tr></thead><tbody><tr><td>&quot;count&quot;</td><td>&quot;85471&quot;</td><td>&quot;85471&quot;</td><td>&quot;85471&quot;</td><td>85471.0</td><td>&quot;85471&quot;</td><td>85471.0</td><td>85471.0</td><td>&quot;85471&quot;</td><td>&quot;85471&quot;</td><td>&quot;85471&quot;</td><td>85471.0</td></tr><tr><td>&quot;null_count&quot;</td><td>&quot;0&quot;</td><td>&quot;0&quot;</td><td>&quot;0&quot;</td><td>0.0</td><td>&quot;0&quot;</td><td>0.0</td><td>0.0</td><td>&quot;0&quot;</td><td>&quot;0&quot;</td><td>&quot;0&quot;</td><td>0.0</td></tr><tr><td>&quot;mean&quot;</td><td>null</td><td>null</td><td>null</td><td>43.413474</td><td>null</td><td>2.7357</td><td>404.884743</td><td>null</td><td>&quot;2022-02-03 19:05:41.126000&quot;</td><td>null</td><td>1137.152475</td></tr><tr><td>&quot;std&quot;</td><td>null</td><td>null</td><td>null</td><td>14.993148</td><td>null</td><td>1.323746</td><td>491.837973</td><td>null</td><td>null</td><td>null</td><td>1552.912965</td></tr><tr><td>&quot;min&quot;</td><td>&quot;I100014&quot;</td><td>&quot;C100005&quot;</td><td>&quot;Female&quot;</td><td>18.0</td><td>&quot;Books&quot;</td><td>1.0</td><td>5.23</td><td>&quot;Cash&quot;</td><td>&quot;2021-01-01&quot;</td><td>&quot;Cevahir AVM&quot;</td><td>5.23</td></tr><tr><td>&quot;25%&quot;</td><td>null</td><td>null</td><td>null</td><td>30.0</td><td>null</td><td>2.0</td><td>35.84</td><td>null</td><td>&quot;2021-07-19&quot;</td><td>null</td><td>105.57</td></tr><tr><td>&quot;50%&quot;</td><td>null</td><td>null</td><td>null</td><td>43.0</td><td>null</td><td>3.0</td><td>162.64</td><td>null</td><td>&quot;2022-02-04&quot;</td><td>null</td><td>365.94</td></tr><tr><td>&quot;75%&quot;</td><td>null</td><td>null</td><td>null</td><td>56.0</td><td>null</td><td>4.0</td><td>600.17</td><td>null</td><td>&quot;2022-08-21&quot;</td><td>null</td><td>1200.32</td></tr><tr><td>&quot;max&quot;</td><td>&quot;I999973&quot;</td><td>&quot;C999995&quot;</td><td>&quot;Male&quot;</td><td>69.0</td><td>&quot;Toys&quot;</td><td>5.0</td><td>2100.0</td><td>&quot;Debit Card&quot;</td><td>&quot;2023-03-08&quot;</td><td>&quot;Zorlu Center&quot;</td><td>5401.53</td></tr></tbody></table></div>"
            ]
          },
          "metadata": {},
          "execution_count": 103
        }
      ]
    },
    {
      "cell_type": "markdown",
      "source": [
        "**2. Frequency Counts for Categorical Columns**"
      ],
      "metadata": {
        "id": "rHeYFYmBZUhL"
      }
    },
    {
      "cell_type": "code",
      "source": [
        "gender_counts = df.select(pl.col(\"gender\").value_counts())\n",
        "category_counts = df.select(pl.col(\"category\").value_counts())\n",
        "payment_counts = df.select(pl.col(\"payment_method\").value_counts())\n",
        "\n",
        "print(\"Gender Counts:\")\n",
        "print(gender_counts)\n",
        "print(\"\\nCategory Counts:\")\n",
        "print(category_counts)\n",
        "print(\"\\nPayment Method Counts:\")\n",
        "print(payment_counts)"
      ],
      "metadata": {
        "colab": {
          "base_uri": "https://localhost:8080/"
        },
        "id": "v6Q4w8nEZZlo",
        "outputId": "4d4ce333-fdf7-4226-da86-edac7bc9b8fe"
      },
      "execution_count": 104,
      "outputs": [
        {
          "output_type": "stream",
          "name": "stdout",
          "text": [
            "Gender Counts:\n",
            "shape: (2, 1)\n",
            "┌──────────────────┐\n",
            "│ gender           │\n",
            "│ ---              │\n",
            "│ struct[2]        │\n",
            "╞══════════════════╡\n",
            "│ {\"Male\",34306}   │\n",
            "│ {\"Female\",51165} │\n",
            "└──────────────────┘\n",
            "\n",
            "Category Counts:\n",
            "shape: (8, 1)\n",
            "┌───────────────────────────┐\n",
            "│ category                  │\n",
            "│ ---                       │\n",
            "│ struct[2]                 │\n",
            "╞═══════════════════════════╡\n",
            "│ {\"Technology\",1985}       │\n",
            "│ {\"Books\",4981}            │\n",
            "│ {\"Toys\",10087}            │\n",
            "│ {\"Souvenir\",4999}         │\n",
            "│ {\"Cosmetics\",15097}       │\n",
            "│ {\"Food & Beverage\",14776} │\n",
            "│ {\"Shoes\",5999}            │\n",
            "│ {\"Clothing\",27547}        │\n",
            "└───────────────────────────┘\n",
            "\n",
            "Payment Method Counts:\n",
            "shape: (3, 1)\n",
            "┌───────────────────────┐\n",
            "│ payment_method        │\n",
            "│ ---                   │\n",
            "│ struct[2]             │\n",
            "╞═══════════════════════╡\n",
            "│ {\"Credit Card\",30076} │\n",
            "│ {\"Debit Card\",17263}  │\n",
            "│ {\"Cash\",38132}        │\n",
            "└───────────────────────┘\n"
          ]
        }
      ]
    },
    {
      "cell_type": "code",
      "source": [
        "df_pd = df.to_pandas()"
      ],
      "metadata": {
        "id": "4sQdrYHaaPui"
      },
      "execution_count": 105,
      "outputs": []
    },
    {
      "cell_type": "markdown",
      "source": [
        "# 1. Gender Frequency Plot"
      ],
      "metadata": {
        "id": "00Enux7KaWC4"
      }
    },
    {
      "cell_type": "code",
      "source": [
        "gender_counts = df_pd['gender'].value_counts().reset_index()\n",
        "gender_counts.columns = ['gender', 'count']\n",
        "fig_gender = px.bar(gender_counts, x='gender', y='count', title=\"Gender Distribution\", labels={'count': 'Count', 'gender': 'Gender'})\n",
        "fig_gender.show()"
      ],
      "metadata": {
        "colab": {
          "base_uri": "https://localhost:8080/",
          "height": 542
        },
        "id": "WlyQdsQCaTNa",
        "outputId": "010bce79-05cf-4427-cf62-89fdcfda00f6"
      },
      "execution_count": 106,
      "outputs": [
        {
          "output_type": "display_data",
          "data": {
            "text/html": [
              "<html>\n",
              "<head><meta charset=\"utf-8\" /></head>\n",
              "<body>\n",
              "    <div>            <script src=\"https://cdnjs.cloudflare.com/ajax/libs/mathjax/2.7.5/MathJax.js?config=TeX-AMS-MML_SVG\"></script><script type=\"text/javascript\">if (window.MathJax && window.MathJax.Hub && window.MathJax.Hub.Config) {window.MathJax.Hub.Config({SVG: {font: \"STIX-Web\"}});}</script>                <script type=\"text/javascript\">window.PlotlyConfig = {MathJaxConfig: 'local'};</script>\n",
              "        <script charset=\"utf-8\" src=\"https://cdn.plot.ly/plotly-2.35.2.min.js\"></script>                <div id=\"f8ebabac-1ca5-40fe-9ef8-28b009b9e0af\" class=\"plotly-graph-div\" style=\"height:525px; width:100%;\"></div>            <script type=\"text/javascript\">                                    window.PLOTLYENV=window.PLOTLYENV || {};                                    if (document.getElementById(\"f8ebabac-1ca5-40fe-9ef8-28b009b9e0af\")) {                    Plotly.newPlot(                        \"f8ebabac-1ca5-40fe-9ef8-28b009b9e0af\",                        [{\"alignmentgroup\":\"True\",\"hovertemplate\":\"Gender=%{x}\\u003cbr\\u003eCount=%{y}\\u003cextra\\u003e\\u003c\\u002fextra\\u003e\",\"legendgroup\":\"\",\"marker\":{\"color\":\"#636efa\",\"pattern\":{\"shape\":\"\"}},\"name\":\"\",\"offsetgroup\":\"\",\"orientation\":\"v\",\"showlegend\":false,\"textposition\":\"auto\",\"x\":[\"Female\",\"Male\"],\"xaxis\":\"x\",\"y\":[51165,34306],\"yaxis\":\"y\",\"type\":\"bar\"}],                        {\"template\":{\"data\":{\"histogram2dcontour\":[{\"type\":\"histogram2dcontour\",\"colorbar\":{\"outlinewidth\":0,\"ticks\":\"\"},\"colorscale\":[[0.0,\"#0d0887\"],[0.1111111111111111,\"#46039f\"],[0.2222222222222222,\"#7201a8\"],[0.3333333333333333,\"#9c179e\"],[0.4444444444444444,\"#bd3786\"],[0.5555555555555556,\"#d8576b\"],[0.6666666666666666,\"#ed7953\"],[0.7777777777777778,\"#fb9f3a\"],[0.8888888888888888,\"#fdca26\"],[1.0,\"#f0f921\"]]}],\"choropleth\":[{\"type\":\"choropleth\",\"colorbar\":{\"outlinewidth\":0,\"ticks\":\"\"}}],\"histogram2d\":[{\"type\":\"histogram2d\",\"colorbar\":{\"outlinewidth\":0,\"ticks\":\"\"},\"colorscale\":[[0.0,\"#0d0887\"],[0.1111111111111111,\"#46039f\"],[0.2222222222222222,\"#7201a8\"],[0.3333333333333333,\"#9c179e\"],[0.4444444444444444,\"#bd3786\"],[0.5555555555555556,\"#d8576b\"],[0.6666666666666666,\"#ed7953\"],[0.7777777777777778,\"#fb9f3a\"],[0.8888888888888888,\"#fdca26\"],[1.0,\"#f0f921\"]]}],\"heatmap\":[{\"type\":\"heatmap\",\"colorbar\":{\"outlinewidth\":0,\"ticks\":\"\"},\"colorscale\":[[0.0,\"#0d0887\"],[0.1111111111111111,\"#46039f\"],[0.2222222222222222,\"#7201a8\"],[0.3333333333333333,\"#9c179e\"],[0.4444444444444444,\"#bd3786\"],[0.5555555555555556,\"#d8576b\"],[0.6666666666666666,\"#ed7953\"],[0.7777777777777778,\"#fb9f3a\"],[0.8888888888888888,\"#fdca26\"],[1.0,\"#f0f921\"]]}],\"heatmapgl\":[{\"type\":\"heatmapgl\",\"colorbar\":{\"outlinewidth\":0,\"ticks\":\"\"},\"colorscale\":[[0.0,\"#0d0887\"],[0.1111111111111111,\"#46039f\"],[0.2222222222222222,\"#7201a8\"],[0.3333333333333333,\"#9c179e\"],[0.4444444444444444,\"#bd3786\"],[0.5555555555555556,\"#d8576b\"],[0.6666666666666666,\"#ed7953\"],[0.7777777777777778,\"#fb9f3a\"],[0.8888888888888888,\"#fdca26\"],[1.0,\"#f0f921\"]]}],\"contourcarpet\":[{\"type\":\"contourcarpet\",\"colorbar\":{\"outlinewidth\":0,\"ticks\":\"\"}}],\"contour\":[{\"type\":\"contour\",\"colorbar\":{\"outlinewidth\":0,\"ticks\":\"\"},\"colorscale\":[[0.0,\"#0d0887\"],[0.1111111111111111,\"#46039f\"],[0.2222222222222222,\"#7201a8\"],[0.3333333333333333,\"#9c179e\"],[0.4444444444444444,\"#bd3786\"],[0.5555555555555556,\"#d8576b\"],[0.6666666666666666,\"#ed7953\"],[0.7777777777777778,\"#fb9f3a\"],[0.8888888888888888,\"#fdca26\"],[1.0,\"#f0f921\"]]}],\"surface\":[{\"type\":\"surface\",\"colorbar\":{\"outlinewidth\":0,\"ticks\":\"\"},\"colorscale\":[[0.0,\"#0d0887\"],[0.1111111111111111,\"#46039f\"],[0.2222222222222222,\"#7201a8\"],[0.3333333333333333,\"#9c179e\"],[0.4444444444444444,\"#bd3786\"],[0.5555555555555556,\"#d8576b\"],[0.6666666666666666,\"#ed7953\"],[0.7777777777777778,\"#fb9f3a\"],[0.8888888888888888,\"#fdca26\"],[1.0,\"#f0f921\"]]}],\"mesh3d\":[{\"type\":\"mesh3d\",\"colorbar\":{\"outlinewidth\":0,\"ticks\":\"\"}}],\"scatter\":[{\"fillpattern\":{\"fillmode\":\"overlay\",\"size\":10,\"solidity\":0.2},\"type\":\"scatter\"}],\"parcoords\":[{\"type\":\"parcoords\",\"line\":{\"colorbar\":{\"outlinewidth\":0,\"ticks\":\"\"}}}],\"scatterpolargl\":[{\"type\":\"scatterpolargl\",\"marker\":{\"colorbar\":{\"outlinewidth\":0,\"ticks\":\"\"}}}],\"bar\":[{\"error_x\":{\"color\":\"#2a3f5f\"},\"error_y\":{\"color\":\"#2a3f5f\"},\"marker\":{\"line\":{\"color\":\"#E5ECF6\",\"width\":0.5},\"pattern\":{\"fillmode\":\"overlay\",\"size\":10,\"solidity\":0.2}},\"type\":\"bar\"}],\"scattergeo\":[{\"type\":\"scattergeo\",\"marker\":{\"colorbar\":{\"outlinewidth\":0,\"ticks\":\"\"}}}],\"scatterpolar\":[{\"type\":\"scatterpolar\",\"marker\":{\"colorbar\":{\"outlinewidth\":0,\"ticks\":\"\"}}}],\"histogram\":[{\"marker\":{\"pattern\":{\"fillmode\":\"overlay\",\"size\":10,\"solidity\":0.2}},\"type\":\"histogram\"}],\"scattergl\":[{\"type\":\"scattergl\",\"marker\":{\"colorbar\":{\"outlinewidth\":0,\"ticks\":\"\"}}}],\"scatter3d\":[{\"type\":\"scatter3d\",\"line\":{\"colorbar\":{\"outlinewidth\":0,\"ticks\":\"\"}},\"marker\":{\"colorbar\":{\"outlinewidth\":0,\"ticks\":\"\"}}}],\"scattermapbox\":[{\"type\":\"scattermapbox\",\"marker\":{\"colorbar\":{\"outlinewidth\":0,\"ticks\":\"\"}}}],\"scatterternary\":[{\"type\":\"scatterternary\",\"marker\":{\"colorbar\":{\"outlinewidth\":0,\"ticks\":\"\"}}}],\"scattercarpet\":[{\"type\":\"scattercarpet\",\"marker\":{\"colorbar\":{\"outlinewidth\":0,\"ticks\":\"\"}}}],\"carpet\":[{\"aaxis\":{\"endlinecolor\":\"#2a3f5f\",\"gridcolor\":\"white\",\"linecolor\":\"white\",\"minorgridcolor\":\"white\",\"startlinecolor\":\"#2a3f5f\"},\"baxis\":{\"endlinecolor\":\"#2a3f5f\",\"gridcolor\":\"white\",\"linecolor\":\"white\",\"minorgridcolor\":\"white\",\"startlinecolor\":\"#2a3f5f\"},\"type\":\"carpet\"}],\"table\":[{\"cells\":{\"fill\":{\"color\":\"#EBF0F8\"},\"line\":{\"color\":\"white\"}},\"header\":{\"fill\":{\"color\":\"#C8D4E3\"},\"line\":{\"color\":\"white\"}},\"type\":\"table\"}],\"barpolar\":[{\"marker\":{\"line\":{\"color\":\"#E5ECF6\",\"width\":0.5},\"pattern\":{\"fillmode\":\"overlay\",\"size\":10,\"solidity\":0.2}},\"type\":\"barpolar\"}],\"pie\":[{\"automargin\":true,\"type\":\"pie\"}]},\"layout\":{\"autotypenumbers\":\"strict\",\"colorway\":[\"#636efa\",\"#EF553B\",\"#00cc96\",\"#ab63fa\",\"#FFA15A\",\"#19d3f3\",\"#FF6692\",\"#B6E880\",\"#FF97FF\",\"#FECB52\"],\"font\":{\"color\":\"#2a3f5f\"},\"hovermode\":\"closest\",\"hoverlabel\":{\"align\":\"left\"},\"paper_bgcolor\":\"white\",\"plot_bgcolor\":\"#E5ECF6\",\"polar\":{\"bgcolor\":\"#E5ECF6\",\"angularaxis\":{\"gridcolor\":\"white\",\"linecolor\":\"white\",\"ticks\":\"\"},\"radialaxis\":{\"gridcolor\":\"white\",\"linecolor\":\"white\",\"ticks\":\"\"}},\"ternary\":{\"bgcolor\":\"#E5ECF6\",\"aaxis\":{\"gridcolor\":\"white\",\"linecolor\":\"white\",\"ticks\":\"\"},\"baxis\":{\"gridcolor\":\"white\",\"linecolor\":\"white\",\"ticks\":\"\"},\"caxis\":{\"gridcolor\":\"white\",\"linecolor\":\"white\",\"ticks\":\"\"}},\"coloraxis\":{\"colorbar\":{\"outlinewidth\":0,\"ticks\":\"\"}},\"colorscale\":{\"sequential\":[[0.0,\"#0d0887\"],[0.1111111111111111,\"#46039f\"],[0.2222222222222222,\"#7201a8\"],[0.3333333333333333,\"#9c179e\"],[0.4444444444444444,\"#bd3786\"],[0.5555555555555556,\"#d8576b\"],[0.6666666666666666,\"#ed7953\"],[0.7777777777777778,\"#fb9f3a\"],[0.8888888888888888,\"#fdca26\"],[1.0,\"#f0f921\"]],\"sequentialminus\":[[0.0,\"#0d0887\"],[0.1111111111111111,\"#46039f\"],[0.2222222222222222,\"#7201a8\"],[0.3333333333333333,\"#9c179e\"],[0.4444444444444444,\"#bd3786\"],[0.5555555555555556,\"#d8576b\"],[0.6666666666666666,\"#ed7953\"],[0.7777777777777778,\"#fb9f3a\"],[0.8888888888888888,\"#fdca26\"],[1.0,\"#f0f921\"]],\"diverging\":[[0,\"#8e0152\"],[0.1,\"#c51b7d\"],[0.2,\"#de77ae\"],[0.3,\"#f1b6da\"],[0.4,\"#fde0ef\"],[0.5,\"#f7f7f7\"],[0.6,\"#e6f5d0\"],[0.7,\"#b8e186\"],[0.8,\"#7fbc41\"],[0.9,\"#4d9221\"],[1,\"#276419\"]]},\"xaxis\":{\"gridcolor\":\"white\",\"linecolor\":\"white\",\"ticks\":\"\",\"title\":{\"standoff\":15},\"zerolinecolor\":\"white\",\"automargin\":true,\"zerolinewidth\":2},\"yaxis\":{\"gridcolor\":\"white\",\"linecolor\":\"white\",\"ticks\":\"\",\"title\":{\"standoff\":15},\"zerolinecolor\":\"white\",\"automargin\":true,\"zerolinewidth\":2},\"scene\":{\"xaxis\":{\"backgroundcolor\":\"#E5ECF6\",\"gridcolor\":\"white\",\"linecolor\":\"white\",\"showbackground\":true,\"ticks\":\"\",\"zerolinecolor\":\"white\",\"gridwidth\":2},\"yaxis\":{\"backgroundcolor\":\"#E5ECF6\",\"gridcolor\":\"white\",\"linecolor\":\"white\",\"showbackground\":true,\"ticks\":\"\",\"zerolinecolor\":\"white\",\"gridwidth\":2},\"zaxis\":{\"backgroundcolor\":\"#E5ECF6\",\"gridcolor\":\"white\",\"linecolor\":\"white\",\"showbackground\":true,\"ticks\":\"\",\"zerolinecolor\":\"white\",\"gridwidth\":2}},\"shapedefaults\":{\"line\":{\"color\":\"#2a3f5f\"}},\"annotationdefaults\":{\"arrowcolor\":\"#2a3f5f\",\"arrowhead\":0,\"arrowwidth\":1},\"geo\":{\"bgcolor\":\"white\",\"landcolor\":\"#E5ECF6\",\"subunitcolor\":\"white\",\"showland\":true,\"showlakes\":true,\"lakecolor\":\"white\"},\"title\":{\"x\":0.05},\"mapbox\":{\"style\":\"light\"}}},\"xaxis\":{\"anchor\":\"y\",\"domain\":[0.0,1.0],\"title\":{\"text\":\"Gender\"}},\"yaxis\":{\"anchor\":\"x\",\"domain\":[0.0,1.0],\"title\":{\"text\":\"Count\"}},\"legend\":{\"tracegroupgap\":0},\"title\":{\"text\":\"Gender Distribution\"},\"barmode\":\"relative\"},                        {\"responsive\": true}                    ).then(function(){\n",
              "                            \n",
              "var gd = document.getElementById('f8ebabac-1ca5-40fe-9ef8-28b009b9e0af');\n",
              "var x = new MutationObserver(function (mutations, observer) {{\n",
              "        var display = window.getComputedStyle(gd).display;\n",
              "        if (!display || display === 'none') {{\n",
              "            console.log([gd, 'removed!']);\n",
              "            Plotly.purge(gd);\n",
              "            observer.disconnect();\n",
              "        }}\n",
              "}});\n",
              "\n",
              "// Listen for the removal of the full notebook cells\n",
              "var notebookContainer = gd.closest('#notebook-container');\n",
              "if (notebookContainer) {{\n",
              "    x.observe(notebookContainer, {childList: true});\n",
              "}}\n",
              "\n",
              "// Listen for the clearing of the current output cell\n",
              "var outputEl = gd.closest('.output');\n",
              "if (outputEl) {{\n",
              "    x.observe(outputEl, {childList: true});\n",
              "}}\n",
              "\n",
              "                        })                };                            </script>        </div>\n",
              "</body>\n",
              "</html>"
            ]
          },
          "metadata": {}
        }
      ]
    },
    {
      "cell_type": "markdown",
      "source": [
        "# 2. Category Frequency Plot"
      ],
      "metadata": {
        "id": "kzBkCBhDai6S"
      }
    },
    {
      "cell_type": "code",
      "source": [
        "category_counts = df_pd['category'].value_counts().reset_index()\n",
        "category_counts.columns = ['category', 'count']\n",
        "fig_category = px.bar(category_counts, x='category', y='count', title=\"Category Distribution\", labels={'count': 'Count', 'category': 'Category'})\n",
        "fig_category.update_layout(xaxis={'categoryorder': 'total descending'})  # Sort by count\n",
        "fig_category.show()"
      ],
      "metadata": {
        "colab": {
          "base_uri": "https://localhost:8080/",
          "height": 542
        },
        "id": "0JqM-q3wal-T",
        "outputId": "cef3f78d-2f42-47bd-9e3a-cff208dbb692"
      },
      "execution_count": 107,
      "outputs": [
        {
          "output_type": "display_data",
          "data": {
            "text/html": [
              "<html>\n",
              "<head><meta charset=\"utf-8\" /></head>\n",
              "<body>\n",
              "    <div>            <script src=\"https://cdnjs.cloudflare.com/ajax/libs/mathjax/2.7.5/MathJax.js?config=TeX-AMS-MML_SVG\"></script><script type=\"text/javascript\">if (window.MathJax && window.MathJax.Hub && window.MathJax.Hub.Config) {window.MathJax.Hub.Config({SVG: {font: \"STIX-Web\"}});}</script>                <script type=\"text/javascript\">window.PlotlyConfig = {MathJaxConfig: 'local'};</script>\n",
              "        <script charset=\"utf-8\" src=\"https://cdn.plot.ly/plotly-2.35.2.min.js\"></script>                <div id=\"1a44cae9-c2c0-4e31-b78c-fad8f08bbbe1\" class=\"plotly-graph-div\" style=\"height:525px; width:100%;\"></div>            <script type=\"text/javascript\">                                    window.PLOTLYENV=window.PLOTLYENV || {};                                    if (document.getElementById(\"1a44cae9-c2c0-4e31-b78c-fad8f08bbbe1\")) {                    Plotly.newPlot(                        \"1a44cae9-c2c0-4e31-b78c-fad8f08bbbe1\",                        [{\"alignmentgroup\":\"True\",\"hovertemplate\":\"Category=%{x}\\u003cbr\\u003eCount=%{y}\\u003cextra\\u003e\\u003c\\u002fextra\\u003e\",\"legendgroup\":\"\",\"marker\":{\"color\":\"#636efa\",\"pattern\":{\"shape\":\"\"}},\"name\":\"\",\"offsetgroup\":\"\",\"orientation\":\"v\",\"showlegend\":false,\"textposition\":\"auto\",\"x\":[\"Clothing\",\"Cosmetics\",\"Food & Beverage\",\"Toys\",\"Shoes\",\"Souvenir\",\"Books\",\"Technology\"],\"xaxis\":\"x\",\"y\":[27547,15097,14776,10087,5999,4999,4981,1985],\"yaxis\":\"y\",\"type\":\"bar\"}],                        {\"template\":{\"data\":{\"histogram2dcontour\":[{\"type\":\"histogram2dcontour\",\"colorbar\":{\"outlinewidth\":0,\"ticks\":\"\"},\"colorscale\":[[0.0,\"#0d0887\"],[0.1111111111111111,\"#46039f\"],[0.2222222222222222,\"#7201a8\"],[0.3333333333333333,\"#9c179e\"],[0.4444444444444444,\"#bd3786\"],[0.5555555555555556,\"#d8576b\"],[0.6666666666666666,\"#ed7953\"],[0.7777777777777778,\"#fb9f3a\"],[0.8888888888888888,\"#fdca26\"],[1.0,\"#f0f921\"]]}],\"choropleth\":[{\"type\":\"choropleth\",\"colorbar\":{\"outlinewidth\":0,\"ticks\":\"\"}}],\"histogram2d\":[{\"type\":\"histogram2d\",\"colorbar\":{\"outlinewidth\":0,\"ticks\":\"\"},\"colorscale\":[[0.0,\"#0d0887\"],[0.1111111111111111,\"#46039f\"],[0.2222222222222222,\"#7201a8\"],[0.3333333333333333,\"#9c179e\"],[0.4444444444444444,\"#bd3786\"],[0.5555555555555556,\"#d8576b\"],[0.6666666666666666,\"#ed7953\"],[0.7777777777777778,\"#fb9f3a\"],[0.8888888888888888,\"#fdca26\"],[1.0,\"#f0f921\"]]}],\"heatmap\":[{\"type\":\"heatmap\",\"colorbar\":{\"outlinewidth\":0,\"ticks\":\"\"},\"colorscale\":[[0.0,\"#0d0887\"],[0.1111111111111111,\"#46039f\"],[0.2222222222222222,\"#7201a8\"],[0.3333333333333333,\"#9c179e\"],[0.4444444444444444,\"#bd3786\"],[0.5555555555555556,\"#d8576b\"],[0.6666666666666666,\"#ed7953\"],[0.7777777777777778,\"#fb9f3a\"],[0.8888888888888888,\"#fdca26\"],[1.0,\"#f0f921\"]]}],\"heatmapgl\":[{\"type\":\"heatmapgl\",\"colorbar\":{\"outlinewidth\":0,\"ticks\":\"\"},\"colorscale\":[[0.0,\"#0d0887\"],[0.1111111111111111,\"#46039f\"],[0.2222222222222222,\"#7201a8\"],[0.3333333333333333,\"#9c179e\"],[0.4444444444444444,\"#bd3786\"],[0.5555555555555556,\"#d8576b\"],[0.6666666666666666,\"#ed7953\"],[0.7777777777777778,\"#fb9f3a\"],[0.8888888888888888,\"#fdca26\"],[1.0,\"#f0f921\"]]}],\"contourcarpet\":[{\"type\":\"contourcarpet\",\"colorbar\":{\"outlinewidth\":0,\"ticks\":\"\"}}],\"contour\":[{\"type\":\"contour\",\"colorbar\":{\"outlinewidth\":0,\"ticks\":\"\"},\"colorscale\":[[0.0,\"#0d0887\"],[0.1111111111111111,\"#46039f\"],[0.2222222222222222,\"#7201a8\"],[0.3333333333333333,\"#9c179e\"],[0.4444444444444444,\"#bd3786\"],[0.5555555555555556,\"#d8576b\"],[0.6666666666666666,\"#ed7953\"],[0.7777777777777778,\"#fb9f3a\"],[0.8888888888888888,\"#fdca26\"],[1.0,\"#f0f921\"]]}],\"surface\":[{\"type\":\"surface\",\"colorbar\":{\"outlinewidth\":0,\"ticks\":\"\"},\"colorscale\":[[0.0,\"#0d0887\"],[0.1111111111111111,\"#46039f\"],[0.2222222222222222,\"#7201a8\"],[0.3333333333333333,\"#9c179e\"],[0.4444444444444444,\"#bd3786\"],[0.5555555555555556,\"#d8576b\"],[0.6666666666666666,\"#ed7953\"],[0.7777777777777778,\"#fb9f3a\"],[0.8888888888888888,\"#fdca26\"],[1.0,\"#f0f921\"]]}],\"mesh3d\":[{\"type\":\"mesh3d\",\"colorbar\":{\"outlinewidth\":0,\"ticks\":\"\"}}],\"scatter\":[{\"fillpattern\":{\"fillmode\":\"overlay\",\"size\":10,\"solidity\":0.2},\"type\":\"scatter\"}],\"parcoords\":[{\"type\":\"parcoords\",\"line\":{\"colorbar\":{\"outlinewidth\":0,\"ticks\":\"\"}}}],\"scatterpolargl\":[{\"type\":\"scatterpolargl\",\"marker\":{\"colorbar\":{\"outlinewidth\":0,\"ticks\":\"\"}}}],\"bar\":[{\"error_x\":{\"color\":\"#2a3f5f\"},\"error_y\":{\"color\":\"#2a3f5f\"},\"marker\":{\"line\":{\"color\":\"#E5ECF6\",\"width\":0.5},\"pattern\":{\"fillmode\":\"overlay\",\"size\":10,\"solidity\":0.2}},\"type\":\"bar\"}],\"scattergeo\":[{\"type\":\"scattergeo\",\"marker\":{\"colorbar\":{\"outlinewidth\":0,\"ticks\":\"\"}}}],\"scatterpolar\":[{\"type\":\"scatterpolar\",\"marker\":{\"colorbar\":{\"outlinewidth\":0,\"ticks\":\"\"}}}],\"histogram\":[{\"marker\":{\"pattern\":{\"fillmode\":\"overlay\",\"size\":10,\"solidity\":0.2}},\"type\":\"histogram\"}],\"scattergl\":[{\"type\":\"scattergl\",\"marker\":{\"colorbar\":{\"outlinewidth\":0,\"ticks\":\"\"}}}],\"scatter3d\":[{\"type\":\"scatter3d\",\"line\":{\"colorbar\":{\"outlinewidth\":0,\"ticks\":\"\"}},\"marker\":{\"colorbar\":{\"outlinewidth\":0,\"ticks\":\"\"}}}],\"scattermapbox\":[{\"type\":\"scattermapbox\",\"marker\":{\"colorbar\":{\"outlinewidth\":0,\"ticks\":\"\"}}}],\"scatterternary\":[{\"type\":\"scatterternary\",\"marker\":{\"colorbar\":{\"outlinewidth\":0,\"ticks\":\"\"}}}],\"scattercarpet\":[{\"type\":\"scattercarpet\",\"marker\":{\"colorbar\":{\"outlinewidth\":0,\"ticks\":\"\"}}}],\"carpet\":[{\"aaxis\":{\"endlinecolor\":\"#2a3f5f\",\"gridcolor\":\"white\",\"linecolor\":\"white\",\"minorgridcolor\":\"white\",\"startlinecolor\":\"#2a3f5f\"},\"baxis\":{\"endlinecolor\":\"#2a3f5f\",\"gridcolor\":\"white\",\"linecolor\":\"white\",\"minorgridcolor\":\"white\",\"startlinecolor\":\"#2a3f5f\"},\"type\":\"carpet\"}],\"table\":[{\"cells\":{\"fill\":{\"color\":\"#EBF0F8\"},\"line\":{\"color\":\"white\"}},\"header\":{\"fill\":{\"color\":\"#C8D4E3\"},\"line\":{\"color\":\"white\"}},\"type\":\"table\"}],\"barpolar\":[{\"marker\":{\"line\":{\"color\":\"#E5ECF6\",\"width\":0.5},\"pattern\":{\"fillmode\":\"overlay\",\"size\":10,\"solidity\":0.2}},\"type\":\"barpolar\"}],\"pie\":[{\"automargin\":true,\"type\":\"pie\"}]},\"layout\":{\"autotypenumbers\":\"strict\",\"colorway\":[\"#636efa\",\"#EF553B\",\"#00cc96\",\"#ab63fa\",\"#FFA15A\",\"#19d3f3\",\"#FF6692\",\"#B6E880\",\"#FF97FF\",\"#FECB52\"],\"font\":{\"color\":\"#2a3f5f\"},\"hovermode\":\"closest\",\"hoverlabel\":{\"align\":\"left\"},\"paper_bgcolor\":\"white\",\"plot_bgcolor\":\"#E5ECF6\",\"polar\":{\"bgcolor\":\"#E5ECF6\",\"angularaxis\":{\"gridcolor\":\"white\",\"linecolor\":\"white\",\"ticks\":\"\"},\"radialaxis\":{\"gridcolor\":\"white\",\"linecolor\":\"white\",\"ticks\":\"\"}},\"ternary\":{\"bgcolor\":\"#E5ECF6\",\"aaxis\":{\"gridcolor\":\"white\",\"linecolor\":\"white\",\"ticks\":\"\"},\"baxis\":{\"gridcolor\":\"white\",\"linecolor\":\"white\",\"ticks\":\"\"},\"caxis\":{\"gridcolor\":\"white\",\"linecolor\":\"white\",\"ticks\":\"\"}},\"coloraxis\":{\"colorbar\":{\"outlinewidth\":0,\"ticks\":\"\"}},\"colorscale\":{\"sequential\":[[0.0,\"#0d0887\"],[0.1111111111111111,\"#46039f\"],[0.2222222222222222,\"#7201a8\"],[0.3333333333333333,\"#9c179e\"],[0.4444444444444444,\"#bd3786\"],[0.5555555555555556,\"#d8576b\"],[0.6666666666666666,\"#ed7953\"],[0.7777777777777778,\"#fb9f3a\"],[0.8888888888888888,\"#fdca26\"],[1.0,\"#f0f921\"]],\"sequentialminus\":[[0.0,\"#0d0887\"],[0.1111111111111111,\"#46039f\"],[0.2222222222222222,\"#7201a8\"],[0.3333333333333333,\"#9c179e\"],[0.4444444444444444,\"#bd3786\"],[0.5555555555555556,\"#d8576b\"],[0.6666666666666666,\"#ed7953\"],[0.7777777777777778,\"#fb9f3a\"],[0.8888888888888888,\"#fdca26\"],[1.0,\"#f0f921\"]],\"diverging\":[[0,\"#8e0152\"],[0.1,\"#c51b7d\"],[0.2,\"#de77ae\"],[0.3,\"#f1b6da\"],[0.4,\"#fde0ef\"],[0.5,\"#f7f7f7\"],[0.6,\"#e6f5d0\"],[0.7,\"#b8e186\"],[0.8,\"#7fbc41\"],[0.9,\"#4d9221\"],[1,\"#276419\"]]},\"xaxis\":{\"gridcolor\":\"white\",\"linecolor\":\"white\",\"ticks\":\"\",\"title\":{\"standoff\":15},\"zerolinecolor\":\"white\",\"automargin\":true,\"zerolinewidth\":2},\"yaxis\":{\"gridcolor\":\"white\",\"linecolor\":\"white\",\"ticks\":\"\",\"title\":{\"standoff\":15},\"zerolinecolor\":\"white\",\"automargin\":true,\"zerolinewidth\":2},\"scene\":{\"xaxis\":{\"backgroundcolor\":\"#E5ECF6\",\"gridcolor\":\"white\",\"linecolor\":\"white\",\"showbackground\":true,\"ticks\":\"\",\"zerolinecolor\":\"white\",\"gridwidth\":2},\"yaxis\":{\"backgroundcolor\":\"#E5ECF6\",\"gridcolor\":\"white\",\"linecolor\":\"white\",\"showbackground\":true,\"ticks\":\"\",\"zerolinecolor\":\"white\",\"gridwidth\":2},\"zaxis\":{\"backgroundcolor\":\"#E5ECF6\",\"gridcolor\":\"white\",\"linecolor\":\"white\",\"showbackground\":true,\"ticks\":\"\",\"zerolinecolor\":\"white\",\"gridwidth\":2}},\"shapedefaults\":{\"line\":{\"color\":\"#2a3f5f\"}},\"annotationdefaults\":{\"arrowcolor\":\"#2a3f5f\",\"arrowhead\":0,\"arrowwidth\":1},\"geo\":{\"bgcolor\":\"white\",\"landcolor\":\"#E5ECF6\",\"subunitcolor\":\"white\",\"showland\":true,\"showlakes\":true,\"lakecolor\":\"white\"},\"title\":{\"x\":0.05},\"mapbox\":{\"style\":\"light\"}}},\"xaxis\":{\"anchor\":\"y\",\"domain\":[0.0,1.0],\"title\":{\"text\":\"Category\"},\"categoryorder\":\"total descending\"},\"yaxis\":{\"anchor\":\"x\",\"domain\":[0.0,1.0],\"title\":{\"text\":\"Count\"}},\"legend\":{\"tracegroupgap\":0},\"title\":{\"text\":\"Category Distribution\"},\"barmode\":\"relative\"},                        {\"responsive\": true}                    ).then(function(){\n",
              "                            \n",
              "var gd = document.getElementById('1a44cae9-c2c0-4e31-b78c-fad8f08bbbe1');\n",
              "var x = new MutationObserver(function (mutations, observer) {{\n",
              "        var display = window.getComputedStyle(gd).display;\n",
              "        if (!display || display === 'none') {{\n",
              "            console.log([gd, 'removed!']);\n",
              "            Plotly.purge(gd);\n",
              "            observer.disconnect();\n",
              "        }}\n",
              "}});\n",
              "\n",
              "// Listen for the removal of the full notebook cells\n",
              "var notebookContainer = gd.closest('#notebook-container');\n",
              "if (notebookContainer) {{\n",
              "    x.observe(notebookContainer, {childList: true});\n",
              "}}\n",
              "\n",
              "// Listen for the clearing of the current output cell\n",
              "var outputEl = gd.closest('.output');\n",
              "if (outputEl) {{\n",
              "    x.observe(outputEl, {childList: true});\n",
              "}}\n",
              "\n",
              "                        })                };                            </script>        </div>\n",
              "</body>\n",
              "</html>"
            ]
          },
          "metadata": {}
        }
      ]
    },
    {
      "cell_type": "markdown",
      "source": [
        "# 3. Payment Method Frequency Plot"
      ],
      "metadata": {
        "id": "3HmdQ4KZatv_"
      }
    },
    {
      "cell_type": "code",
      "source": [
        "payment_counts = df_pd['payment_method'].value_counts().reset_index()\n",
        "payment_counts.columns = ['payment_method', 'count']\n",
        "fig_payment = px.bar(payment_counts, x='payment_method', y='count', title=\"Payment Method Distribution\", labels={'count': 'Count', 'payment_method': 'Payment Method'})\n",
        "fig_payment.show()"
      ],
      "metadata": {
        "colab": {
          "base_uri": "https://localhost:8080/",
          "height": 542
        },
        "id": "f4LjmMwYauh9",
        "outputId": "3f4e535f-5eb5-44f2-f0ae-abfe5bd3a62c"
      },
      "execution_count": 108,
      "outputs": [
        {
          "output_type": "display_data",
          "data": {
            "text/html": [
              "<html>\n",
              "<head><meta charset=\"utf-8\" /></head>\n",
              "<body>\n",
              "    <div>            <script src=\"https://cdnjs.cloudflare.com/ajax/libs/mathjax/2.7.5/MathJax.js?config=TeX-AMS-MML_SVG\"></script><script type=\"text/javascript\">if (window.MathJax && window.MathJax.Hub && window.MathJax.Hub.Config) {window.MathJax.Hub.Config({SVG: {font: \"STIX-Web\"}});}</script>                <script type=\"text/javascript\">window.PlotlyConfig = {MathJaxConfig: 'local'};</script>\n",
              "        <script charset=\"utf-8\" src=\"https://cdn.plot.ly/plotly-2.35.2.min.js\"></script>                <div id=\"310df20c-5b4d-4864-bd7c-2bf07c8cd784\" class=\"plotly-graph-div\" style=\"height:525px; width:100%;\"></div>            <script type=\"text/javascript\">                                    window.PLOTLYENV=window.PLOTLYENV || {};                                    if (document.getElementById(\"310df20c-5b4d-4864-bd7c-2bf07c8cd784\")) {                    Plotly.newPlot(                        \"310df20c-5b4d-4864-bd7c-2bf07c8cd784\",                        [{\"alignmentgroup\":\"True\",\"hovertemplate\":\"Payment Method=%{x}\\u003cbr\\u003eCount=%{y}\\u003cextra\\u003e\\u003c\\u002fextra\\u003e\",\"legendgroup\":\"\",\"marker\":{\"color\":\"#636efa\",\"pattern\":{\"shape\":\"\"}},\"name\":\"\",\"offsetgroup\":\"\",\"orientation\":\"v\",\"showlegend\":false,\"textposition\":\"auto\",\"x\":[\"Cash\",\"Credit Card\",\"Debit Card\"],\"xaxis\":\"x\",\"y\":[38132,30076,17263],\"yaxis\":\"y\",\"type\":\"bar\"}],                        {\"template\":{\"data\":{\"histogram2dcontour\":[{\"type\":\"histogram2dcontour\",\"colorbar\":{\"outlinewidth\":0,\"ticks\":\"\"},\"colorscale\":[[0.0,\"#0d0887\"],[0.1111111111111111,\"#46039f\"],[0.2222222222222222,\"#7201a8\"],[0.3333333333333333,\"#9c179e\"],[0.4444444444444444,\"#bd3786\"],[0.5555555555555556,\"#d8576b\"],[0.6666666666666666,\"#ed7953\"],[0.7777777777777778,\"#fb9f3a\"],[0.8888888888888888,\"#fdca26\"],[1.0,\"#f0f921\"]]}],\"choropleth\":[{\"type\":\"choropleth\",\"colorbar\":{\"outlinewidth\":0,\"ticks\":\"\"}}],\"histogram2d\":[{\"type\":\"histogram2d\",\"colorbar\":{\"outlinewidth\":0,\"ticks\":\"\"},\"colorscale\":[[0.0,\"#0d0887\"],[0.1111111111111111,\"#46039f\"],[0.2222222222222222,\"#7201a8\"],[0.3333333333333333,\"#9c179e\"],[0.4444444444444444,\"#bd3786\"],[0.5555555555555556,\"#d8576b\"],[0.6666666666666666,\"#ed7953\"],[0.7777777777777778,\"#fb9f3a\"],[0.8888888888888888,\"#fdca26\"],[1.0,\"#f0f921\"]]}],\"heatmap\":[{\"type\":\"heatmap\",\"colorbar\":{\"outlinewidth\":0,\"ticks\":\"\"},\"colorscale\":[[0.0,\"#0d0887\"],[0.1111111111111111,\"#46039f\"],[0.2222222222222222,\"#7201a8\"],[0.3333333333333333,\"#9c179e\"],[0.4444444444444444,\"#bd3786\"],[0.5555555555555556,\"#d8576b\"],[0.6666666666666666,\"#ed7953\"],[0.7777777777777778,\"#fb9f3a\"],[0.8888888888888888,\"#fdca26\"],[1.0,\"#f0f921\"]]}],\"heatmapgl\":[{\"type\":\"heatmapgl\",\"colorbar\":{\"outlinewidth\":0,\"ticks\":\"\"},\"colorscale\":[[0.0,\"#0d0887\"],[0.1111111111111111,\"#46039f\"],[0.2222222222222222,\"#7201a8\"],[0.3333333333333333,\"#9c179e\"],[0.4444444444444444,\"#bd3786\"],[0.5555555555555556,\"#d8576b\"],[0.6666666666666666,\"#ed7953\"],[0.7777777777777778,\"#fb9f3a\"],[0.8888888888888888,\"#fdca26\"],[1.0,\"#f0f921\"]]}],\"contourcarpet\":[{\"type\":\"contourcarpet\",\"colorbar\":{\"outlinewidth\":0,\"ticks\":\"\"}}],\"contour\":[{\"type\":\"contour\",\"colorbar\":{\"outlinewidth\":0,\"ticks\":\"\"},\"colorscale\":[[0.0,\"#0d0887\"],[0.1111111111111111,\"#46039f\"],[0.2222222222222222,\"#7201a8\"],[0.3333333333333333,\"#9c179e\"],[0.4444444444444444,\"#bd3786\"],[0.5555555555555556,\"#d8576b\"],[0.6666666666666666,\"#ed7953\"],[0.7777777777777778,\"#fb9f3a\"],[0.8888888888888888,\"#fdca26\"],[1.0,\"#f0f921\"]]}],\"surface\":[{\"type\":\"surface\",\"colorbar\":{\"outlinewidth\":0,\"ticks\":\"\"},\"colorscale\":[[0.0,\"#0d0887\"],[0.1111111111111111,\"#46039f\"],[0.2222222222222222,\"#7201a8\"],[0.3333333333333333,\"#9c179e\"],[0.4444444444444444,\"#bd3786\"],[0.5555555555555556,\"#d8576b\"],[0.6666666666666666,\"#ed7953\"],[0.7777777777777778,\"#fb9f3a\"],[0.8888888888888888,\"#fdca26\"],[1.0,\"#f0f921\"]]}],\"mesh3d\":[{\"type\":\"mesh3d\",\"colorbar\":{\"outlinewidth\":0,\"ticks\":\"\"}}],\"scatter\":[{\"fillpattern\":{\"fillmode\":\"overlay\",\"size\":10,\"solidity\":0.2},\"type\":\"scatter\"}],\"parcoords\":[{\"type\":\"parcoords\",\"line\":{\"colorbar\":{\"outlinewidth\":0,\"ticks\":\"\"}}}],\"scatterpolargl\":[{\"type\":\"scatterpolargl\",\"marker\":{\"colorbar\":{\"outlinewidth\":0,\"ticks\":\"\"}}}],\"bar\":[{\"error_x\":{\"color\":\"#2a3f5f\"},\"error_y\":{\"color\":\"#2a3f5f\"},\"marker\":{\"line\":{\"color\":\"#E5ECF6\",\"width\":0.5},\"pattern\":{\"fillmode\":\"overlay\",\"size\":10,\"solidity\":0.2}},\"type\":\"bar\"}],\"scattergeo\":[{\"type\":\"scattergeo\",\"marker\":{\"colorbar\":{\"outlinewidth\":0,\"ticks\":\"\"}}}],\"scatterpolar\":[{\"type\":\"scatterpolar\",\"marker\":{\"colorbar\":{\"outlinewidth\":0,\"ticks\":\"\"}}}],\"histogram\":[{\"marker\":{\"pattern\":{\"fillmode\":\"overlay\",\"size\":10,\"solidity\":0.2}},\"type\":\"histogram\"}],\"scattergl\":[{\"type\":\"scattergl\",\"marker\":{\"colorbar\":{\"outlinewidth\":0,\"ticks\":\"\"}}}],\"scatter3d\":[{\"type\":\"scatter3d\",\"line\":{\"colorbar\":{\"outlinewidth\":0,\"ticks\":\"\"}},\"marker\":{\"colorbar\":{\"outlinewidth\":0,\"ticks\":\"\"}}}],\"scattermapbox\":[{\"type\":\"scattermapbox\",\"marker\":{\"colorbar\":{\"outlinewidth\":0,\"ticks\":\"\"}}}],\"scatterternary\":[{\"type\":\"scatterternary\",\"marker\":{\"colorbar\":{\"outlinewidth\":0,\"ticks\":\"\"}}}],\"scattercarpet\":[{\"type\":\"scattercarpet\",\"marker\":{\"colorbar\":{\"outlinewidth\":0,\"ticks\":\"\"}}}],\"carpet\":[{\"aaxis\":{\"endlinecolor\":\"#2a3f5f\",\"gridcolor\":\"white\",\"linecolor\":\"white\",\"minorgridcolor\":\"white\",\"startlinecolor\":\"#2a3f5f\"},\"baxis\":{\"endlinecolor\":\"#2a3f5f\",\"gridcolor\":\"white\",\"linecolor\":\"white\",\"minorgridcolor\":\"white\",\"startlinecolor\":\"#2a3f5f\"},\"type\":\"carpet\"}],\"table\":[{\"cells\":{\"fill\":{\"color\":\"#EBF0F8\"},\"line\":{\"color\":\"white\"}},\"header\":{\"fill\":{\"color\":\"#C8D4E3\"},\"line\":{\"color\":\"white\"}},\"type\":\"table\"}],\"barpolar\":[{\"marker\":{\"line\":{\"color\":\"#E5ECF6\",\"width\":0.5},\"pattern\":{\"fillmode\":\"overlay\",\"size\":10,\"solidity\":0.2}},\"type\":\"barpolar\"}],\"pie\":[{\"automargin\":true,\"type\":\"pie\"}]},\"layout\":{\"autotypenumbers\":\"strict\",\"colorway\":[\"#636efa\",\"#EF553B\",\"#00cc96\",\"#ab63fa\",\"#FFA15A\",\"#19d3f3\",\"#FF6692\",\"#B6E880\",\"#FF97FF\",\"#FECB52\"],\"font\":{\"color\":\"#2a3f5f\"},\"hovermode\":\"closest\",\"hoverlabel\":{\"align\":\"left\"},\"paper_bgcolor\":\"white\",\"plot_bgcolor\":\"#E5ECF6\",\"polar\":{\"bgcolor\":\"#E5ECF6\",\"angularaxis\":{\"gridcolor\":\"white\",\"linecolor\":\"white\",\"ticks\":\"\"},\"radialaxis\":{\"gridcolor\":\"white\",\"linecolor\":\"white\",\"ticks\":\"\"}},\"ternary\":{\"bgcolor\":\"#E5ECF6\",\"aaxis\":{\"gridcolor\":\"white\",\"linecolor\":\"white\",\"ticks\":\"\"},\"baxis\":{\"gridcolor\":\"white\",\"linecolor\":\"white\",\"ticks\":\"\"},\"caxis\":{\"gridcolor\":\"white\",\"linecolor\":\"white\",\"ticks\":\"\"}},\"coloraxis\":{\"colorbar\":{\"outlinewidth\":0,\"ticks\":\"\"}},\"colorscale\":{\"sequential\":[[0.0,\"#0d0887\"],[0.1111111111111111,\"#46039f\"],[0.2222222222222222,\"#7201a8\"],[0.3333333333333333,\"#9c179e\"],[0.4444444444444444,\"#bd3786\"],[0.5555555555555556,\"#d8576b\"],[0.6666666666666666,\"#ed7953\"],[0.7777777777777778,\"#fb9f3a\"],[0.8888888888888888,\"#fdca26\"],[1.0,\"#f0f921\"]],\"sequentialminus\":[[0.0,\"#0d0887\"],[0.1111111111111111,\"#46039f\"],[0.2222222222222222,\"#7201a8\"],[0.3333333333333333,\"#9c179e\"],[0.4444444444444444,\"#bd3786\"],[0.5555555555555556,\"#d8576b\"],[0.6666666666666666,\"#ed7953\"],[0.7777777777777778,\"#fb9f3a\"],[0.8888888888888888,\"#fdca26\"],[1.0,\"#f0f921\"]],\"diverging\":[[0,\"#8e0152\"],[0.1,\"#c51b7d\"],[0.2,\"#de77ae\"],[0.3,\"#f1b6da\"],[0.4,\"#fde0ef\"],[0.5,\"#f7f7f7\"],[0.6,\"#e6f5d0\"],[0.7,\"#b8e186\"],[0.8,\"#7fbc41\"],[0.9,\"#4d9221\"],[1,\"#276419\"]]},\"xaxis\":{\"gridcolor\":\"white\",\"linecolor\":\"white\",\"ticks\":\"\",\"title\":{\"standoff\":15},\"zerolinecolor\":\"white\",\"automargin\":true,\"zerolinewidth\":2},\"yaxis\":{\"gridcolor\":\"white\",\"linecolor\":\"white\",\"ticks\":\"\",\"title\":{\"standoff\":15},\"zerolinecolor\":\"white\",\"automargin\":true,\"zerolinewidth\":2},\"scene\":{\"xaxis\":{\"backgroundcolor\":\"#E5ECF6\",\"gridcolor\":\"white\",\"linecolor\":\"white\",\"showbackground\":true,\"ticks\":\"\",\"zerolinecolor\":\"white\",\"gridwidth\":2},\"yaxis\":{\"backgroundcolor\":\"#E5ECF6\",\"gridcolor\":\"white\",\"linecolor\":\"white\",\"showbackground\":true,\"ticks\":\"\",\"zerolinecolor\":\"white\",\"gridwidth\":2},\"zaxis\":{\"backgroundcolor\":\"#E5ECF6\",\"gridcolor\":\"white\",\"linecolor\":\"white\",\"showbackground\":true,\"ticks\":\"\",\"zerolinecolor\":\"white\",\"gridwidth\":2}},\"shapedefaults\":{\"line\":{\"color\":\"#2a3f5f\"}},\"annotationdefaults\":{\"arrowcolor\":\"#2a3f5f\",\"arrowhead\":0,\"arrowwidth\":1},\"geo\":{\"bgcolor\":\"white\",\"landcolor\":\"#E5ECF6\",\"subunitcolor\":\"white\",\"showland\":true,\"showlakes\":true,\"lakecolor\":\"white\"},\"title\":{\"x\":0.05},\"mapbox\":{\"style\":\"light\"}}},\"xaxis\":{\"anchor\":\"y\",\"domain\":[0.0,1.0],\"title\":{\"text\":\"Payment Method\"}},\"yaxis\":{\"anchor\":\"x\",\"domain\":[0.0,1.0],\"title\":{\"text\":\"Count\"}},\"legend\":{\"tracegroupgap\":0},\"title\":{\"text\":\"Payment Method Distribution\"},\"barmode\":\"relative\"},                        {\"responsive\": true}                    ).then(function(){\n",
              "                            \n",
              "var gd = document.getElementById('310df20c-5b4d-4864-bd7c-2bf07c8cd784');\n",
              "var x = new MutationObserver(function (mutations, observer) {{\n",
              "        var display = window.getComputedStyle(gd).display;\n",
              "        if (!display || display === 'none') {{\n",
              "            console.log([gd, 'removed!']);\n",
              "            Plotly.purge(gd);\n",
              "            observer.disconnect();\n",
              "        }}\n",
              "}});\n",
              "\n",
              "// Listen for the removal of the full notebook cells\n",
              "var notebookContainer = gd.closest('#notebook-container');\n",
              "if (notebookContainer) {{\n",
              "    x.observe(notebookContainer, {childList: true});\n",
              "}}\n",
              "\n",
              "// Listen for the clearing of the current output cell\n",
              "var outputEl = gd.closest('.output');\n",
              "if (outputEl) {{\n",
              "    x.observe(outputEl, {childList: true});\n",
              "}}\n",
              "\n",
              "                        })                };                            </script>        </div>\n",
              "</body>\n",
              "</html>"
            ]
          },
          "metadata": {}
        }
      ]
    },
    {
      "cell_type": "markdown",
      "source": [
        "**3. Analyze Unique Values**"
      ],
      "metadata": {
        "id": "rK7_nvaGZhpg"
      }
    },
    {
      "cell_type": "code",
      "source": [
        "unique_counts = df.select([\n",
        "    pl.col(\"customer_id\").n_unique().alias(\"unique_customers\"),\n",
        "    pl.col(\"category\").n_unique().alias(\"unique_categories\"),\n",
        "    pl.col(\"shopping_mall\").n_unique().alias(\"unique_malls\")\n",
        "])\n",
        "\n",
        "print(\"Unique Value Counts:\")\n",
        "print(unique_counts)"
      ],
      "metadata": {
        "colab": {
          "base_uri": "https://localhost:8080/"
        },
        "id": "jMO4smceZlUW",
        "outputId": "db95db09-8ce5-408a-bb6e-b9ae19c05688"
      },
      "execution_count": 109,
      "outputs": [
        {
          "output_type": "stream",
          "name": "stdout",
          "text": [
            "Unique Value Counts:\n",
            "shape: (1, 3)\n",
            "┌──────────────────┬───────────────────┬──────────────┐\n",
            "│ unique_customers ┆ unique_categories ┆ unique_malls │\n",
            "│ ---              ┆ ---               ┆ ---          │\n",
            "│ u32              ┆ u32               ┆ u32          │\n",
            "╞══════════════════╪═══════════════════╪══════════════╡\n",
            "│ 85471            ┆ 8                 ┆ 10           │\n",
            "└──────────────────┴───────────────────┴──────────────┘\n"
          ]
        }
      ]
    },
    {
      "cell_type": "markdown",
      "source": [
        "**4. Correlation Analysis**"
      ],
      "metadata": {
        "id": "3kx2hgfBZxhC"
      }
    },
    {
      "cell_type": "code",
      "source": [
        "correlation_age_quantity = df.select(pl.corr(\"age\", \"quantity\"))\n",
        "correlation_quantity_price = df.select(pl.corr(\"quantity\", \"price\"))\n",
        "\n",
        "print(\"Correlation between Age and Quantity:\")\n",
        "print(correlation_age_quantity)\n",
        "print(\"\\nCorrelation between Quantity and Price:\")\n",
        "print(correlation_quantity_price)"
      ],
      "metadata": {
        "colab": {
          "base_uri": "https://localhost:8080/"
        },
        "id": "ovuo_8YiZ2A_",
        "outputId": "3ed4b082-d048-4c88-952c-535be7046e33"
      },
      "execution_count": 110,
      "outputs": [
        {
          "output_type": "stream",
          "name": "stdout",
          "text": [
            "Correlation between Age and Quantity:\n",
            "shape: (1, 1)\n",
            "┌───────────┐\n",
            "│ age       │\n",
            "│ ---       │\n",
            "│ f64       │\n",
            "╞═══════════╡\n",
            "│ -0.000843 │\n",
            "└───────────┘\n",
            "\n",
            "Correlation between Quantity and Price:\n",
            "shape: (1, 1)\n",
            "┌──────────┐\n",
            "│ quantity │\n",
            "│ ---      │\n",
            "│ f64      │\n",
            "╞══════════╡\n",
            "│ 0.045325 │\n",
            "└──────────┘\n"
          ]
        }
      ]
    },
    {
      "cell_type": "code",
      "source": [
        "df.columns"
      ],
      "metadata": {
        "colab": {
          "base_uri": "https://localhost:8080/"
        },
        "id": "ZtL_RlYybsQw",
        "outputId": "608b8647-e82b-4c94-8c76-81b187e12a5b"
      },
      "execution_count": 111,
      "outputs": [
        {
          "output_type": "execute_result",
          "data": {
            "text/plain": [
              "['invoice_no',\n",
              " 'customer_id',\n",
              " 'gender',\n",
              " 'age',\n",
              " 'category',\n",
              " 'quantity',\n",
              " 'price',\n",
              " 'payment_method',\n",
              " 'invoice_date',\n",
              " 'shopping_mall',\n",
              " 'total_spent']"
            ]
          },
          "metadata": {},
          "execution_count": 111
        }
      ]
    },
    {
      "cell_type": "code",
      "source": [
        "import plotly.graph_objects as go\n",
        "\n",
        "correlation_matrix = df.select(['age', 'quantity', 'price', 'total_spent']).corr()\n",
        "\n",
        "# Step 2: Convert to Pandas DataFrame for Plotly compatibility\n",
        "correlation_matrix_pd = correlation_matrix.to_pandas()\n",
        "\n",
        "# Step 3: Create a heatmap for the correlation matrix using Plotly\n",
        "fig = go.Figure(data=go.Heatmap(\n",
        "    z=correlation_matrix_pd.values,\n",
        "    x=correlation_matrix_pd.columns,\n",
        "    y=correlation_matrix_pd.columns,\n",
        "    colorscale=\"Viridis\",\n",
        "    zmin=-1, zmax=1\n",
        "))\n",
        "\n",
        "# Customize layout\n",
        "fig.update_layout(\n",
        "    title=\"Correlation Matrix\",\n",
        "    xaxis_title=\"Features\",\n",
        "    yaxis_title=\"Features\",\n",
        "    width=500, height=500\n",
        ")\n",
        "\n",
        "# Show the plot\n",
        "fig.show()\n"
      ],
      "metadata": {
        "colab": {
          "base_uri": "https://localhost:8080/",
          "height": 517
        },
        "id": "gfsVKAxsbxuw",
        "outputId": "3701e6ed-4f35-4d79-a3b9-f9c67abe5bad"
      },
      "execution_count": 112,
      "outputs": [
        {
          "output_type": "display_data",
          "data": {
            "text/html": [
              "<html>\n",
              "<head><meta charset=\"utf-8\" /></head>\n",
              "<body>\n",
              "    <div>            <script src=\"https://cdnjs.cloudflare.com/ajax/libs/mathjax/2.7.5/MathJax.js?config=TeX-AMS-MML_SVG\"></script><script type=\"text/javascript\">if (window.MathJax && window.MathJax.Hub && window.MathJax.Hub.Config) {window.MathJax.Hub.Config({SVG: {font: \"STIX-Web\"}});}</script>                <script type=\"text/javascript\">window.PlotlyConfig = {MathJaxConfig: 'local'};</script>\n",
              "        <script charset=\"utf-8\" src=\"https://cdn.plot.ly/plotly-2.35.2.min.js\"></script>                <div id=\"7f115cc9-c9c0-4075-877b-92d527b8fcf7\" class=\"plotly-graph-div\" style=\"height:500px; width:500px;\"></div>            <script type=\"text/javascript\">                                    window.PLOTLYENV=window.PLOTLYENV || {};                                    if (document.getElementById(\"7f115cc9-c9c0-4075-877b-92d527b8fcf7\")) {                    Plotly.newPlot(                        \"7f115cc9-c9c0-4075-877b-92d527b8fcf7\",                        [{\"colorscale\":[[0.0,\"#440154\"],[0.1111111111111111,\"#482878\"],[0.2222222222222222,\"#3e4989\"],[0.3333333333333333,\"#31688e\"],[0.4444444444444444,\"#26828e\"],[0.5555555555555556,\"#1f9e89\"],[0.6666666666666666,\"#35b779\"],[0.7777777777777778,\"#6ece58\"],[0.8888888888888888,\"#b5de2b\"],[1.0,\"#fde725\"]],\"x\":[\"age\",\"quantity\",\"price\",\"total_spent\"],\"y\":[\"age\",\"quantity\",\"price\",\"total_spent\"],\"z\":[[1.0,-0.000843367015299538,-0.0008022384062162554,0.0002689940630231989],[-0.000843367015299538,0.9999999999999998,0.0453250109158157,0.2668805553479283],[-0.0008022384062162556,0.0453250109158157,1.0,0.9251761072781044],[0.00026899406302319885,0.26688055534792826,0.9251761072781044,0.9999999999999999]],\"zmax\":1,\"zmin\":-1,\"type\":\"heatmap\"}],                        {\"template\":{\"data\":{\"histogram2dcontour\":[{\"type\":\"histogram2dcontour\",\"colorbar\":{\"outlinewidth\":0,\"ticks\":\"\"},\"colorscale\":[[0.0,\"#0d0887\"],[0.1111111111111111,\"#46039f\"],[0.2222222222222222,\"#7201a8\"],[0.3333333333333333,\"#9c179e\"],[0.4444444444444444,\"#bd3786\"],[0.5555555555555556,\"#d8576b\"],[0.6666666666666666,\"#ed7953\"],[0.7777777777777778,\"#fb9f3a\"],[0.8888888888888888,\"#fdca26\"],[1.0,\"#f0f921\"]]}],\"choropleth\":[{\"type\":\"choropleth\",\"colorbar\":{\"outlinewidth\":0,\"ticks\":\"\"}}],\"histogram2d\":[{\"type\":\"histogram2d\",\"colorbar\":{\"outlinewidth\":0,\"ticks\":\"\"},\"colorscale\":[[0.0,\"#0d0887\"],[0.1111111111111111,\"#46039f\"],[0.2222222222222222,\"#7201a8\"],[0.3333333333333333,\"#9c179e\"],[0.4444444444444444,\"#bd3786\"],[0.5555555555555556,\"#d8576b\"],[0.6666666666666666,\"#ed7953\"],[0.7777777777777778,\"#fb9f3a\"],[0.8888888888888888,\"#fdca26\"],[1.0,\"#f0f921\"]]}],\"heatmap\":[{\"type\":\"heatmap\",\"colorbar\":{\"outlinewidth\":0,\"ticks\":\"\"},\"colorscale\":[[0.0,\"#0d0887\"],[0.1111111111111111,\"#46039f\"],[0.2222222222222222,\"#7201a8\"],[0.3333333333333333,\"#9c179e\"],[0.4444444444444444,\"#bd3786\"],[0.5555555555555556,\"#d8576b\"],[0.6666666666666666,\"#ed7953\"],[0.7777777777777778,\"#fb9f3a\"],[0.8888888888888888,\"#fdca26\"],[1.0,\"#f0f921\"]]}],\"heatmapgl\":[{\"type\":\"heatmapgl\",\"colorbar\":{\"outlinewidth\":0,\"ticks\":\"\"},\"colorscale\":[[0.0,\"#0d0887\"],[0.1111111111111111,\"#46039f\"],[0.2222222222222222,\"#7201a8\"],[0.3333333333333333,\"#9c179e\"],[0.4444444444444444,\"#bd3786\"],[0.5555555555555556,\"#d8576b\"],[0.6666666666666666,\"#ed7953\"],[0.7777777777777778,\"#fb9f3a\"],[0.8888888888888888,\"#fdca26\"],[1.0,\"#f0f921\"]]}],\"contourcarpet\":[{\"type\":\"contourcarpet\",\"colorbar\":{\"outlinewidth\":0,\"ticks\":\"\"}}],\"contour\":[{\"type\":\"contour\",\"colorbar\":{\"outlinewidth\":0,\"ticks\":\"\"},\"colorscale\":[[0.0,\"#0d0887\"],[0.1111111111111111,\"#46039f\"],[0.2222222222222222,\"#7201a8\"],[0.3333333333333333,\"#9c179e\"],[0.4444444444444444,\"#bd3786\"],[0.5555555555555556,\"#d8576b\"],[0.6666666666666666,\"#ed7953\"],[0.7777777777777778,\"#fb9f3a\"],[0.8888888888888888,\"#fdca26\"],[1.0,\"#f0f921\"]]}],\"surface\":[{\"type\":\"surface\",\"colorbar\":{\"outlinewidth\":0,\"ticks\":\"\"},\"colorscale\":[[0.0,\"#0d0887\"],[0.1111111111111111,\"#46039f\"],[0.2222222222222222,\"#7201a8\"],[0.3333333333333333,\"#9c179e\"],[0.4444444444444444,\"#bd3786\"],[0.5555555555555556,\"#d8576b\"],[0.6666666666666666,\"#ed7953\"],[0.7777777777777778,\"#fb9f3a\"],[0.8888888888888888,\"#fdca26\"],[1.0,\"#f0f921\"]]}],\"mesh3d\":[{\"type\":\"mesh3d\",\"colorbar\":{\"outlinewidth\":0,\"ticks\":\"\"}}],\"scatter\":[{\"fillpattern\":{\"fillmode\":\"overlay\",\"size\":10,\"solidity\":0.2},\"type\":\"scatter\"}],\"parcoords\":[{\"type\":\"parcoords\",\"line\":{\"colorbar\":{\"outlinewidth\":0,\"ticks\":\"\"}}}],\"scatterpolargl\":[{\"type\":\"scatterpolargl\",\"marker\":{\"colorbar\":{\"outlinewidth\":0,\"ticks\":\"\"}}}],\"bar\":[{\"error_x\":{\"color\":\"#2a3f5f\"},\"error_y\":{\"color\":\"#2a3f5f\"},\"marker\":{\"line\":{\"color\":\"#E5ECF6\",\"width\":0.5},\"pattern\":{\"fillmode\":\"overlay\",\"size\":10,\"solidity\":0.2}},\"type\":\"bar\"}],\"scattergeo\":[{\"type\":\"scattergeo\",\"marker\":{\"colorbar\":{\"outlinewidth\":0,\"ticks\":\"\"}}}],\"scatterpolar\":[{\"type\":\"scatterpolar\",\"marker\":{\"colorbar\":{\"outlinewidth\":0,\"ticks\":\"\"}}}],\"histogram\":[{\"marker\":{\"pattern\":{\"fillmode\":\"overlay\",\"size\":10,\"solidity\":0.2}},\"type\":\"histogram\"}],\"scattergl\":[{\"type\":\"scattergl\",\"marker\":{\"colorbar\":{\"outlinewidth\":0,\"ticks\":\"\"}}}],\"scatter3d\":[{\"type\":\"scatter3d\",\"line\":{\"colorbar\":{\"outlinewidth\":0,\"ticks\":\"\"}},\"marker\":{\"colorbar\":{\"outlinewidth\":0,\"ticks\":\"\"}}}],\"scattermapbox\":[{\"type\":\"scattermapbox\",\"marker\":{\"colorbar\":{\"outlinewidth\":0,\"ticks\":\"\"}}}],\"scatterternary\":[{\"type\":\"scatterternary\",\"marker\":{\"colorbar\":{\"outlinewidth\":0,\"ticks\":\"\"}}}],\"scattercarpet\":[{\"type\":\"scattercarpet\",\"marker\":{\"colorbar\":{\"outlinewidth\":0,\"ticks\":\"\"}}}],\"carpet\":[{\"aaxis\":{\"endlinecolor\":\"#2a3f5f\",\"gridcolor\":\"white\",\"linecolor\":\"white\",\"minorgridcolor\":\"white\",\"startlinecolor\":\"#2a3f5f\"},\"baxis\":{\"endlinecolor\":\"#2a3f5f\",\"gridcolor\":\"white\",\"linecolor\":\"white\",\"minorgridcolor\":\"white\",\"startlinecolor\":\"#2a3f5f\"},\"type\":\"carpet\"}],\"table\":[{\"cells\":{\"fill\":{\"color\":\"#EBF0F8\"},\"line\":{\"color\":\"white\"}},\"header\":{\"fill\":{\"color\":\"#C8D4E3\"},\"line\":{\"color\":\"white\"}},\"type\":\"table\"}],\"barpolar\":[{\"marker\":{\"line\":{\"color\":\"#E5ECF6\",\"width\":0.5},\"pattern\":{\"fillmode\":\"overlay\",\"size\":10,\"solidity\":0.2}},\"type\":\"barpolar\"}],\"pie\":[{\"automargin\":true,\"type\":\"pie\"}]},\"layout\":{\"autotypenumbers\":\"strict\",\"colorway\":[\"#636efa\",\"#EF553B\",\"#00cc96\",\"#ab63fa\",\"#FFA15A\",\"#19d3f3\",\"#FF6692\",\"#B6E880\",\"#FF97FF\",\"#FECB52\"],\"font\":{\"color\":\"#2a3f5f\"},\"hovermode\":\"closest\",\"hoverlabel\":{\"align\":\"left\"},\"paper_bgcolor\":\"white\",\"plot_bgcolor\":\"#E5ECF6\",\"polar\":{\"bgcolor\":\"#E5ECF6\",\"angularaxis\":{\"gridcolor\":\"white\",\"linecolor\":\"white\",\"ticks\":\"\"},\"radialaxis\":{\"gridcolor\":\"white\",\"linecolor\":\"white\",\"ticks\":\"\"}},\"ternary\":{\"bgcolor\":\"#E5ECF6\",\"aaxis\":{\"gridcolor\":\"white\",\"linecolor\":\"white\",\"ticks\":\"\"},\"baxis\":{\"gridcolor\":\"white\",\"linecolor\":\"white\",\"ticks\":\"\"},\"caxis\":{\"gridcolor\":\"white\",\"linecolor\":\"white\",\"ticks\":\"\"}},\"coloraxis\":{\"colorbar\":{\"outlinewidth\":0,\"ticks\":\"\"}},\"colorscale\":{\"sequential\":[[0.0,\"#0d0887\"],[0.1111111111111111,\"#46039f\"],[0.2222222222222222,\"#7201a8\"],[0.3333333333333333,\"#9c179e\"],[0.4444444444444444,\"#bd3786\"],[0.5555555555555556,\"#d8576b\"],[0.6666666666666666,\"#ed7953\"],[0.7777777777777778,\"#fb9f3a\"],[0.8888888888888888,\"#fdca26\"],[1.0,\"#f0f921\"]],\"sequentialminus\":[[0.0,\"#0d0887\"],[0.1111111111111111,\"#46039f\"],[0.2222222222222222,\"#7201a8\"],[0.3333333333333333,\"#9c179e\"],[0.4444444444444444,\"#bd3786\"],[0.5555555555555556,\"#d8576b\"],[0.6666666666666666,\"#ed7953\"],[0.7777777777777778,\"#fb9f3a\"],[0.8888888888888888,\"#fdca26\"],[1.0,\"#f0f921\"]],\"diverging\":[[0,\"#8e0152\"],[0.1,\"#c51b7d\"],[0.2,\"#de77ae\"],[0.3,\"#f1b6da\"],[0.4,\"#fde0ef\"],[0.5,\"#f7f7f7\"],[0.6,\"#e6f5d0\"],[0.7,\"#b8e186\"],[0.8,\"#7fbc41\"],[0.9,\"#4d9221\"],[1,\"#276419\"]]},\"xaxis\":{\"gridcolor\":\"white\",\"linecolor\":\"white\",\"ticks\":\"\",\"title\":{\"standoff\":15},\"zerolinecolor\":\"white\",\"automargin\":true,\"zerolinewidth\":2},\"yaxis\":{\"gridcolor\":\"white\",\"linecolor\":\"white\",\"ticks\":\"\",\"title\":{\"standoff\":15},\"zerolinecolor\":\"white\",\"automargin\":true,\"zerolinewidth\":2},\"scene\":{\"xaxis\":{\"backgroundcolor\":\"#E5ECF6\",\"gridcolor\":\"white\",\"linecolor\":\"white\",\"showbackground\":true,\"ticks\":\"\",\"zerolinecolor\":\"white\",\"gridwidth\":2},\"yaxis\":{\"backgroundcolor\":\"#E5ECF6\",\"gridcolor\":\"white\",\"linecolor\":\"white\",\"showbackground\":true,\"ticks\":\"\",\"zerolinecolor\":\"white\",\"gridwidth\":2},\"zaxis\":{\"backgroundcolor\":\"#E5ECF6\",\"gridcolor\":\"white\",\"linecolor\":\"white\",\"showbackground\":true,\"ticks\":\"\",\"zerolinecolor\":\"white\",\"gridwidth\":2}},\"shapedefaults\":{\"line\":{\"color\":\"#2a3f5f\"}},\"annotationdefaults\":{\"arrowcolor\":\"#2a3f5f\",\"arrowhead\":0,\"arrowwidth\":1},\"geo\":{\"bgcolor\":\"white\",\"landcolor\":\"#E5ECF6\",\"subunitcolor\":\"white\",\"showland\":true,\"showlakes\":true,\"lakecolor\":\"white\"},\"title\":{\"x\":0.05},\"mapbox\":{\"style\":\"light\"}}},\"title\":{\"text\":\"Correlation Matrix\"},\"xaxis\":{\"title\":{\"text\":\"Features\"}},\"yaxis\":{\"title\":{\"text\":\"Features\"}},\"width\":500,\"height\":500},                        {\"responsive\": true}                    ).then(function(){\n",
              "                            \n",
              "var gd = document.getElementById('7f115cc9-c9c0-4075-877b-92d527b8fcf7');\n",
              "var x = new MutationObserver(function (mutations, observer) {{\n",
              "        var display = window.getComputedStyle(gd).display;\n",
              "        if (!display || display === 'none') {{\n",
              "            console.log([gd, 'removed!']);\n",
              "            Plotly.purge(gd);\n",
              "            observer.disconnect();\n",
              "        }}\n",
              "}});\n",
              "\n",
              "// Listen for the removal of the full notebook cells\n",
              "var notebookContainer = gd.closest('#notebook-container');\n",
              "if (notebookContainer) {{\n",
              "    x.observe(notebookContainer, {childList: true});\n",
              "}}\n",
              "\n",
              "// Listen for the clearing of the current output cell\n",
              "var outputEl = gd.closest('.output');\n",
              "if (outputEl) {{\n",
              "    x.observe(outputEl, {childList: true});\n",
              "}}\n",
              "\n",
              "                        })                };                            </script>        </div>\n",
              "</body>\n",
              "</html>"
            ]
          },
          "metadata": {}
        }
      ]
    },
    {
      "cell_type": "markdown",
      "source": [
        "# **Diagnostic analysis**"
      ],
      "metadata": {
        "id": "rUcPAGt8PS1u"
      }
    },
    {
      "cell_type": "markdown",
      "source": [
        "Diagnostic analysis seeks to answer the question “Why did this happen?” by taking a more in-depth look at data to uncover subtle patterns."
      ],
      "metadata": {
        "id": "3la2nWHIPWvO"
      }
    },
    {
      "cell_type": "markdown",
      "source": [
        "**1. Identifying Anomalies in Sales Trends**"
      ],
      "metadata": {
        "id": "8oSoLhZVQXkq"
      }
    },
    {
      "cell_type": "code",
      "source": [
        "df"
      ],
      "metadata": {
        "colab": {
          "base_uri": "https://localhost:8080/",
          "height": 443
        },
        "id": "z6EhiM7BR6uy",
        "outputId": "1669f5e8-39df-4cd5-ee10-ea3a0561691f"
      },
      "execution_count": 113,
      "outputs": [
        {
          "output_type": "execute_result",
          "data": {
            "text/plain": [
              "shape: (85_471, 11)\n",
              "┌────────────┬─────────────┬────────┬──────┬───┬────────────┬────────────┬────────────┬────────────┐\n",
              "│ invoice_no ┆ customer_id ┆ gender ┆ age  ┆ … ┆ payment_me ┆ invoice_da ┆ shopping_m ┆ total_spen │\n",
              "│ ---        ┆ ---         ┆ ---    ┆ ---  ┆   ┆ thod       ┆ te         ┆ all        ┆ t          │\n",
              "│ str        ┆ str         ┆ str    ┆ f64  ┆   ┆ ---        ┆ ---        ┆ ---        ┆ ---        │\n",
              "│            ┆             ┆        ┆      ┆   ┆ str        ┆ date       ┆ str        ┆ f64        │\n",
              "╞════════════╪═════════════╪════════╪══════╪═══╪════════════╪════════════╪════════════╪════════════╡\n",
              "│ I312008    ┆ C167515     ┆ Male   ┆ 66.0 ┆ … ┆ Cash       ┆ 2022-01-25 ┆ Istinye    ┆ 4801.28    │\n",
              "│            ┆             ┆        ┆      ┆   ┆            ┆            ┆ Park       ┆            │\n",
              "│ I140941    ┆ C182320     ┆ Female ┆ 29.0 ┆ … ┆ Cash       ┆ 2021-06-16 ┆ Mall of    ┆ 5401.53    │\n",
              "│            ┆             ┆        ┆      ┆   ┆            ┆            ┆ Istanbul   ┆            │\n",
              "│ I329843    ┆ C330673     ┆ Male   ┆ 24.0 ┆ … ┆ Credit     ┆ 2022-09-04 ┆ Cevahir    ┆ 650.56     │\n",
              "│            ┆             ┆        ┆      ┆   ┆ Card       ┆            ┆ AVM        ┆            │\n",
              "│ I485384    ┆ C137164     ┆ Female ┆ 47.0 ┆ … ┆ Credit     ┆ 2022-08-06 ┆ Zorlu      ┆ 5401.53    │\n",
              "│            ┆             ┆        ┆      ┆   ┆ Card       ┆            ┆ Center     ┆            │\n",
              "│ I953809    ┆ C843176     ┆ Female ┆ 27.0 ┆ … ┆ Credit     ┆ 2023-02-26 ┆ Metrocity  ┆ 162.64     │\n",
              "│            ┆             ┆        ┆      ┆   ┆ Card       ┆            ┆            ┆            │\n",
              "│ …          ┆ …           ┆ …      ┆ …    ┆ … ┆ …          ┆ …          ┆ …          ┆ …          │\n",
              "│ I292201    ┆ C600218     ┆ Female ┆ 43.0 ┆ … ┆ Cash       ┆ 2021-10-31 ┆ Cevahir    ┆ 5.23       │\n",
              "│            ┆             ┆        ┆      ┆   ┆            ┆            ┆ AVM        ┆            │\n",
              "│ I306467    ┆ C317682     ┆ Female ┆ 32.0 ┆ … ┆ Credit     ┆ 2022-03-29 ┆ Istinye    ┆ 365.94     │\n",
              "│            ┆             ┆        ┆      ┆   ┆ Card       ┆            ┆ Park       ┆            │\n",
              "│ I317576    ┆ C230474     ┆ Male   ┆ 38.0 ┆ … ┆ Credit     ┆ 2021-11-08 ┆ Metropol   ┆ 4801.28    │\n",
              "│            ┆             ┆        ┆      ┆   ┆ Card       ┆            ┆ AVM        ┆            │\n",
              "│ I873985    ┆ C183813     ┆ Male   ┆ 22.0 ┆ … ┆ Cash       ┆ 2022-04-05 ┆ Cevahir    ┆ 4801.28    │\n",
              "│            ┆             ┆        ┆      ┆   ┆            ┆            ┆ AVM        ┆            │\n",
              "│ I502055    ┆ C801479     ┆ Female ┆ 40.0 ┆ … ┆ Cash       ┆ 2022-02-28 ┆ Cevahir    ┆ 322.56     │\n",
              "│            ┆             ┆        ┆      ┆   ┆            ┆            ┆ AVM        ┆            │\n",
              "└────────────┴─────────────┴────────┴──────┴───┴────────────┴────────────┴────────────┴────────────┘"
            ],
            "text/html": [
              "<div><style>\n",
              ".dataframe > thead > tr,\n",
              ".dataframe > tbody > tr {\n",
              "  text-align: right;\n",
              "  white-space: pre-wrap;\n",
              "}\n",
              "</style>\n",
              "<small>shape: (85_471, 11)</small><table border=\"1\" class=\"dataframe\"><thead><tr><th>invoice_no</th><th>customer_id</th><th>gender</th><th>age</th><th>category</th><th>quantity</th><th>price</th><th>payment_method</th><th>invoice_date</th><th>shopping_mall</th><th>total_spent</th></tr><tr><td>str</td><td>str</td><td>str</td><td>f64</td><td>str</td><td>i64</td><td>f64</td><td>str</td><td>date</td><td>str</td><td>f64</td></tr></thead><tbody><tr><td>&quot;I312008&quot;</td><td>&quot;C167515&quot;</td><td>&quot;Male&quot;</td><td>66.0</td><td>&quot;Clothing&quot;</td><td>4</td><td>1200.32</td><td>&quot;Cash&quot;</td><td>2022-01-25</td><td>&quot;Istinye Park&quot;</td><td>4801.28</td></tr><tr><td>&quot;I140941&quot;</td><td>&quot;C182320&quot;</td><td>&quot;Female&quot;</td><td>29.0</td><td>&quot;Shoes&quot;</td><td>3</td><td>1800.51</td><td>&quot;Cash&quot;</td><td>2021-06-16</td><td>&quot;Mall of Istanbul&quot;</td><td>5401.53</td></tr><tr><td>&quot;I329843&quot;</td><td>&quot;C330673&quot;</td><td>&quot;Male&quot;</td><td>24.0</td><td>&quot;Cosmetics&quot;</td><td>4</td><td>162.64</td><td>&quot;Credit Card&quot;</td><td>2022-09-04</td><td>&quot;Cevahir AVM&quot;</td><td>650.56</td></tr><tr><td>&quot;I485384&quot;</td><td>&quot;C137164&quot;</td><td>&quot;Female&quot;</td><td>47.0</td><td>&quot;Shoes&quot;</td><td>3</td><td>1800.51</td><td>&quot;Credit Card&quot;</td><td>2022-08-06</td><td>&quot;Zorlu Center&quot;</td><td>5401.53</td></tr><tr><td>&quot;I953809&quot;</td><td>&quot;C843176&quot;</td><td>&quot;Female&quot;</td><td>27.0</td><td>&quot;Cosmetics&quot;</td><td>2</td><td>81.32</td><td>&quot;Credit Card&quot;</td><td>2023-02-26</td><td>&quot;Metrocity&quot;</td><td>162.64</td></tr><tr><td>&hellip;</td><td>&hellip;</td><td>&hellip;</td><td>&hellip;</td><td>&hellip;</td><td>&hellip;</td><td>&hellip;</td><td>&hellip;</td><td>&hellip;</td><td>&hellip;</td><td>&hellip;</td></tr><tr><td>&quot;I292201&quot;</td><td>&quot;C600218&quot;</td><td>&quot;Female&quot;</td><td>43.0</td><td>&quot;Food &amp; Beverage&quot;</td><td>1</td><td>5.23</td><td>&quot;Cash&quot;</td><td>2021-10-31</td><td>&quot;Cevahir AVM&quot;</td><td>5.23</td></tr><tr><td>&quot;I306467&quot;</td><td>&quot;C317682&quot;</td><td>&quot;Female&quot;</td><td>32.0</td><td>&quot;Cosmetics&quot;</td><td>3</td><td>121.98</td><td>&quot;Credit Card&quot;</td><td>2022-03-29</td><td>&quot;Istinye Park&quot;</td><td>365.94</td></tr><tr><td>&quot;I317576&quot;</td><td>&quot;C230474&quot;</td><td>&quot;Male&quot;</td><td>38.0</td><td>&quot;Clothing&quot;</td><td>4</td><td>1200.32</td><td>&quot;Credit Card&quot;</td><td>2021-11-08</td><td>&quot;Metropol AVM&quot;</td><td>4801.28</td></tr><tr><td>&quot;I873985&quot;</td><td>&quot;C183813&quot;</td><td>&quot;Male&quot;</td><td>22.0</td><td>&quot;Clothing&quot;</td><td>4</td><td>1200.32</td><td>&quot;Cash&quot;</td><td>2022-04-05</td><td>&quot;Cevahir AVM&quot;</td><td>4801.28</td></tr><tr><td>&quot;I502055&quot;</td><td>&quot;C801479&quot;</td><td>&quot;Female&quot;</td><td>40.0</td><td>&quot;Toys&quot;</td><td>3</td><td>107.52</td><td>&quot;Cash&quot;</td><td>2022-02-28</td><td>&quot;Cevahir AVM&quot;</td><td>322.56</td></tr></tbody></table></div>"
            ]
          },
          "metadata": {},
          "execution_count": 113
        }
      ]
    },
    {
      "cell_type": "code",
      "source": [
        "# Extract the month from 'invoice_date' for monthly grouping\n",
        "df = df.with_columns(pl.col(\"invoice_date\").dt.month().alias(\"month\"))\n",
        "\n",
        "df"
      ],
      "metadata": {
        "colab": {
          "base_uri": "https://localhost:8080/",
          "height": 443
        },
        "id": "A8Zy_2nCSb8C",
        "outputId": "434140e4-d10b-4f9d-87e5-ba952a0ecd07"
      },
      "execution_count": 114,
      "outputs": [
        {
          "output_type": "execute_result",
          "data": {
            "text/plain": [
              "shape: (85_471, 12)\n",
              "┌────────────┬─────────────┬────────┬──────┬───┬──────────────┬──────────────┬─────────────┬───────┐\n",
              "│ invoice_no ┆ customer_id ┆ gender ┆ age  ┆ … ┆ invoice_date ┆ shopping_mal ┆ total_spent ┆ month │\n",
              "│ ---        ┆ ---         ┆ ---    ┆ ---  ┆   ┆ ---          ┆ l            ┆ ---         ┆ ---   │\n",
              "│ str        ┆ str         ┆ str    ┆ f64  ┆   ┆ date         ┆ ---          ┆ f64         ┆ i8    │\n",
              "│            ┆             ┆        ┆      ┆   ┆              ┆ str          ┆             ┆       │\n",
              "╞════════════╪═════════════╪════════╪══════╪═══╪══════════════╪══════════════╪═════════════╪═══════╡\n",
              "│ I312008    ┆ C167515     ┆ Male   ┆ 66.0 ┆ … ┆ 2022-01-25   ┆ Istinye Park ┆ 4801.28     ┆ 1     │\n",
              "│ I140941    ┆ C182320     ┆ Female ┆ 29.0 ┆ … ┆ 2021-06-16   ┆ Mall of      ┆ 5401.53     ┆ 6     │\n",
              "│            ┆             ┆        ┆      ┆   ┆              ┆ Istanbul     ┆             ┆       │\n",
              "│ I329843    ┆ C330673     ┆ Male   ┆ 24.0 ┆ … ┆ 2022-09-04   ┆ Cevahir AVM  ┆ 650.56      ┆ 9     │\n",
              "│ I485384    ┆ C137164     ┆ Female ┆ 47.0 ┆ … ┆ 2022-08-06   ┆ Zorlu Center ┆ 5401.53     ┆ 8     │\n",
              "│ I953809    ┆ C843176     ┆ Female ┆ 27.0 ┆ … ┆ 2023-02-26   ┆ Metrocity    ┆ 162.64      ┆ 2     │\n",
              "│ …          ┆ …           ┆ …      ┆ …    ┆ … ┆ …            ┆ …            ┆ …           ┆ …     │\n",
              "│ I292201    ┆ C600218     ┆ Female ┆ 43.0 ┆ … ┆ 2021-10-31   ┆ Cevahir AVM  ┆ 5.23        ┆ 10    │\n",
              "│ I306467    ┆ C317682     ┆ Female ┆ 32.0 ┆ … ┆ 2022-03-29   ┆ Istinye Park ┆ 365.94      ┆ 3     │\n",
              "│ I317576    ┆ C230474     ┆ Male   ┆ 38.0 ┆ … ┆ 2021-11-08   ┆ Metropol AVM ┆ 4801.28     ┆ 11    │\n",
              "│ I873985    ┆ C183813     ┆ Male   ┆ 22.0 ┆ … ┆ 2022-04-05   ┆ Cevahir AVM  ┆ 4801.28     ┆ 4     │\n",
              "│ I502055    ┆ C801479     ┆ Female ┆ 40.0 ┆ … ┆ 2022-02-28   ┆ Cevahir AVM  ┆ 322.56      ┆ 2     │\n",
              "└────────────┴─────────────┴────────┴──────┴───┴──────────────┴──────────────┴─────────────┴───────┘"
            ],
            "text/html": [
              "<div><style>\n",
              ".dataframe > thead > tr,\n",
              ".dataframe > tbody > tr {\n",
              "  text-align: right;\n",
              "  white-space: pre-wrap;\n",
              "}\n",
              "</style>\n",
              "<small>shape: (85_471, 12)</small><table border=\"1\" class=\"dataframe\"><thead><tr><th>invoice_no</th><th>customer_id</th><th>gender</th><th>age</th><th>category</th><th>quantity</th><th>price</th><th>payment_method</th><th>invoice_date</th><th>shopping_mall</th><th>total_spent</th><th>month</th></tr><tr><td>str</td><td>str</td><td>str</td><td>f64</td><td>str</td><td>i64</td><td>f64</td><td>str</td><td>date</td><td>str</td><td>f64</td><td>i8</td></tr></thead><tbody><tr><td>&quot;I312008&quot;</td><td>&quot;C167515&quot;</td><td>&quot;Male&quot;</td><td>66.0</td><td>&quot;Clothing&quot;</td><td>4</td><td>1200.32</td><td>&quot;Cash&quot;</td><td>2022-01-25</td><td>&quot;Istinye Park&quot;</td><td>4801.28</td><td>1</td></tr><tr><td>&quot;I140941&quot;</td><td>&quot;C182320&quot;</td><td>&quot;Female&quot;</td><td>29.0</td><td>&quot;Shoes&quot;</td><td>3</td><td>1800.51</td><td>&quot;Cash&quot;</td><td>2021-06-16</td><td>&quot;Mall of Istanbul&quot;</td><td>5401.53</td><td>6</td></tr><tr><td>&quot;I329843&quot;</td><td>&quot;C330673&quot;</td><td>&quot;Male&quot;</td><td>24.0</td><td>&quot;Cosmetics&quot;</td><td>4</td><td>162.64</td><td>&quot;Credit Card&quot;</td><td>2022-09-04</td><td>&quot;Cevahir AVM&quot;</td><td>650.56</td><td>9</td></tr><tr><td>&quot;I485384&quot;</td><td>&quot;C137164&quot;</td><td>&quot;Female&quot;</td><td>47.0</td><td>&quot;Shoes&quot;</td><td>3</td><td>1800.51</td><td>&quot;Credit Card&quot;</td><td>2022-08-06</td><td>&quot;Zorlu Center&quot;</td><td>5401.53</td><td>8</td></tr><tr><td>&quot;I953809&quot;</td><td>&quot;C843176&quot;</td><td>&quot;Female&quot;</td><td>27.0</td><td>&quot;Cosmetics&quot;</td><td>2</td><td>81.32</td><td>&quot;Credit Card&quot;</td><td>2023-02-26</td><td>&quot;Metrocity&quot;</td><td>162.64</td><td>2</td></tr><tr><td>&hellip;</td><td>&hellip;</td><td>&hellip;</td><td>&hellip;</td><td>&hellip;</td><td>&hellip;</td><td>&hellip;</td><td>&hellip;</td><td>&hellip;</td><td>&hellip;</td><td>&hellip;</td><td>&hellip;</td></tr><tr><td>&quot;I292201&quot;</td><td>&quot;C600218&quot;</td><td>&quot;Female&quot;</td><td>43.0</td><td>&quot;Food &amp; Beverage&quot;</td><td>1</td><td>5.23</td><td>&quot;Cash&quot;</td><td>2021-10-31</td><td>&quot;Cevahir AVM&quot;</td><td>5.23</td><td>10</td></tr><tr><td>&quot;I306467&quot;</td><td>&quot;C317682&quot;</td><td>&quot;Female&quot;</td><td>32.0</td><td>&quot;Cosmetics&quot;</td><td>3</td><td>121.98</td><td>&quot;Credit Card&quot;</td><td>2022-03-29</td><td>&quot;Istinye Park&quot;</td><td>365.94</td><td>3</td></tr><tr><td>&quot;I317576&quot;</td><td>&quot;C230474&quot;</td><td>&quot;Male&quot;</td><td>38.0</td><td>&quot;Clothing&quot;</td><td>4</td><td>1200.32</td><td>&quot;Credit Card&quot;</td><td>2021-11-08</td><td>&quot;Metropol AVM&quot;</td><td>4801.28</td><td>11</td></tr><tr><td>&quot;I873985&quot;</td><td>&quot;C183813&quot;</td><td>&quot;Male&quot;</td><td>22.0</td><td>&quot;Clothing&quot;</td><td>4</td><td>1200.32</td><td>&quot;Cash&quot;</td><td>2022-04-05</td><td>&quot;Cevahir AVM&quot;</td><td>4801.28</td><td>4</td></tr><tr><td>&quot;I502055&quot;</td><td>&quot;C801479&quot;</td><td>&quot;Female&quot;</td><td>40.0</td><td>&quot;Toys&quot;</td><td>3</td><td>107.52</td><td>&quot;Cash&quot;</td><td>2022-02-28</td><td>&quot;Cevahir AVM&quot;</td><td>322.56</td><td>2</td></tr></tbody></table></div>"
            ]
          },
          "metadata": {},
          "execution_count": 114
        }
      ]
    },
    {
      "cell_type": "code",
      "source": [
        "monthly_sales = df.group_by(\"month\").agg([\n",
        "    pl.col(\"total_spent\").sum().alias(\"monthly_total_spent\")\n",
        "])"
      ],
      "metadata": {
        "id": "RaypcVhfSkZK"
      },
      "execution_count": 115,
      "outputs": []
    },
    {
      "cell_type": "code",
      "source": [
        "# Convert to Pandas for visualization\n",
        "monthly_sales_pd = monthly_sales.to_pandas()"
      ],
      "metadata": {
        "id": "Kbl_it2nTH2y"
      },
      "execution_count": 116,
      "outputs": []
    },
    {
      "cell_type": "code",
      "source": [
        "# Bar plot for monthly total spending\n",
        "plt.bar(monthly_sales_pd[\"month\"], monthly_sales_pd[\"monthly_total_spent\"], color=\"skyblue\")\n",
        "plt.title(\"Monthly Total Spending\")\n",
        "plt.xlabel(\"Month\")\n",
        "plt.ylabel(\"Total Spent\")\n",
        "plt.xticks(rotation=45)\n",
        "plt.show()"
      ],
      "metadata": {
        "colab": {
          "base_uri": "https://localhost:8080/",
          "height": 480
        },
        "id": "y3QE2G7YTJLb",
        "outputId": "24db7ae7-153c-439c-a220-baa487410fa5"
      },
      "execution_count": 117,
      "outputs": [
        {
          "output_type": "display_data",
          "data": {
            "text/plain": [
              "<Figure size 640x480 with 1 Axes>"
            ],
            "image/png": "[encoded data removed]"
          },
          "metadata": {}
        }
      ]
    },
    {
      "cell_type": "markdown",
      "source": [
        "**2. Historical Comparison for Category Sales**"
      ],
      "metadata": {
        "id": "vh0_hLz5Udrs"
      }
    },
    {
      "cell_type": "code",
      "source": [
        "# Group by 'category' and 'invoice_date' (monthly) to observe category-wise sales trends\n",
        "category_sales = df.group_by([\"category\", pl.col(\"invoice_date\").dt.month()]).agg([\n",
        "    pl.col(\"total_spent\").sum().alias(\"monthly_category_sales\")\n",
        "])"
      ],
      "metadata": {
        "id": "6QqVazGEUjry"
      },
      "execution_count": 118,
      "outputs": []
    },
    {
      "cell_type": "code",
      "source": [
        "category_sales_pd = category_sales.to_pandas()\n",
        "category_sales_pivot = category_sales_pd.pivot(index=\"invoice_date\", columns=\"category\", values=\"monthly_category_sales\")"
      ],
      "metadata": {
        "id": "ky949W9NU1CY"
      },
      "execution_count": 119,
      "outputs": []
    },
    {
      "cell_type": "code",
      "source": [
        "category_sales_pivot.plot(kind=\"line\", figsize=(10, 6), title=\"Monthly Sales by Category\")\n",
        "plt.xlabel(\"Month\")\n",
        "plt.ylabel(\"Total Spent\")\n",
        "plt.xticks(rotation=45)\n",
        "plt.legend(bbox_to_anchor=(1.05, 1), loc='upper left')\n",
        "plt.show()"
      ],
      "metadata": {
        "colab": {
          "base_uri": "https://localhost:8080/",
          "height": 572
        },
        "id": "ul7Mzv2IU5tU",
        "outputId": "a6775d88-2394-4325-8b01-ba40a5b8bee4"
      },
      "execution_count": 120,
      "outputs": [
        {
          "output_type": "display_data",
          "data": {
            "text/plain": [
              "<Figure size 1000x600 with 1 Axes>"
            ],
            "image/png": "[encoded data removed]"
          },
          "metadata": {}
        }
      ]
    },
    {
      "cell_type": "markdown",
      "source": [
        "**3. Investigating Customer Segmentation (High-Spending Customers)**"
      ],
      "metadata": {
        "id": "Bx-KUqVaVPD9"
      }
    },
    {
      "cell_type": "markdown",
      "source": [
        "If the data shows that a small group of customers contributes significantly to the total sales, we can identify and investigate this group to understand its behavior."
      ],
      "metadata": {
        "id": "zcmnXD3iVXOD"
      }
    },
    {
      "cell_type": "code",
      "source": [
        "# Group by customer and calculate total spending per customer\n",
        "customer_spending = df.group_by(\"customer_id\").agg([\n",
        "    pl.col(\"total_spent\").sum().alias(\"total_spent_by_customer\")\n",
        "])"
      ],
      "metadata": {
        "id": "Sbt7ptFpVTq_"
      },
      "execution_count": 121,
      "outputs": []
    },
    {
      "cell_type": "code",
      "source": [
        "# Identify high-spending customers (top 10% of spenders)\n",
        "threshold = customer_spending[\"total_spent_by_customer\"].quantile(0.9)\n",
        "high_spenders = customer_spending.filter(pl.col(\"total_spent_by_customer\") >= threshold)\n",
        "\n",
        "print(\"High-Spending Customers:\")\n",
        "print(high_spenders)"
      ],
      "metadata": {
        "colab": {
          "base_uri": "https://localhost:8080/"
        },
        "id": "4Va4QoeTVgge",
        "outputId": "f7d69fab-b8f6-4f20-e2c6-4bfa4524a0bc"
      },
      "execution_count": 122,
      "outputs": [
        {
          "output_type": "stream",
          "name": "stdout",
          "text": [
            "High-Spending Customers:\n",
            "shape: (8_859, 2)\n",
            "┌─────────────┬─────────────────────────┐\n",
            "│ customer_id ┆ total_spent_by_customer │\n",
            "│ ---         ┆ ---                     │\n",
            "│ str         ┆ f64                     │\n",
            "╞═════════════╪═════════════════════════╡\n",
            "│ C192117     ┆ 4801.28                 │\n",
            "│ C184553     ┆ 5401.53                 │\n",
            "│ C321572     ┆ 4801.28                 │\n",
            "│ C288241     ┆ 5401.53                 │\n",
            "│ C515799     ┆ 4801.28                 │\n",
            "│ …           ┆ …                       │\n",
            "│ C256333     ┆ 4801.28                 │\n",
            "│ C237768     ┆ 4801.28                 │\n",
            "│ C180940     ┆ 4801.28                 │\n",
            "│ C280166     ┆ 5401.53                 │\n",
            "│ C175466     ┆ 4801.28                 │\n",
            "└─────────────┴─────────────────────────┘\n"
          ]
        }
      ]
    },
    {
      "cell_type": "markdown",
      "source": [
        "**4. Exploring Category Popularity by Payment Method**"
      ],
      "metadata": {
        "id": "XzZwRCJtWF-p"
      }
    },
    {
      "cell_type": "markdown",
      "source": [
        "An unusual pattern in payment methods for specific categories might reveal purchasing preferences that align with marketing campaigns or customer demographics."
      ],
      "metadata": {
        "id": "NlEAfmXyWLZE"
      }
    },
    {
      "cell_type": "code",
      "source": [
        "# Group by category and payment method to see which methods are preferred for each category\n",
        "payment_method_analysis  = df.group_by([\"category\", \"payment_method\"]).agg([\n",
        "    pl.col(\"total_spent\").sum().alias(\"total_spent\")\n",
        "])\n"
      ],
      "metadata": {
        "id": "eGPrpBlgWHid"
      },
      "execution_count": 124,
      "outputs": []
    },
    {
      "cell_type": "code",
      "source": [
        "payment_method_analysis_pd = payment_method_analysis.to_pandas()\n",
        "payment_pivot = payment_method_analysis_pd.pivot(index=\"category\", columns=\"payment_method\", values=\"total_spent\")\n"
      ],
      "metadata": {
        "id": "omtKaZZTWcuj"
      },
      "execution_count": 125,
      "outputs": []
    },
    {
      "cell_type": "code",
      "source": [
        "payment_pivot.plot(kind=\"bar\", stacked=True, figsize=(10, 6), title=\"Category Spending by Payment Method\")\n",
        "plt.xlabel(\"Category\")\n",
        "plt.ylabel(\"Total Spent\")\n",
        "plt.xticks(rotation=45)\n",
        "plt.show()"
      ],
      "metadata": {
        "colab": {
          "base_uri": "https://localhost:8080/",
          "height": 645
        },
        "id": "QYQ--ICyWffH",
        "outputId": "7f4561e4-4717-43af-eb4f-cb8d6033edeb"
      },
      "execution_count": 126,
      "outputs": [
        {
          "output_type": "display_data",
          "data": {
            "text/plain": [
              "<Figure size 1000x600 with 1 Axes>"
            ],
            "image/png": "[encoded data removed]"
          },
          "metadata": {}
        }
      ]
    }
  ]
}