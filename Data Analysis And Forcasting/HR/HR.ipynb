{
  "nbformat": 4,
  "nbformat_minor": 0,
  "metadata": {
    "colab": {
      "provenance": []
    },
    "kernelspec": {
      "name": "python3",
      "display_name": "Python 3"
    },
    "language_info": {
      "name": "python"
    }
  },
  "cells": [
    {
      "cell_type": "code",
      "execution_count": 62,
      "metadata": {
        "colab": {
          "base_uri": "https://localhost:8080/"
        },
        "id": "sZmqhRgvc3r-",
        "outputId": "e5e9849b-dfa7-4e9c-8529-4c7b3139bde7"
      },
      "outputs": [
        {
          "output_type": "stream",
          "name": "stdout",
          "text": [
            "Requirement already satisfied: py-AutoClean in /usr/local/lib/python3.11/dist-packages (1.1.3)\n",
            "Requirement already satisfied: scikit-learn in /usr/local/lib/python3.11/dist-packages (from py-AutoClean) (1.6.1)\n",
            "Requirement already satisfied: numpy in /usr/local/lib/python3.11/dist-packages (from py-AutoClean) (1.26.4)\n",
            "Requirement already satisfied: pandas in /usr/local/lib/python3.11/dist-packages (from py-AutoClean) (2.2.2)\n",
            "Requirement already satisfied: loguru in /usr/local/lib/python3.11/dist-packages (from py-AutoClean) (0.7.3)\n",
            "Requirement already satisfied: python-dateutil>=2.8.2 in /usr/local/lib/python3.11/dist-packages (from pandas->py-AutoClean) (2.8.2)\n",
            "Requirement already satisfied: pytz>=2020.1 in /usr/local/lib/python3.11/dist-packages (from pandas->py-AutoClean) (2025.1)\n",
            "Requirement already satisfied: tzdata>=2022.7 in /usr/local/lib/python3.11/dist-packages (from pandas->py-AutoClean) (2025.1)\n",
            "Requirement already satisfied: scipy>=1.6.0 in /usr/local/lib/python3.11/dist-packages (from scikit-learn->py-AutoClean) (1.13.1)\n",
            "Requirement already satisfied: joblib>=1.2.0 in /usr/local/lib/python3.11/dist-packages (from scikit-learn->py-AutoClean) (1.4.2)\n",
            "Requirement already satisfied: threadpoolctl>=3.1.0 in /usr/local/lib/python3.11/dist-packages (from scikit-learn->py-AutoClean) (3.5.0)\n",
            "Requirement already satisfied: six>=1.5 in /usr/local/lib/python3.11/dist-packages (from python-dateutil>=2.8.2->pandas->py-AutoClean) (1.17.0)\n"
          ]
        }
      ],
      "source": [
        "pip install py-AutoClean"
      ]
    },
    {
      "cell_type": "code",
      "source": [
        "\n",
        "import pandas as pd\n",
        "from AutoClean import AutoClean\n",
        "import matplotlib.pyplot as plt\n",
        "import seaborn as sns"
      ],
      "metadata": {
        "id": "GZzSeXnRdc8v"
      },
      "execution_count": 63,
      "outputs": []
    },
    {
      "cell_type": "code",
      "source": [
        "data = pd.read_csv('/content/Cleaned_HR_Data_Analysis.csv')\n"
      ],
      "metadata": {
        "id": "osxrVuoXdgc7"
      },
      "execution_count": 64,
      "outputs": []
    },
    {
      "cell_type": "code",
      "source": [
        "cleaned_data = AutoClean(\n",
        "    data,\n",
        "    mode = 'manual',\n",
        "    missing_num=\"auto\",  # Impute missing numerical data\n",
        "    missing_categ='auto',  # Impute missing categorical data\n",
        "    duplicates = 'auto',\n",
        ")"
      ],
      "metadata": {
        "colab": {
          "base_uri": "https://localhost:8080/"
        },
        "id": "zvICwpMhdlUF",
        "outputId": "4b692486-345a-477e-9483-73a747f0c161"
      },
      "execution_count": 65,
      "outputs": [
        {
          "output_type": "stream",
          "name": "stdout",
          "text": [
            "AutoClean process completed in 0.031954 seconds\n",
            "Logfile saved to: /content/autoclean.log\n"
          ]
        }
      ]
    },
    {
      "cell_type": "code",
      "source": [
        "df_cleaned = cleaned_data.output"
      ],
      "metadata": {
        "id": "9bXleKw7d4TZ"
      },
      "execution_count": 66,
      "outputs": []
    },
    {
      "cell_type": "code",
      "source": [
        "df_cleaned"
      ],
      "metadata": {
        "colab": {
          "base_uri": "https://localhost:8080/",
          "height": 843
        },
        "id": "3qZjUK9zd602",
        "outputId": "699fac8d-b841-4dbb-d2e6-e9c0407431a1"
      },
      "execution_count": 67,
      "outputs": [
        {
          "output_type": "execute_result",
          "data": {
            "text/plain": [
              "      Employee ID  StartDate                    Title BusinessUnit  \\\n",
              "0            3427  20-Sep-19  Production Technician I         CCDR   \n",
              "1            3428  11-Feb-23  Production Technician I           EW   \n",
              "2            3429  10-Dec-18       Area Sales Manager           PL   \n",
              "3            3430  21-Jun-21       Area Sales Manager         CCDR   \n",
              "4            3431  29-Jun-19       Area Sales Manager          TNS   \n",
              "...           ...        ...                      ...          ...   \n",
              "2840         3421  09-May-22  Production Technician I           PL   \n",
              "2841         3423  28-Dec-20  Production Technician I          SVG   \n",
              "2842         3424  09-Dec-20  Production Technician I          TNS   \n",
              "2843         3425  28-May-19  Production Technician I          WBL   \n",
              "2844         3426  27-Apr-22  Production Technician I          BPC   \n",
              "\n",
              "     EmployeeStatus EmployeeType PayZone EmployeeClassificationType  \\\n",
              "0            Active     Contract  Zone C                  Temporary   \n",
              "1            Active     Contract  Zone A                  Part-Time   \n",
              "2            Active    Full-Time  Zone B                  Part-Time   \n",
              "3            Active     Contract  Zone A                  Full-Time   \n",
              "4            Active     Contract  Zone A                  Temporary   \n",
              "...             ...          ...     ...                        ...   \n",
              "2840         Active    Part-Time  Zone A                  Part-Time   \n",
              "2841         Active    Part-Time  Zone A                  Full-Time   \n",
              "2842     Terminated     Contract  Zone B                  Temporary   \n",
              "2843     Terminated     Contract  Zone B                  Full-Time   \n",
              "2844         Active    Full-Time  Zone B                  Temporary   \n",
              "\n",
              "         DepartmentType               Division  ... Engagement Score  \\\n",
              "0     Production          Finance & Accounting  ...                1   \n",
              "1     Production                        Aerial  ...                2   \n",
              "2                 Sales          General - Sga  ...                1   \n",
              "3                 Sales   Finance & Accounting  ...                5   \n",
              "4                 Sales          General - Con  ...                2   \n",
              "...                 ...                    ...  ...              ...   \n",
              "2840  Production                      Wireless  ...                5   \n",
              "2841  Production                     Engineers  ...                4   \n",
              "2842  Production         Wireline Construction  ...                2   \n",
              "2843  Production                        Aerial  ...                5   \n",
              "2844  Production              Field Operations  ...                1   \n",
              "\n",
              "     Satisfaction Score Work-Life Balance Score Training Date  \\\n",
              "0                     2                       3     15-Jul-23   \n",
              "1                     1                       5     12-Sep-22   \n",
              "2                     2                       1     13-Aug-22   \n",
              "3                     5                       4     15-Dec-22   \n",
              "4                     5                       3     13-Jul-23   \n",
              "...                 ...                     ...           ...   \n",
              "2840                  4                       2     22-Jan-23   \n",
              "2841                  5                       3     14-Oct-22   \n",
              "2842                  4                       5     18-Aug-22   \n",
              "2843                  2                       3     19-May-23   \n",
              "2844                  3                       2     02-May-23   \n",
              "\n",
              "       Training Program Name Training Type  Training Outcome  \\\n",
              "0     Leadership Development      Internal            Failed   \n",
              "1           Customer Service      External        Incomplete   \n",
              "2     Leadership Development      External            Failed   \n",
              "3         Project Management      External         Completed   \n",
              "4           Technical Skills      External            Failed   \n",
              "...                      ...           ...               ...   \n",
              "2840        Customer Service      External            Passed   \n",
              "2841        Technical Skills      External         Completed   \n",
              "2842      Project Management      Internal         Completed   \n",
              "2843        Technical Skills      External         Completed   \n",
              "2844  Leadership Development      Internal            Failed   \n",
              "\n",
              "     Training Duration(Days)  Training Cost  Age  \n",
              "0                          2         606.11   50  \n",
              "1                          4         673.02   58  \n",
              "2                          2         413.28   27  \n",
              "3                          3         663.78   23  \n",
              "4                          5         399.03   50  \n",
              "...                      ...            ...  ...  \n",
              "2840                       1         786.71   63  \n",
              "2841                       1         439.65   19  \n",
              "2842                       5         981.13   23  \n",
              "2843                       3         184.27   65  \n",
              "2844                       5         675.37   32  \n",
              "\n",
              "[2845 rows x 28 columns]"
            ],
            "text/html": [
              "\n",
              "  <div id=\"df-fb5866c0-812d-4868-abb8-357760f418a9\" class=\"colab-df-container\">\n",
              "    <div>\n",
              "<style scoped>\n",
              "    .dataframe tbody tr th:only-of-type {\n",
              "        vertical-align: middle;\n",
              "    }\n",
              "\n",
              "    .dataframe tbody tr th {\n",
              "        vertical-align: top;\n",
              "    }\n",
              "\n",
              "    .dataframe thead th {\n",
              "        text-align: right;\n",
              "    }\n",
              "</style>\n",
              "<table border=\"1\" class=\"dataframe\">\n",
              "  <thead>\n",
              "    <tr style=\"text-align: right;\">\n",
              "      <th></th>\n",
              "      <th>Employee ID</th>\n",
              "      <th>StartDate</th>\n",
              "      <th>Title</th>\n",
              "      <th>BusinessUnit</th>\n",
              "      <th>EmployeeStatus</th>\n",
              "      <th>EmployeeType</th>\n",
              "      <th>PayZone</th>\n",
              "      <th>EmployeeClassificationType</th>\n",
              "      <th>DepartmentType</th>\n",
              "      <th>Division</th>\n",
              "      <th>...</th>\n",
              "      <th>Engagement Score</th>\n",
              "      <th>Satisfaction Score</th>\n",
              "      <th>Work-Life Balance Score</th>\n",
              "      <th>Training Date</th>\n",
              "      <th>Training Program Name</th>\n",
              "      <th>Training Type</th>\n",
              "      <th>Training Outcome</th>\n",
              "      <th>Training Duration(Days)</th>\n",
              "      <th>Training Cost</th>\n",
              "      <th>Age</th>\n",
              "    </tr>\n",
              "  </thead>\n",
              "  <tbody>\n",
              "    <tr>\n",
              "      <th>0</th>\n",
              "      <td>3427</td>\n",
              "      <td>20-Sep-19</td>\n",
              "      <td>Production Technician I</td>\n",
              "      <td>CCDR</td>\n",
              "      <td>Active</td>\n",
              "      <td>Contract</td>\n",
              "      <td>Zone C</td>\n",
              "      <td>Temporary</td>\n",
              "      <td>Production</td>\n",
              "      <td>Finance &amp; Accounting</td>\n",
              "      <td>...</td>\n",
              "      <td>1</td>\n",
              "      <td>2</td>\n",
              "      <td>3</td>\n",
              "      <td>15-Jul-23</td>\n",
              "      <td>Leadership Development</td>\n",
              "      <td>Internal</td>\n",
              "      <td>Failed</td>\n",
              "      <td>2</td>\n",
              "      <td>606.11</td>\n",
              "      <td>50</td>\n",
              "    </tr>\n",
              "    <tr>\n",
              "      <th>1</th>\n",
              "      <td>3428</td>\n",
              "      <td>11-Feb-23</td>\n",
              "      <td>Production Technician I</td>\n",
              "      <td>EW</td>\n",
              "      <td>Active</td>\n",
              "      <td>Contract</td>\n",
              "      <td>Zone A</td>\n",
              "      <td>Part-Time</td>\n",
              "      <td>Production</td>\n",
              "      <td>Aerial</td>\n",
              "      <td>...</td>\n",
              "      <td>2</td>\n",
              "      <td>1</td>\n",
              "      <td>5</td>\n",
              "      <td>12-Sep-22</td>\n",
              "      <td>Customer Service</td>\n",
              "      <td>External</td>\n",
              "      <td>Incomplete</td>\n",
              "      <td>4</td>\n",
              "      <td>673.02</td>\n",
              "      <td>58</td>\n",
              "    </tr>\n",
              "    <tr>\n",
              "      <th>2</th>\n",
              "      <td>3429</td>\n",
              "      <td>10-Dec-18</td>\n",
              "      <td>Area Sales Manager</td>\n",
              "      <td>PL</td>\n",
              "      <td>Active</td>\n",
              "      <td>Full-Time</td>\n",
              "      <td>Zone B</td>\n",
              "      <td>Part-Time</td>\n",
              "      <td>Sales</td>\n",
              "      <td>General - Sga</td>\n",
              "      <td>...</td>\n",
              "      <td>1</td>\n",
              "      <td>2</td>\n",
              "      <td>1</td>\n",
              "      <td>13-Aug-22</td>\n",
              "      <td>Leadership Development</td>\n",
              "      <td>External</td>\n",
              "      <td>Failed</td>\n",
              "      <td>2</td>\n",
              "      <td>413.28</td>\n",
              "      <td>27</td>\n",
              "    </tr>\n",
              "    <tr>\n",
              "      <th>3</th>\n",
              "      <td>3430</td>\n",
              "      <td>21-Jun-21</td>\n",
              "      <td>Area Sales Manager</td>\n",
              "      <td>CCDR</td>\n",
              "      <td>Active</td>\n",
              "      <td>Contract</td>\n",
              "      <td>Zone A</td>\n",
              "      <td>Full-Time</td>\n",
              "      <td>Sales</td>\n",
              "      <td>Finance &amp; Accounting</td>\n",
              "      <td>...</td>\n",
              "      <td>5</td>\n",
              "      <td>5</td>\n",
              "      <td>4</td>\n",
              "      <td>15-Dec-22</td>\n",
              "      <td>Project Management</td>\n",
              "      <td>External</td>\n",
              "      <td>Completed</td>\n",
              "      <td>3</td>\n",
              "      <td>663.78</td>\n",
              "      <td>23</td>\n",
              "    </tr>\n",
              "    <tr>\n",
              "      <th>4</th>\n",
              "      <td>3431</td>\n",
              "      <td>29-Jun-19</td>\n",
              "      <td>Area Sales Manager</td>\n",
              "      <td>TNS</td>\n",
              "      <td>Active</td>\n",
              "      <td>Contract</td>\n",
              "      <td>Zone A</td>\n",
              "      <td>Temporary</td>\n",
              "      <td>Sales</td>\n",
              "      <td>General - Con</td>\n",
              "      <td>...</td>\n",
              "      <td>2</td>\n",
              "      <td>5</td>\n",
              "      <td>3</td>\n",
              "      <td>13-Jul-23</td>\n",
              "      <td>Technical Skills</td>\n",
              "      <td>External</td>\n",
              "      <td>Failed</td>\n",
              "      <td>5</td>\n",
              "      <td>399.03</td>\n",
              "      <td>50</td>\n",
              "    </tr>\n",
              "    <tr>\n",
              "      <th>...</th>\n",
              "      <td>...</td>\n",
              "      <td>...</td>\n",
              "      <td>...</td>\n",
              "      <td>...</td>\n",
              "      <td>...</td>\n",
              "      <td>...</td>\n",
              "      <td>...</td>\n",
              "      <td>...</td>\n",
              "      <td>...</td>\n",
              "      <td>...</td>\n",
              "      <td>...</td>\n",
              "      <td>...</td>\n",
              "      <td>...</td>\n",
              "      <td>...</td>\n",
              "      <td>...</td>\n",
              "      <td>...</td>\n",
              "      <td>...</td>\n",
              "      <td>...</td>\n",
              "      <td>...</td>\n",
              "      <td>...</td>\n",
              "      <td>...</td>\n",
              "    </tr>\n",
              "    <tr>\n",
              "      <th>2840</th>\n",
              "      <td>3421</td>\n",
              "      <td>09-May-22</td>\n",
              "      <td>Production Technician I</td>\n",
              "      <td>PL</td>\n",
              "      <td>Active</td>\n",
              "      <td>Part-Time</td>\n",
              "      <td>Zone A</td>\n",
              "      <td>Part-Time</td>\n",
              "      <td>Production</td>\n",
              "      <td>Wireless</td>\n",
              "      <td>...</td>\n",
              "      <td>5</td>\n",
              "      <td>4</td>\n",
              "      <td>2</td>\n",
              "      <td>22-Jan-23</td>\n",
              "      <td>Customer Service</td>\n",
              "      <td>External</td>\n",
              "      <td>Passed</td>\n",
              "      <td>1</td>\n",
              "      <td>786.71</td>\n",
              "      <td>63</td>\n",
              "    </tr>\n",
              "    <tr>\n",
              "      <th>2841</th>\n",
              "      <td>3423</td>\n",
              "      <td>28-Dec-20</td>\n",
              "      <td>Production Technician I</td>\n",
              "      <td>SVG</td>\n",
              "      <td>Active</td>\n",
              "      <td>Part-Time</td>\n",
              "      <td>Zone A</td>\n",
              "      <td>Full-Time</td>\n",
              "      <td>Production</td>\n",
              "      <td>Engineers</td>\n",
              "      <td>...</td>\n",
              "      <td>4</td>\n",
              "      <td>5</td>\n",
              "      <td>3</td>\n",
              "      <td>14-Oct-22</td>\n",
              "      <td>Technical Skills</td>\n",
              "      <td>External</td>\n",
              "      <td>Completed</td>\n",
              "      <td>1</td>\n",
              "      <td>439.65</td>\n",
              "      <td>19</td>\n",
              "    </tr>\n",
              "    <tr>\n",
              "      <th>2842</th>\n",
              "      <td>3424</td>\n",
              "      <td>09-Dec-20</td>\n",
              "      <td>Production Technician I</td>\n",
              "      <td>TNS</td>\n",
              "      <td>Terminated</td>\n",
              "      <td>Contract</td>\n",
              "      <td>Zone B</td>\n",
              "      <td>Temporary</td>\n",
              "      <td>Production</td>\n",
              "      <td>Wireline Construction</td>\n",
              "      <td>...</td>\n",
              "      <td>2</td>\n",
              "      <td>4</td>\n",
              "      <td>5</td>\n",
              "      <td>18-Aug-22</td>\n",
              "      <td>Project Management</td>\n",
              "      <td>Internal</td>\n",
              "      <td>Completed</td>\n",
              "      <td>5</td>\n",
              "      <td>981.13</td>\n",
              "      <td>23</td>\n",
              "    </tr>\n",
              "    <tr>\n",
              "      <th>2843</th>\n",
              "      <td>3425</td>\n",
              "      <td>28-May-19</td>\n",
              "      <td>Production Technician I</td>\n",
              "      <td>WBL</td>\n",
              "      <td>Terminated</td>\n",
              "      <td>Contract</td>\n",
              "      <td>Zone B</td>\n",
              "      <td>Full-Time</td>\n",
              "      <td>Production</td>\n",
              "      <td>Aerial</td>\n",
              "      <td>...</td>\n",
              "      <td>5</td>\n",
              "      <td>2</td>\n",
              "      <td>3</td>\n",
              "      <td>19-May-23</td>\n",
              "      <td>Technical Skills</td>\n",
              "      <td>External</td>\n",
              "      <td>Completed</td>\n",
              "      <td>3</td>\n",
              "      <td>184.27</td>\n",
              "      <td>65</td>\n",
              "    </tr>\n",
              "    <tr>\n",
              "      <th>2844</th>\n",
              "      <td>3426</td>\n",
              "      <td>27-Apr-22</td>\n",
              "      <td>Production Technician I</td>\n",
              "      <td>BPC</td>\n",
              "      <td>Active</td>\n",
              "      <td>Full-Time</td>\n",
              "      <td>Zone B</td>\n",
              "      <td>Temporary</td>\n",
              "      <td>Production</td>\n",
              "      <td>Field Operations</td>\n",
              "      <td>...</td>\n",
              "      <td>1</td>\n",
              "      <td>3</td>\n",
              "      <td>2</td>\n",
              "      <td>02-May-23</td>\n",
              "      <td>Leadership Development</td>\n",
              "      <td>Internal</td>\n",
              "      <td>Failed</td>\n",
              "      <td>5</td>\n",
              "      <td>675.37</td>\n",
              "      <td>32</td>\n",
              "    </tr>\n",
              "  </tbody>\n",
              "</table>\n",
              "<p>2845 rows × 28 columns</p>\n",
              "</div>\n",
              "    <div class=\"colab-df-buttons\">\n",
              "\n",
              "  <div class=\"colab-df-container\">\n",
              "    <button class=\"colab-df-convert\" onclick=\"convertToInteractive('df-fb5866c0-812d-4868-abb8-357760f418a9')\"\n",
              "            title=\"Convert this dataframe to an interactive table.\"\n",
              "            style=\"display:none;\">\n",
              "\n",
              "  <svg xmlns=\"http://www.w3.org/2000/svg\" height=\"24px\" viewBox=\"0 -960 960 960\">\n",
              "    <path d=\"M120-120v-720h720v720H120Zm60-500h600v-160H180v160Zm220 220h160v-160H400v160Zm0 220h160v-160H400v160ZM180-400h160v-160H180v160Zm440 0h160v-160H620v160ZM180-180h160v-160H180v160Zm440 0h160v-160H620v160Z\"/>\n",
              "  </svg>\n",
              "    </button>\n",
              "\n",
              "  <style>\n",
              "    .colab-df-container {\n",
              "      display:flex;\n",
              "      gap: 12px;\n",
              "    }\n",
              "\n",
              "    .colab-df-convert {\n",
              "      background-color: #E8F0FE;\n",
              "      border: none;\n",
              "      border-radius: 50%;\n",
              "      cursor: pointer;\n",
              "      display: none;\n",
              "      fill: #1967D2;\n",
              "      height: 32px;\n",
              "      padding: 0 0 0 0;\n",
              "      width: 32px;\n",
              "    }\n",
              "\n",
              "    .colab-df-convert:hover {\n",
              "      background-color: #E2EBFA;\n",
              "      box-shadow: 0px 1px 2px rgba(60, 64, 67, 0.3), 0px 1px 3px 1px rgba(60, 64, 67, 0.15);\n",
              "      fill: #174EA6;\n",
              "    }\n",
              "\n",
              "    .colab-df-buttons div {\n",
              "      margin-bottom: 4px;\n",
              "    }\n",
              "\n",
              "    [theme=dark] .colab-df-convert {\n",
              "      background-color: #3B4455;\n",
              "      fill: #D2E3FC;\n",
              "    }\n",
              "\n",
              "    [theme=dark] .colab-df-convert:hover {\n",
              "      background-color: #434B5C;\n",
              "      box-shadow: 0px 1px 3px 1px rgba(0, 0, 0, 0.15);\n",
              "      filter: drop-shadow(0px 1px 2px rgba(0, 0, 0, 0.3));\n",
              "      fill: #FFFFFF;\n",
              "    }\n",
              "  </style>\n",
              "\n",
              "    <script>\n",
              "      const buttonEl =\n",
              "        document.querySelector('#df-fb5866c0-812d-4868-abb8-357760f418a9 button.colab-df-convert');\n",
              "      buttonEl.style.display =\n",
              "        google.colab.kernel.accessAllowed ? 'block' : 'none';\n",
              "\n",
              "      async function convertToInteractive(key) {\n",
              "        const element = document.querySelector('#df-fb5866c0-812d-4868-abb8-357760f418a9');\n",
              "        const dataTable =\n",
              "          await google.colab.kernel.invokeFunction('convertToInteractive',\n",
              "                                                    [key], {});\n",
              "        if (!dataTable) return;\n",
              "\n",
              "        const docLinkHtml = 'Like what you see? Visit the ' +\n",
              "          '<a target=\"_blank\" href=https://colab.research.google.com/notebooks/data_table.ipynb>data table notebook</a>'\n",
              "          + ' to learn more about interactive tables.';\n",
              "        element.innerHTML = '';\n",
              "        dataTable['output_type'] = 'display_data';\n",
              "        await google.colab.output.renderOutput(dataTable, element);\n",
              "        const docLink = document.createElement('div');\n",
              "        docLink.innerHTML = docLinkHtml;\n",
              "        element.appendChild(docLink);\n",
              "      }\n",
              "    </script>\n",
              "  </div>\n",
              "\n",
              "\n",
              "<div id=\"df-feff070b-cfa8-4d78-87a9-2896e26e41b3\">\n",
              "  <button class=\"colab-df-quickchart\" onclick=\"quickchart('df-feff070b-cfa8-4d78-87a9-2896e26e41b3')\"\n",
              "            title=\"Suggest charts\"\n",
              "            style=\"display:none;\">\n",
              "\n",
              "<svg xmlns=\"http://www.w3.org/2000/svg\" height=\"24px\"viewBox=\"0 0 24 24\"\n",
              "     width=\"24px\">\n",
              "    <g>\n",
              "        <path d=\"M19 3H5c-1.1 0-2 .9-2 2v14c0 1.1.9 2 2 2h14c1.1 0 2-.9 2-2V5c0-1.1-.9-2-2-2zM9 17H7v-7h2v7zm4 0h-2V7h2v10zm4 0h-2v-4h2v4z\"/>\n",
              "    </g>\n",
              "</svg>\n",
              "  </button>\n",
              "\n",
              "<style>\n",
              "  .colab-df-quickchart {\n",
              "      --bg-color: #E8F0FE;\n",
              "      --fill-color: #1967D2;\n",
              "      --hover-bg-color: #E2EBFA;\n",
              "      --hover-fill-color: #174EA6;\n",
              "      --disabled-fill-color: #AAA;\n",
              "      --disabled-bg-color: #DDD;\n",
              "  }\n",
              "\n",
              "  [theme=dark] .colab-df-quickchart {\n",
              "      --bg-color: #3B4455;\n",
              "      --fill-color: #D2E3FC;\n",
              "      --hover-bg-color: #434B5C;\n",
              "      --hover-fill-color: #FFFFFF;\n",
              "      --disabled-bg-color: #3B4455;\n",
              "      --disabled-fill-color: #666;\n",
              "  }\n",
              "\n",
              "  .colab-df-quickchart {\n",
              "    background-color: var(--bg-color);\n",
              "    border: none;\n",
              "    border-radius: 50%;\n",
              "    cursor: pointer;\n",
              "    display: none;\n",
              "    fill: var(--fill-color);\n",
              "    height: 32px;\n",
              "    padding: 0;\n",
              "    width: 32px;\n",
              "  }\n",
              "\n",
              "  .colab-df-quickchart:hover {\n",
              "    background-color: var(--hover-bg-color);\n",
              "    box-shadow: 0 1px 2px rgba(60, 64, 67, 0.3), 0 1px 3px 1px rgba(60, 64, 67, 0.15);\n",
              "    fill: var(--button-hover-fill-color);\n",
              "  }\n",
              "\n",
              "  .colab-df-quickchart-complete:disabled,\n",
              "  .colab-df-quickchart-complete:disabled:hover {\n",
              "    background-color: var(--disabled-bg-color);\n",
              "    fill: var(--disabled-fill-color);\n",
              "    box-shadow: none;\n",
              "  }\n",
              "\n",
              "  .colab-df-spinner {\n",
              "    border: 2px solid var(--fill-color);\n",
              "    border-color: transparent;\n",
              "    border-bottom-color: var(--fill-color);\n",
              "    animation:\n",
              "      spin 1s steps(1) infinite;\n",
              "  }\n",
              "\n",
              "  @keyframes spin {\n",
              "    0% {\n",
              "      border-color: transparent;\n",
              "      border-bottom-color: var(--fill-color);\n",
              "      border-left-color: var(--fill-color);\n",
              "    }\n",
              "    20% {\n",
              "      border-color: transparent;\n",
              "      border-left-color: var(--fill-color);\n",
              "      border-top-color: var(--fill-color);\n",
              "    }\n",
              "    30% {\n",
              "      border-color: transparent;\n",
              "      border-left-color: var(--fill-color);\n",
              "      border-top-color: var(--fill-color);\n",
              "      border-right-color: var(--fill-color);\n",
              "    }\n",
              "    40% {\n",
              "      border-color: transparent;\n",
              "      border-right-color: var(--fill-color);\n",
              "      border-top-color: var(--fill-color);\n",
              "    }\n",
              "    60% {\n",
              "      border-color: transparent;\n",
              "      border-right-color: var(--fill-color);\n",
              "    }\n",
              "    80% {\n",
              "      border-color: transparent;\n",
              "      border-right-color: var(--fill-color);\n",
              "      border-bottom-color: var(--fill-color);\n",
              "    }\n",
              "    90% {\n",
              "      border-color: transparent;\n",
              "      border-bottom-color: var(--fill-color);\n",
              "    }\n",
              "  }\n",
              "</style>\n",
              "\n",
              "  <script>\n",
              "    async function quickchart(key) {\n",
              "      const quickchartButtonEl =\n",
              "        document.querySelector('#' + key + ' button');\n",
              "      quickchartButtonEl.disabled = true;  // To prevent multiple clicks.\n",
              "      quickchartButtonEl.classList.add('colab-df-spinner');\n",
              "      try {\n",
              "        const charts = await google.colab.kernel.invokeFunction(\n",
              "            'suggestCharts', [key], {});\n",
              "      } catch (error) {\n",
              "        console.error('Error during call to suggestCharts:', error);\n",
              "      }\n",
              "      quickchartButtonEl.classList.remove('colab-df-spinner');\n",
              "      quickchartButtonEl.classList.add('colab-df-quickchart-complete');\n",
              "    }\n",
              "    (() => {\n",
              "      let quickchartButtonEl =\n",
              "        document.querySelector('#df-feff070b-cfa8-4d78-87a9-2896e26e41b3 button');\n",
              "      quickchartButtonEl.style.display =\n",
              "        google.colab.kernel.accessAllowed ? 'block' : 'none';\n",
              "    })();\n",
              "  </script>\n",
              "</div>\n",
              "\n",
              "  <div id=\"id_9a26126e-b116-48d7-bbf6-93db066a8e8b\">\n",
              "    <style>\n",
              "      .colab-df-generate {\n",
              "        background-color: #E8F0FE;\n",
              "        border: none;\n",
              "        border-radius: 50%;\n",
              "        cursor: pointer;\n",
              "        display: none;\n",
              "        fill: #1967D2;\n",
              "        height: 32px;\n",
              "        padding: 0 0 0 0;\n",
              "        width: 32px;\n",
              "      }\n",
              "\n",
              "      .colab-df-generate:hover {\n",
              "        background-color: #E2EBFA;\n",
              "        box-shadow: 0px 1px 2px rgba(60, 64, 67, 0.3), 0px 1px 3px 1px rgba(60, 64, 67, 0.15);\n",
              "        fill: #174EA6;\n",
              "      }\n",
              "\n",
              "      [theme=dark] .colab-df-generate {\n",
              "        background-color: #3B4455;\n",
              "        fill: #D2E3FC;\n",
              "      }\n",
              "\n",
              "      [theme=dark] .colab-df-generate:hover {\n",
              "        background-color: #434B5C;\n",
              "        box-shadow: 0px 1px 3px 1px rgba(0, 0, 0, 0.15);\n",
              "        filter: drop-shadow(0px 1px 2px rgba(0, 0, 0, 0.3));\n",
              "        fill: #FFFFFF;\n",
              "      }\n",
              "    </style>\n",
              "    <button class=\"colab-df-generate\" onclick=\"generateWithVariable('df_cleaned')\"\n",
              "            title=\"Generate code using this dataframe.\"\n",
              "            style=\"display:none;\">\n",
              "\n",
              "  <svg xmlns=\"http://www.w3.org/2000/svg\" height=\"24px\"viewBox=\"0 0 24 24\"\n",
              "       width=\"24px\">\n",
              "    <path d=\"M7,19H8.4L18.45,9,17,7.55,7,17.6ZM5,21V16.75L18.45,3.32a2,2,0,0,1,2.83,0l1.4,1.43a1.91,1.91,0,0,1,.58,1.4,1.91,1.91,0,0,1-.58,1.4L9.25,21ZM18.45,9,17,7.55Zm-12,3A5.31,5.31,0,0,0,4.9,8.1,5.31,5.31,0,0,0,1,6.5,5.31,5.31,0,0,0,4.9,4.9,5.31,5.31,0,0,0,6.5,1,5.31,5.31,0,0,0,8.1,4.9,5.31,5.31,0,0,0,12,6.5,5.46,5.46,0,0,0,6.5,12Z\"/>\n",
              "  </svg>\n",
              "    </button>\n",
              "    <script>\n",
              "      (() => {\n",
              "      const buttonEl =\n",
              "        document.querySelector('#id_9a26126e-b116-48d7-bbf6-93db066a8e8b button.colab-df-generate');\n",
              "      buttonEl.style.display =\n",
              "        google.colab.kernel.accessAllowed ? 'block' : 'none';\n",
              "\n",
              "      buttonEl.onclick = () => {\n",
              "        google.colab.notebook.generateWithVariable('df_cleaned');\n",
              "      }\n",
              "      })();\n",
              "    </script>\n",
              "  </div>\n",
              "\n",
              "    </div>\n",
              "  </div>\n"
            ],
            "application/vnd.google.colaboratory.intrinsic+json": {
              "type": "dataframe",
              "variable_name": "df_cleaned"
            }
          },
          "metadata": {},
          "execution_count": 67
        }
      ]
    },
    {
      "cell_type": "markdown",
      "source": [
        "# **1️⃣ Employee Satisfaction & Engagement (Survey-Based)**\n"
      ],
      "metadata": {
        "id": "x4Bk_YHFgl2A"
      }
    },
    {
      "cell_type": "code",
      "source": [
        "import pandas as pd\n",
        "import seaborn as sns\n",
        "import matplotlib.pyplot as plt\n",
        "\n",
        "def analyze_satisfaction_engagement(df):\n",
        "\n",
        "    numeric_cols = df.select_dtypes(include=['number']).columns\n",
        "\n",
        "    for col in numeric_cols:\n",
        "        if 'satisfaction' in col.lower() or 'engagement' in col.lower():\n",
        "            print(f\" **{col} Analysis:**\")\n",
        "            print(df[col].describe())\n",
        "\n",
        "            plt.figure(figsize=(8, 4))\n",
        "            sns.histplot(df[col], bins=20, kde=True, color='#4F2871')\n",
        "            plt.xlabel(col.replace(\"_\", \" \").title())\n",
        "            plt.title(f\"Distribution of {col}\")\n",
        "            plt.show()\n",
        "\n",
        "\n",
        "analyze_satisfaction_engagement(df_cleaned)\n"
      ],
      "metadata": {
        "colab": {
          "base_uri": "https://localhost:8080/",
          "height": 1000
        },
        "id": "ZPT2RaJFd-Nf",
        "outputId": "443c75d3-6b8b-4959-dc33-37e53234f92b"
      },
      "execution_count": 68,
      "outputs": [
        {
          "output_type": "stream",
          "name": "stdout",
          "text": [
            " **Engagement Score Analysis:**\n",
            "count      2845.0\n",
            "mean     2.941652\n",
            "std       1.43523\n",
            "min           1.0\n",
            "25%           2.0\n",
            "50%           3.0\n",
            "75%           4.0\n",
            "max           5.0\n",
            "Name: Engagement Score, dtype: Float64\n"
          ]
        },
        {
          "output_type": "display_data",
          "data": {
            "text/plain": [
              "<Figure size 800x400 with 1 Axes>"
            ],
            "image/png": "[encoded data removed]"
          },
          "metadata": {}
        },
        {
          "output_type": "stream",
          "name": "stdout",
          "text": [
            " **Satisfaction Score Analysis:**\n",
            "count      2845.0\n",
            "mean     3.028471\n",
            "std      1.410067\n",
            "min           1.0\n",
            "25%           2.0\n",
            "50%           3.0\n",
            "75%           4.0\n",
            "max           5.0\n",
            "Name: Satisfaction Score, dtype: Float64\n"
          ]
        },
        {
          "output_type": "display_data",
          "data": {
            "text/plain": [
              "<Figure size 800x400 with 1 Axes>"
            ],
            "image/png": "[encoded data removed]"
          },
          "metadata": {}
        }
      ]
    },
    {
      "cell_type": "code",
      "source": [
        "# box plot the df-cleaned\n",
        "import seaborn as sns\n",
        "import matplotlib.pyplot as plt\n",
        "\n",
        "def box_plot_df(df):\n",
        "\n",
        "    numeric_cols = df.select_dtypes(include=['number']).columns\n",
        "\n",
        "    for col in numeric_cols:\n",
        "        plt.figure(figsize=(8, 4))\n",
        "        sns.boxplot(x=df[col])\n",
        "        plt.xlabel(col.replace(\"_\", \" \").title())\n",
        "        plt.title(f\"Box Plot of {col}\")\n",
        "        plt.show()\n",
        "\n",
        "box_plot_df(df_cleaned)"
      ],
      "metadata": {
        "colab": {
          "base_uri": "https://localhost:8080/",
          "height": 1000
        },
        "id": "zrt1KE9GoXCj",
        "outputId": "edca9800-e4ff-4134-9d58-a011f445ff30"
      },
      "execution_count": 86,
      "outputs": [
        {
          "output_type": "display_data",
          "data": {
            "text/plain": [
              "<Figure size 800x400 with 1 Axes>"
            ],
            "image/png": "[encoded data removed]"
          },
          "metadata": {}
        },
        {
          "output_type": "display_data",
          "data": {
            "text/plain": [
              "<Figure size 800x400 with 1 Axes>"
            ],
            "image/png": "[encoded data removed]"
          },
          "metadata": {}
        },
        {
          "output_type": "display_data",
          "data": {
            "text/plain": [
              "<Figure size 800x400 with 1 Axes>"
            ],
            "image/png": "[encoded data removed]"
          },
          "metadata": {}
        },
        {
          "output_type": "display_data",
          "data": {
            "text/plain": [
              "<Figure size 800x400 with 1 Axes>"
            ],
            "image/png": "[encoded data removed]"
          },
          "metadata": {}
        },
        {
          "output_type": "display_data",
          "data": {
            "text/plain": [
              "<Figure size 800x400 with 1 Axes>"
            ],
            "image/png": "[encoded data removed]"
          },
          "metadata": {}
        },
        {
          "output_type": "display_data",
          "data": {
            "text/plain": [
              "<Figure size 800x400 with 1 Axes>"
            ],
            "image/png": "[encoded data removed]"
          },
          "metadata": {}
        },
        {
          "output_type": "display_data",
          "data": {
            "text/plain": [
              "<Figure size 800x400 with 1 Axes>"
            ],
            "image/png": "[encoded data removed]"
          },
          "metadata": {}
        },
        {
          "output_type": "display_data",
          "data": {
            "text/plain": [
              "<Figure size 800x400 with 1 Axes>"
            ],
            "image/png": "[encoded data removed]"
          },
          "metadata": {}
        }
      ]
    },
    {
      "cell_type": "markdown",
      "source": [
        "# **2️⃣ Cost Per Hire**\n",
        "Formula:\n",
        "\n",
        "Cost per Hire\n",
        "=\n",
        "Total Hiring Costs /\n",
        "Total Hires\n",
        "\n",
        "​\n",
        "\n",
        "This function detects:\n",
        "\n",
        "\n",
        "\n",
        "*   Monetary hiring costs\n",
        "*   Number of new hires\n",
        "\n",
        "\n",
        "\n",
        "\n"
      ],
      "metadata": {
        "id": "O2mqsfY4g-aF"
      }
    },
    {
      "cell_type": "code",
      "source": [
        "def calculate_cost_per_hire(df):\n",
        "    \"\"\"Detects hiring cost and new hire count to compute cost per hire.\"\"\"\n",
        "    numeric_cols = df.select_dtypes(include=['number']).columns\n",
        "\n",
        "    total_cost = None\n",
        "    total_hires = None\n",
        "\n",
        "    for col in numeric_cols:\n",
        "        if 'cost' in col.lower() and 'hire' in col.lower():\n",
        "            total_cost = df[col].sum()\n",
        "        elif 'hire' in col.lower() and 'count' in col.lower():\n",
        "            total_hires = df[col].sum()\n",
        "\n",
        "    if total_cost and total_hires:\n",
        "        cost_per_hire = total_cost / total_hires\n",
        "        print(f\" **Cost per Hire:** ${cost_per_hire:.2f}\")\n",
        "    else:\n",
        "        print(\" Could not detect hiring cost and/or hire count.\")\n",
        "\n"
      ],
      "metadata": {
        "colab": {
          "base_uri": "https://localhost:8080/"
        },
        "id": "T-ultF9RhU6n",
        "outputId": "6779dfa0-40c1-4d26-ba12-f3b393b729b6"
      },
      "execution_count": 69,
      "outputs": [
        {
          "output_type": "stream",
          "name": "stdout",
          "text": [
            " Could not detect hiring cost and/or hire count.\n"
          ]
        }
      ]
    },
    {
      "cell_type": "markdown",
      "source": [
        "# **3️⃣ Absenteeism Rate**\n",
        "Formula:\n",
        "\n",
        "Absenteeism Rate\n",
        "=\n",
        "Total Absent Days/\n",
        "Total Work Days\n",
        "×\n",
        "100\n"
      ],
      "metadata": {
        "id": "vPv4UcVqhfZI"
      }
    },
    {
      "cell_type": "code",
      "source": [
        "def calculate_absenteeism_rate(df):\n",
        "    \"\"\"Detects absence-related data and calculates absenteeism rate.\"\"\"\n",
        "    numeric_cols = df.select_dtypes(include=['number']).columns\n",
        "\n",
        "    total_absent_days = None\n",
        "    total_work_days = None\n",
        "\n",
        "    for col in numeric_cols:\n",
        "        if 'absent' in col.lower():\n",
        "            total_absent_days = df[col].sum()\n",
        "        elif 'work' in col.lower() and 'days' in col.lower():\n",
        "            total_work_days = df[col].sum()\n",
        "\n",
        "    if total_absent_days and total_work_days:\n",
        "        absenteeism_rate = (total_absent_days / total_work_days) * 100\n",
        "        print(f\" **Absenteeism Rate:** {absenteeism_rate:.2f}%\")\n",
        "    else:\n",
        "        print(\" Could not detect absenteeism data.\")\n",
        "\n"
      ],
      "metadata": {
        "colab": {
          "base_uri": "https://localhost:8080/"
        },
        "id": "kUpyTYq9hdaU",
        "outputId": "6227ccb0-08d8-4504-c015-9c294c212057"
      },
      "execution_count": 70,
      "outputs": [
        {
          "output_type": "stream",
          "name": "stdout",
          "text": [
            " Could not detect absenteeism data.\n"
          ]
        }
      ]
    },
    {
      "cell_type": "markdown",
      "source": [
        "# **4️⃣ Employee Growth Rate**\n",
        "Formula:\n",
        "\n",
        "Growth Rate\n",
        "=\n",
        "New Employees\n",
        "−\n",
        "Departed Employees/\n",
        "Previous Employees\n",
        "×\n",
        "100\n"
      ],
      "metadata": {
        "id": "2cZ96PoXhxrH"
      }
    },
    {
      "cell_type": "code",
      "source": [
        "def calculate_employee_growth_rate(df):\n",
        "    \"\"\"Detects employee hiring & departure data to compute growth rate.\"\"\"\n",
        "    numeric_cols = df.select_dtypes(include=['number']).columns\n",
        "\n",
        "    new_hires = None\n",
        "    departures = None\n",
        "    previous_count = None\n",
        "\n",
        "    for col in numeric_cols:\n",
        "        if 'new' in col.lower() and 'hire' in col.lower():\n",
        "            new_hires = df[col].sum()\n",
        "        elif 'depart' in col.lower() or 'left' in col.lower():\n",
        "            departures = df[col].sum()\n",
        "        elif 'total' in col.lower() and 'employee' in col.lower():\n",
        "            previous_count = df[col].iloc[0]  # Assuming it's cumulative over time\n",
        "\n",
        "    if new_hires and departures and previous_count:\n",
        "        growth_rate = ((new_hires - departures) / previous_count) * 100\n",
        "        print(f\" **Employee Growth Rate:** {growth_rate:.2f}%\")\n",
        "    else:\n",
        "        print(\" Could not detect sufficient growth data.\")\n",
        "\n"
      ],
      "metadata": {
        "colab": {
          "base_uri": "https://localhost:8080/"
        },
        "id": "MGHwSPirh5b9",
        "outputId": "6d564465-3434-4384-c104-1cca1f0f9b71"
      },
      "execution_count": 71,
      "outputs": [
        {
          "output_type": "stream",
          "name": "stdout",
          "text": [
            " Could not detect sufficient growth data.\n"
          ]
        }
      ]
    },
    {
      "cell_type": "markdown",
      "source": [
        "# **5️⃣ Retention Rate**\n",
        "Formula:\n",
        "\n",
        "Retention Rate\n",
        "=\n",
        "(\n",
        "1\n",
        "−\n",
        "Employees Left/\n",
        "Total Employees\n",
        ")\n",
        "×\n",
        "100\n",
        "\n"
      ],
      "metadata": {
        "id": "J9p2FMSSiCyX"
      }
    },
    {
      "cell_type": "code",
      "source": [
        "def calculate_retention_rate(df):\n",
        "    \"\"\"Detects employee departures & total count to compute retention rate.\"\"\"\n",
        "    numeric_cols = df.select_dtypes(include=['number']).columns\n",
        "\n",
        "    total_employees = None\n",
        "    employees_left = None\n",
        "\n",
        "    for col in numeric_cols:\n",
        "        if 'total' in col.lower() and 'employee' in col.lower():\n",
        "            total_employees = df[col].max()\n",
        "        elif 'left' in col.lower() or 'turnover' in col.lower():\n",
        "            employees_left = df[col].sum()\n",
        "\n",
        "    if total_employees and employees_left:\n",
        "        retention_rate = (1 - (employees_left / total_employees)) * 100\n",
        "        print(f\" **Retention Rate:** {retention_rate:.2f}%\")\n",
        "    else:\n",
        "        print(\" Could not detect retention data.\")\n",
        "\n"
      ],
      "metadata": {
        "colab": {
          "base_uri": "https://localhost:8080/"
        },
        "id": "CtS6PHRhiKIq",
        "outputId": "09fb5658-0969-4b48-b3de-449c200a0dad"
      },
      "execution_count": 72,
      "outputs": [
        {
          "output_type": "stream",
          "name": "stdout",
          "text": [
            " Could not detect retention data.\n"
          ]
        }
      ]
    },
    {
      "cell_type": "markdown",
      "source": [
        "# **6️⃣ Revenue per Employee**\n",
        "Formula:\n",
        "\n",
        "Revenue per Employee\n",
        "=\n",
        "Total Revenue /\n",
        "Total Employees\n",
        "\n",
        "​\n"
      ],
      "metadata": {
        "id": "WIwI72RRiSp7"
      }
    },
    {
      "cell_type": "code",
      "source": [
        "def calculate_revenue_per_employee(df):\n",
        "    \"\"\"Detects revenue & employee count to compute revenue per employee.\"\"\"\n",
        "    numeric_cols = df.select_dtypes(include=['number']).columns\n",
        "\n",
        "    total_revenue = None\n",
        "    total_employees = None\n",
        "\n",
        "    for col in numeric_cols:\n",
        "        if 'revenue' in col.lower():\n",
        "            total_revenue = df[col].sum()\n",
        "        elif 'total' in col.lower() and 'employee' in col.lower():\n",
        "            total_employees = df[col].max()\n",
        "\n",
        "    if total_revenue and total_employees:\n",
        "        revenue_per_employee = total_revenue / total_employees\n",
        "        print(f\" **Revenue per Employee:** ${revenue_per_employee:.2f}\")\n",
        "    else:\n",
        "        print(\" Could not detect revenue or employee count.\")\n",
        "\n"
      ],
      "metadata": {
        "colab": {
          "base_uri": "https://localhost:8080/"
        },
        "id": "Pc95XqiPidVd",
        "outputId": "44d303f1-3e34-45da-b620-544cb68657ed"
      },
      "execution_count": 73,
      "outputs": [
        {
          "output_type": "stream",
          "name": "stdout",
          "text": [
            " Could not detect revenue or employee count.\n"
          ]
        }
      ]
    },
    {
      "cell_type": "markdown",
      "source": [
        "# **Identify Anomalies in Employee Turnover**"
      ],
      "metadata": {
        "id": "GLVdygFYjkz8"
      }
    },
    {
      "cell_type": "code",
      "source": [
        "def detect_turnover_anomalies(df):\n",
        "    \"\"\"Detects anomalies in employee turnover trends.\"\"\"\n",
        "\n",
        "    numeric_cols = df.select_dtypes(include=['number']).columns\n",
        "    turnover_col = None\n",
        "\n",
        "    # Find a turnover-related column\n",
        "    for col in numeric_cols:\n",
        "        if 'turnover' in col.lower() or 'left' in col.lower():\n",
        "            turnover_col = col\n",
        "            break\n",
        "\n",
        "    if turnover_col is None:\n",
        "        print(\" No turnover column detected!\")\n",
        "        return\n",
        "\n",
        "    # Calculate IQR for anomaly detection\n",
        "    Q1 = df[turnover_col].quantile(0.25)\n",
        "    Q3 = df[turnover_col].quantile(0.75)\n",
        "    IQR = Q3 - Q1\n",
        "    lower_bound = Q1 - 1.5 * IQR\n",
        "    upper_bound = Q3 + 1.5 * IQR\n",
        "\n",
        "    anomalies = df[(df[turnover_col] < lower_bound) | (df[turnover_col] > upper_bound)]\n",
        "\n",
        "    # Plot turnover trend with anomalies\n",
        "    plt.figure(figsize=(10, 4))\n",
        "    sns.lineplot(data=df, x=df.index, y=turnover_col, label=\"Turnover Rate\", color='b')\n",
        "    sns.scatterplot(data=anomalies, x=anomalies.index, y=turnover_col, color='r', label=\"Anomalies\", s=100)\n",
        "\n",
        "    plt.title(\" Employee Turnover Anomalies\")\n",
        "    plt.legend()\n",
        "    plt.show()\n",
        "\n",
        "    return anomalies\n",
        "\n"
      ],
      "metadata": {
        "colab": {
          "base_uri": "https://localhost:8080/"
        },
        "id": "J9_H7yjZjkhM",
        "outputId": "5326b201-c7ba-4f2b-da95-79826f81b623"
      },
      "execution_count": 74,
      "outputs": [
        {
          "output_type": "stream",
          "name": "stdout",
          "text": [
            " No turnover column detected!\n"
          ]
        }
      ]
    },
    {
      "cell_type": "markdown",
      "source": [
        "# **1️⃣ Training Completion Rate**\n",
        "🔹 Formula:\n",
        "\n",
        "Training Completion Rate\n",
        "=\n",
        "Employees who completed training /\n",
        "Total employees enrolled\n",
        "×\n",
        "100\n"
      ],
      "metadata": {
        "id": "ZR42QDQvkvCt"
      }
    },
    {
      "cell_type": "code",
      "source": [
        "def training_completion_rate(df):\n",
        "    \"\"\"Calculates the Training Completion Rate.\"\"\"\n",
        "\n",
        "    completed_col, enrolled_col = None, None\n",
        "\n",
        "    for col in df.columns:\n",
        "        if 'completed' in col.lower() and 'training' in col.lower():\n",
        "            completed_col = col\n",
        "        if 'enrolled' in col.lower() and 'training' in col.lower():\n",
        "            enrolled_col = col\n",
        "\n",
        "    if not completed_col or not enrolled_col:\n",
        "        print(\" Training completion or enrollment column not found!\")\n",
        "        return None\n",
        "\n",
        "    rate = (df[completed_col].sum() / df[enrolled_col].sum()) * 100\n",
        "    print(f\" Training Completion Rate: {rate:.2f}%\")\n",
        "    return rate\n"
      ],
      "metadata": {
        "colab": {
          "base_uri": "https://localhost:8080/"
        },
        "id": "xuoqnFaUkunX",
        "outputId": "59a4060b-ed75-41c8-a5ec-6b5b4871e304"
      },
      "execution_count": 75,
      "outputs": [
        {
          "output_type": "stream",
          "name": "stdout",
          "text": [
            " Training completion or enrollment column not found!\n"
          ]
        }
      ]
    },
    {
      "cell_type": "markdown",
      "source": [
        "# **Time to Completion**"
      ],
      "metadata": {
        "id": "rm-3W4UXlw_q"
      }
    },
    {
      "cell_type": "code",
      "source": [
        "def average_training_time(df):\n",
        "    \"\"\"Calculates the average time taken to complete training.\"\"\"\n",
        "\n",
        "    duration_col = None\n",
        "\n",
        "    for col in df.columns:\n",
        "        if 'Training Duration(Days)' in col.lower() and 'Training Program Name' in col.lower():\n",
        "            duration_col = col\n",
        "            break\n",
        "\n",
        "    if not duration_col:\n",
        "        print(\" Training time column not found!\")\n",
        "        return None\n",
        "\n",
        "    avg_time = df[duration_col].mean()\n",
        "    print(f\" Average Training Completion Time: {avg_time:.2f} days\")\n",
        "    return avg_time\n"
      ],
      "metadata": {
        "colab": {
          "base_uri": "https://localhost:8080/"
        },
        "id": "5h93aLn5l1Qs",
        "outputId": "22b4a34e-6fb3-4270-cb28-f8b165063e4d"
      },
      "execution_count": 76,
      "outputs": [
        {
          "output_type": "stream",
          "name": "stdout",
          "text": [
            " Training time column not found!\n"
          ]
        }
      ]
    },
    {
      "cell_type": "markdown",
      "source": [
        "# **Training Expenses per Employee**\n",
        "🔹 Formula:\n",
        "\n",
        "Training Expenses per Employee\n",
        "=\n",
        "Total Training Cost /\n",
        "Total Employees\n",
        "\n"
      ],
      "metadata": {
        "id": "JIwq4p65mnvx"
      }
    },
    {
      "cell_type": "code",
      "source": [
        "def training_expenses_per_employee(df):\n",
        "    \"\"\"Calculates training expenses per employee.\"\"\"\n",
        "\n",
        "    cost_col, employee_col = None, None\n",
        "\n",
        "    for col in df.columns:\n",
        "        if 'Employee ID' in col.lower() and 'Training Cost' in col.lower():\n",
        "            cost_col = col\n",
        "        if 'Employee ID' in col.lower() and 'count' in col.lower():\n",
        "            employee_col = col\n",
        "\n",
        "    if not cost_col or not employee_col:\n",
        "        print(\"Training cost or employee count column not found!\")\n",
        "        return None\n",
        "\n",
        "    expense = df[cost_col].sum() / df[employee_col].sum()\n",
        "    print(f\"Training Expenses per Employee: ${expense:.2f}\")\n",
        "    return expense\n"
      ],
      "metadata": {
        "colab": {
          "base_uri": "https://localhost:8080/"
        },
        "id": "uc79drBcmrvd",
        "outputId": "9101c11a-c696-4f1d-92b7-7e14c2c7d0fa"
      },
      "execution_count": 80,
      "outputs": [
        {
          "output_type": "stream",
          "name": "stdout",
          "text": [
            "Training cost or employee count column not found!\n"
          ]
        }
      ]
    },
    {
      "cell_type": "code",
      "source": [
        "def employee_performance(df):\n",
        "    \"\"\"Calculates the average employee performance score.\"\"\"\n",
        "\n",
        "    performance_col = None\n",
        "\n",
        "    for col in df.columns:\n",
        "        if 'Current Employee Rating' in col.lower() and 'Employee ID' in col.lower():\n",
        "            performance_col = col\n",
        "            break\n",
        "\n",
        "    if not performance_col:\n",
        "        print(\" Employee performance column not found!\")\n",
        "        return None\n",
        "\n",
        "    avg_score = df[performance_col].mean()\n",
        "    print(f\" Average Employee Performance Score: {avg_score:.2f}\")\n",
        "    return avg_score\n"
      ],
      "metadata": {
        "colab": {
          "base_uri": "https://localhost:8080/"
        },
        "id": "rFPBJxVIncPd",
        "outputId": "9308827e-6c8a-4878-86fb-3290b254bd8a"
      },
      "execution_count": 82,
      "outputs": [
        {
          "output_type": "stream",
          "name": "stdout",
          "text": [
            " Employee performance column not found!\n"
          ]
        }
      ]
    },
    {
      "cell_type": "code",
      "source": [
        "def revenue_per_employee(df):\n",
        "    \"\"\"Calculates revenue per employee.\"\"\"\n",
        "\n",
        "    revenue_col, employee_col = None, None\n",
        "\n",
        "    for col in df.columns:\n",
        "        if 'revenue' in col.lower():\n",
        "            revenue_col = col\n",
        "        if 'employee' in col.lower() and 'count' in col.lower():\n",
        "            employee_col = col\n",
        "\n",
        "    if not revenue_col or not employee_col:\n",
        "        print(\"Revenue or employee count column not found!\")\n",
        "        return None\n",
        "\n",
        "    revenue = df[revenue_col].sum() / df[employee_col].sum()\n",
        "    print(f\"Revenue per Employee: ${revenue:.2f}\")\n",
        "    return revenue\n"
      ],
      "metadata": {
        "id": "MyXhvlNRn2i9"
      },
      "execution_count": 85,
      "outputs": []
    },
    {
      "cell_type": "code",
      "source": [
        "def absence_rate(df):\n",
        "    \"\"\"Calculates employee absence rate.\"\"\"\n",
        "\n",
        "    absence_col, workdays_col = None, None\n",
        "\n",
        "    for col in df.columns:\n",
        "        if 'absence' in col.lower() and 'days' in col.lower():\n",
        "            absence_col = col\n",
        "        if 'work' in col.lower() and 'days' in col.lower():\n",
        "            workdays_col = col\n",
        "\n",
        "    if not absence_col or not workdays_col:\n",
        "        print(\"Absence or workdays column not found!\")\n",
        "        return None\n",
        "\n",
        "    rate = (df[absence_col].sum() / df[workdays_col].sum()) * 100\n",
        "    print(f\"Absence Rate: {rate:.2f}%\")\n",
        "    return rate\n"
      ],
      "metadata": {
        "id": "jSBNR1qYn344"
      },
      "execution_count": null,
      "outputs": []
    },
    {
      "cell_type": "code",
      "source": [
        "def absence_rate_per_manager(df):\n",
        "    \"\"\"Calculates absence rate grouped by manager or department.\"\"\"\n",
        "\n",
        "    manager_col, absence_col = None, None\n",
        "\n",
        "    for col in df.columns:\n",
        "        if 'manager' in col.lower() or 'department' in col.lower():\n",
        "            manager_col = col\n",
        "        if 'absence' in col.lower():\n",
        "            absence_col = col\n",
        "\n",
        "    if not manager_col or not absence_col:\n",
        "        print(\"Manager or absence column not found!\")\n",
        "        return None\n",
        "\n",
        "    result = df.groupby(manager_col)[absence_col].mean().reset_index()\n",
        "    print(\"Absence Rate per Manager:\")\n",
        "    print(result)\n",
        "    return result\n"
      ],
      "metadata": {
        "id": "N68Lg-hnn8h_"
      },
      "execution_count": null,
      "outputs": []
    },
    {
      "cell_type": "code",
      "source": [
        "def overtime_hours(df):\n",
        "    \"\"\"Calculates the average overtime hours per employee.\"\"\"\n",
        "\n",
        "    overtime_col = None\n",
        "\n",
        "    for col in df.columns:\n",
        "        if 'overtime' in col.lower() and 'hours' in col.lower():\n",
        "            overtime_col = col\n",
        "            break\n",
        "\n",
        "    if not overtime_col:\n",
        "        print(\" Overtime hours column not found!\")\n",
        "        return None\n",
        "\n",
        "    avg_overtime = df[overtime_col].mean()\n",
        "    print(f\"Average Overtime Hours: {avg_overtime:.2f} hours\")\n",
        "    return avg_overtime\n"
      ],
      "metadata": {
        "id": "8OhmP2-voAXS"
      },
      "execution_count": null,
      "outputs": []
    }
  ]
}